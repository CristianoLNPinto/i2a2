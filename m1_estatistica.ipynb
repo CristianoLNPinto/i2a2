{
 "cells": [
  {
   "cell_type": "markdown",
   "metadata": {},
   "source": [
    "[<center><img src=\"images/Logo_I2A2.webp\"></center>](https://www.i2a2.ca/)         \n",
    "Rev 1"
   ]
  },
  {
   "cell_type": "markdown",
   "metadata": {
    "slideshow": {
     "slide_type": "slide"
    }
   },
   "source": [
    "# Módulo 1 "
   ]
  },
  {
   "cell_type": "markdown",
   "metadata": {},
   "source": [
    "## Aula 2: Estatística\n",
    "\n",
    "**Objetivos**: Revisitar o conceito de estatística e suas aplicações em Inteligência Artificial."
   ]
  },
  {
   "cell_type": "markdown",
   "metadata": {},
   "source": [
    "Este material o auxiliará nas sessões de autoestudo, contudo, fique à vontade para consultar outras fontes de informações, mas nunca deixe de citá-las."
   ]
  },
  {
   "cell_type": "markdown",
   "metadata": {},
   "source": [
    "# Estatística Descritiva x Inferêncial\n",
    "Sua primeira tarefa é entender os conceitos de **Estatística Descritiva e Estatística Inferêncial**. Assista o vídeo abaixo e identifique o que cada uma destas duas categórias tratam:\n",
    "[![Introdução à Estatística: média, mediana e moda](https://img.youtube.com/vi/DW4s-gw9wu0/hqdefault.jpg)](https://youtu.be/DW4s-gw9wu0 \"Introdução à Estatística: média, mediana e moda\")"
   ]
  },
  {
   "cell_type": "markdown",
   "metadata": {},
   "source": [
    "# Tipo de variáveis\n",
    "\n",
    "Agora você deve identificar os tipos de variáveis e suas definições e exemplos. O vídeo abaixo pode te ajudar.\n",
    "[![Tipos de variaveis](https://img.youtube.com/vi/1zy6DTHQDzM/hqdefault.jpg)](https://youtu.be/1zy6DTHQDzM \"Tipos de variaveis\")"
   ]
  },
  {
   "cell_type": "markdown",
   "metadata": {},
   "source": [
    "## Qual o melhor gráfico para cada tipo de variável?      \n",
    "* O portal [Data-to-viz](https://www.data-to-viz.com/) possui uma árvore de decisão que pode nos ajudar a responder esta questão.        \n",
    "Ex.: qual tipo de gráfico você utilizaria para apresentar DUAS variaveis quantitativas contínuas, não ordenadas, com cerca de 800 pontos cada?  \n",
    "Explore o portal [Data-to-viz](https://www.data-to-viz.com/) e tente responder essa questão!  \n",
    "\n",
    "* Ainda no portal, tente identificar quais as diferenças na utilização de um gráfico de barras (barplot) e um histograma (histogram)?   \n",
    "\n",
    "* Acesse ainda no portal um tipo de gráfico qualquer e clique em \"Python gallery\" para ver exemplos de código em python.        \n",
    "\n",
    "* A visualização de dados é uma área fascinante, veja o vídeo de [Hans Rosling](https://www.publico.pt/2017/02/07/ciencia/noticia/morreu-hans-rosling-o-homem-que-fazia-os-numeros-cantar-1761223) 200 países, 200 anos, 4 minutos.   \n",
    "Que insights (sacada) você teve neste vídeo?\n",
    "[![200 países, 200 anos, 4 minutos](https://img.youtube.com/vi/fJ6y8ZJMoqM/hqdefault.jpg)](https://youtu.be/fJ6y8ZJMoqM \"200 países, 200 anos, 4 minutos\")\n",
    "\n",
    "### quer saber mais?   \n",
    "* [Gráficos](htthttps://www.youtube.com/watch?v=gBOer0OnF4c&list=PLxI8Can9yAHeeWqe3m9HZFiBhT33Mfxew&index=8ps://www.youtube.com/watch?v=0R-UQLRk4VI&list=PLxI8Can9yAHeeWqe3m9HZFiBhT33Mfxew&index=9)        \n",
    "* [Tabelas](https://www.youtube.com/watch?v=gBOer0OnF4c&list=PLxI8Can9yAHeeWqe3m9HZFiBhT33Mfxew&index=8)"
   ]
  },
  {
   "cell_type": "markdown",
   "metadata": {},
   "source": [
    "## Análises Univariadas, Bivariadas e Multivariadas\n",
    "\n",
    "Pesquise livremente o que são cada uma destas análises, incluindo ainda os conceitos de:\n",
    "- Medidas de tendência central;\n",
    "- Medidadas de dispersão;\n",
    "- Formas de distribuição: curtose (kurtosis), assimetria (skewness);\n",
    "- Tabulação cruzada (cross-tabulations);\n",
    "- Tabelas de contigência (contingency tables);\n",
    "- Gráficos de dispersão (scatterplots).\n",
    "\n",
    "**Ah! não esqueça de citar as fontes consultadas.**\n",
    "\n",
    "Algumas sugestões: \n",
    "\n",
    "   - [Univesp](https://www.youtube.com/watch?v=efy2kjExwTU&list=PLxI8Can9yAHeeWqe3m9HZFiBhT33Mfxew&index=11)    \n",
    "    \n",
    "   - [khanacademy](https://pt.khanacademy.org/math/statistics-probability/displaying-describing-data/comparing-features-distributions/v/shapes-of-distributions)"
   ]
  },
  {
   "cell_type": "markdown",
   "metadata": {},
   "source": [
    "# Estatística Inferêncial\n",
    "\n",
    "Pesquise livremente por:\n",
    "  - Inferência Frequentista (classica);\n",
    "  - Inferência Bayesiana.\n",
    "\n",
    "Sugestões:   \n",
    "   - [IBPAD](https://www.ibpad.com.br/blog/o-que-e-estatistica-bayesiana/)          \n",
    "   - [Storopoli](https://storopoli.io/Estatistica-Bayesiana/0-Estatistica-Bayesiana.html)\n"
   ]
  },
  {
   "cell_type": "markdown",
   "metadata": {},
   "source": [
    "# Estatística x Machine Learning\n",
    "\n",
    "* Sua missão agora é compreender as conexões entre Estatística e Machine Learning.        \n",
    "Pesquise aqui:     \n",
    "    - [programmersought](https://www.programmersought.com/article/69513415524/)   \n",
    "    - [machinelearningmastery](https://machinelearningmastery.com/statistical-methods-in-an-applied-machine-learning-project/)\n",
    "\n",
    "\n",
    "* Assista o vídeo abaixo:   \n",
    "[![Estatística vs. Machine Learning](https://img.youtube.com/vi/ZXFCVS3n_n4/hqdefault.jpg)](https://youtu.be/ZXFCVS3n_n4 \"Estatística vs. Machine Learning\")     \n",
    "\n",
    "\n",
    "* Leia o artigo [Uma viagem de sete décadas na Inteligência Artificial](https://awaridados.substack.com/p/viagem-sete-decadas-inteligencia-artificial), em especial a parte **Estatística se torna Data Science, entra em campo e conduz o jogo**      \n",
    "\n",
    "\n",
    "* Quem ser um Ciêntista de Dados?\n",
    "- Veja estes 8 passos ...\n",
    "<center><img src=\"images/DataScienceEightSteps_Full.png\"></center>"
   ]
  },
  {
   "cell_type": "markdown",
   "metadata": {},
   "source": [
    "# Quer saber mais\n",
    "\n",
    "* Leia o artigo: [Inteligência Artificial no Contexto da Indústria 4.0](https://sol.sbc.org.br/index.php/wics/article/view/11044)\n",
    "\n",
    "* Explore o portal [Estatística para todos](https://sites.google.com/view/projetoestatsticapara/in%C3%ADcio) do prof. Anibal Azevedo"
   ]
  },
  {
   "cell_type": "markdown",
   "metadata": {},
   "source": [
    "# Gosta de livros, abaixo temos alguns:    \n",
    "[Probabilidade e Estatística - Sonia Maria Barros Barbosa Correa](http://estpoli.pbworks.com/f/livro_probabilidade_estatistica_2a_ed.pdf)      \n",
    "\n",
    "[Matemática Estatística e Probabilidade - Jorge Luiz de Castro e Silva et al](https://educapes.capes.gov.br/bitstream/capes/554261/2/Livro%20Estatistica%20e%20Probabilidade%20.pdf)   \n",
    "\n",
    "[Introduction to Probability for Data Science - Stanley H. Chan](https://probability4datascience.com/)"
   ]
  },
  {
   "cell_type": "markdown",
   "metadata": {},
   "source": [
    "Qualquer dúvida, poste no fórum da disciplina.\n",
    "### Te vejo na tutoria!"
   ]
  }
 ],
 "metadata": {
  "kernelspec": {
   "display_name": "Python 3",
   "language": "python",
   "name": "python3"
  },
  "language_info": {
   "codemirror_mode": {
    "name": "ipython",
    "version": 3
   },
   "file_extension": ".py",
   "mimetype": "text/x-python",
   "name": "python",
   "nbconvert_exporter": "python",
   "pygments_lexer": "ipython3",
   "version": "3.8.10"
  },
  "rise": {
   "autolaunch": true,
   "enable_chalkboard": true,
   "progress": true,
   "scroll": true,
   "slideNumber": true
  }
 },
 "nbformat": 4,
 "nbformat_minor": 4
}
