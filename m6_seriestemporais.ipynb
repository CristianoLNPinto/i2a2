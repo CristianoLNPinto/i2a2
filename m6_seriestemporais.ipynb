{
 "cells": [
  {
   "cell_type": "markdown",
   "metadata": {},
   "source": [
    "[<center><img src=\"images/Logo_I2A2.webp\"></center>](https://www.i2a2.ca/)         \n",
    "Rev 2"
   ]
  },
  {
   "cell_type": "markdown",
   "metadata": {},
   "source": [
    "# Módulo 6"
   ]
  },
  {
   "cell_type": "markdown",
   "metadata": {
    "slideshow": {
     "slide_type": "slide"
    }
   },
   "source": [
    "# Aula 2 - parte 2: Séries Temporais\n",
    "\n",
    "**Objetivo**: Apresentar os conceitos de séries temporais"
   ]
  },
  {
   "cell_type": "markdown",
   "metadata": {},
   "source": [
    "Este material o auxiliará nas sessões de autoestudo, contudo, fique à vontade para consultar outras fontes de informações, mas nunca deixe de citá-las."
   ]
  },
  {
   "cell_type": "markdown",
   "metadata": {},
   "source": [
    "\n",
    "# Séries Temporais\n",
    "\n",
    "* O que são séries temporais?\n",
    "\n",
    "   - Veja o vídeo do prof. Fernando Amaral\n",
    "[![serietemp](https://img.youtube.com/vi/0RbUk3pjSKY/hqdefault.jpg)](https://youtu.be/0RbUk3pjSKY \"serietemp\") \n",
    "\n",
    "\n",
    "   - Leia a [Introdução a séries temporal](https://sites.icmc.usp.br/ehlers/SME0808/st1.pdf) do prof. Ricardo Ehlers.\n",
    "   \n",
    "   - Assista ao vídeo **Séries temporais com Python**\n",
    "\n",
    "[![serietemp](https://img.youtube.com/vi/1m9u10eJ3Mk/hqdefault.jpg)](https://youtu.be/1m9u10eJ3Mk \"serietemp\") \n",
    "\n",
    "   - Veja a plalist do curso **Séries Temporais com python/pandas/statsmodels** ...\n",
    "[![serietemp](https://img.youtube.com/vi/JuG8hwVK5uQ/hqdefault.jpg)](https://www.youtube.com/watch?v=JuG8hwVK5uQ&list=PL5fQ3JoS0SZscDaHgXahtx632NMnq5RR- \"serietemp\") \n",
    "\n",
    "   - Leia o artigo [Time Series Forecasting: Data, Analysis, and Practice](https://neptune.ai/blog/time-series-forecasting)\n",
    "   \n",
    "   - Assista a live do Mario Filho\n",
    "\n",
    "[![mariofilho](https://img.youtube.com/vi/vFUKOJ-HwoA/hqdefault.jpg)](https://youtu.be/vFUKOJ-HwoA?t=354 \"mariofilho\") "
   ]
  },
  {
   "cell_type": "markdown",
   "metadata": {},
   "source": [
    "# Prophet\n",
    "\n",
    "* Já ouviu falar do [Prophet](https://facebook.github.io/prophet/docs/quick_start.html)?\n",
    "   \n",
    "[![prophet](https://img.youtube.com/vi/CW1PZwNG-wQ/hqdefault.jpg)](https://youtu.be/CW1PZwNG-wQ \"prophet\")  "
   ]
  },
  {
   "cell_type": "markdown",
   "metadata": {},
   "source": [
    "# Quer saber mais\n",
    "\n",
    "* Explore o site da disciplina [Séries Temporais](https://sites.icmc.usp.br/ehlers/SME0808/) do prof. Ricardo Ehlers\n",
    "\n",
    "* Assista ao vídeo **Obtenção de Tendências em Séries Temporais utilizando Transformada Wavelet com Python** ...\n",
    "\n",
    "[![serietemp](https://img.youtube.com/vi/LNm_d6Te76U/hqdefault.jpg)](https://youtu.be/LNm_d6Te76U \"serietemp\") \n",
    "\n",
    "* Leia o artigo [Time series analysis in Python](https://medium.com/open-machine-learning-course/open-machine-learning-course-topic-9-time-series-analysis-in-python-a270cb05e0b3)\n",
    "\n",
    "* Veja o projeto [Análise e Previsão de Séries Temporais: Covid](https://www.kaggle.com/mauriciofigueiredo/an-lise-e-previs-o-de-s-ries-temporais-covid) no Kaggle\n",
    "\n",
    "* Assista ao vídeo **Séries temporais com Orange**\n",
    "\n",
    "[![orange](https://img.youtube.com/vi/LWANy9etiAs/hqdefault.jpg)](https://youtu.be/LWANy9etiAs \"orange\")\n",
    "\n",
    "* Faça o curso grátis [Time Series Forecasting](https://www.udacity.com/course/time-series-forecasting--ud980) da Udacity\n",
    "\n",
    "* Explore a [curadoria de conteudos](https://storage.googleapis.com/deepmind-media/research/New_AtHomeWithAI%20resources.pdf) da DeepMind"
   ]
  },
  {
   "cell_type": "markdown",
   "metadata": {},
   "source": [
    "# Gosta de livros ...  \n",
    "\n",
    "\n",
    "[ANÁLISE DE SERIES TEMPORAIS - EHLERS](http://www.each.usp.br/rvicente/AnaliseDeSeriesTemporais.pdf)\n",
    "\n",
    "[Forecasting: Principles and Practice - Hyndman and Athanasopoulos](https://otexts.com/fpp2/)\n",
    "\n",
    "[Outra versão](https://otexts.com/fpp3/)"
   ]
  },
  {
   "cell_type": "markdown",
   "metadata": {},
   "source": [
    "Qualquer dúvida, poste no fórum da disciplina.\n",
    "### Te vejo na mentoria!"
   ]
  }
 ],
 "metadata": {
  "kernelspec": {
   "display_name": "Python 3",
   "language": "python",
   "name": "python3"
  },
  "language_info": {
   "codemirror_mode": {
    "name": "ipython",
    "version": 3
   },
   "file_extension": ".py",
   "mimetype": "text/x-python",
   "name": "python",
   "nbconvert_exporter": "python",
   "pygments_lexer": "ipython3",
   "version": "3.8.10"
  },
  "rise": {
   "autolaunch": true,
   "enable_chalkboard": true,
   "progress": true,
   "scroll": true,
   "slideNumber": true
  }
 },
 "nbformat": 4,
 "nbformat_minor": 4
}
