{
 "cells": [
  {
   "cell_type": "markdown",
   "metadata": {},
   "source": [
    "<center><img src=\"images/Logo_I2A2.webp\"></center>"
   ]
  },
  {
   "cell_type": "markdown",
   "metadata": {
    "slideshow": {
     "slide_type": "slide"
    }
   },
   "source": [
    "# Aula 1: Jupyter Notebook\n",
    "\n",
    "**Objetivo**: Apresentar o ambiente Jupyter Notebook."
   ]
  },
  {
   "cell_type": "markdown",
   "metadata": {
    "slideshow": {
     "slide_type": "slide"
    }
   },
   "source": [
    "O **Projeto Jupyter** é uma organização sem fins lucrativos criada para \"desenvolver software de código aberto, padrões abertos e serviços para **computação interativa** em dezenas de linguagens de programação\". Originado do IPython em 2014, o Projeto Jupyter **suporta ambientes de execução em dezenas de linguagens de programação**. O nome do projeto é uma referência às três principais linguagens de programação suportadas por Jupyter, **Julia, Python e R**, e também uma **homenagem aos cadernos de anotações de Galileu** que registram a descoberta das luas de Júpiter. ([Wikipédia](https://pt.wikipedia.org/wiki/Projeto_Jupyter))"
   ]
  },
  {
   "cell_type": "markdown",
   "metadata": {},
   "source": [
    "### 1) Instalando o Jupyter Notebook\n",
    "Consulte o documento [Introdução ao Jupyter Notebook](https://letscode.com.br/blog/introducao-ao-jupyter-notebook) e instale o **Jupyter Notebook** no seu computador. Atente que há duas opções de instalação - utilizando o PIP ou instalando a [distribuição Anaconda](https://www.anaconda.com/products/individual) - caso você ainda não tenha o [python](https://www.python.org/) instalado em sua máquina, opte em instalar utilizando o Anaconda."
   ]
  },
  {
   "cell_type": "markdown",
   "metadata": {},
   "source": [
    "### 2) Utilizando o Jupyter Notebook\n",
    "\n",
    "Agora que você já instalou o Jupyter na sua máquina, assista o vídeo abaixo e aprenda como utilizar as funcionalidades e recursos da ferramenta.\n",
    "\n",
    "[<img src=\"images/jupyternotebook.png\" alt=\"jupyter\" style=\"width: 500px;\" align=\"left\"/>](https://youtu.be/szP9IRbwO9o)   "
   ]
  },
  {
   "cell_type": "markdown",
   "metadata": {},
   "source": [
    "#### Obs.: Provavelmente a aba __nbextensions__, apresenta no vídeo, não deve estar aparecendo no seu Jupyter Notebook :(   \n",
    "Veja neste [link](https://jupyter-contrib-nbextensions.readthedocs.io/en/latest/install.html) os detalhes para instalação desta entensão; basicamente envolve os comandos abaixo:"
   ]
  },
  {
   "cell_type": "code",
   "execution_count": null,
   "metadata": {},
   "outputs": [],
   "source": [
    "!pip install jupyter_contrib_nbextensions"
   ]
  },
  {
   "cell_type": "code",
   "execution_count": null,
   "metadata": {},
   "outputs": [],
   "source": [
    "!jupyter contrib nbextension install --user"
   ]
  },
  {
   "cell_type": "markdown",
   "metadata": {},
   "source": [
    "Depois de instalar, atualize seu navegador <F5> e verifique se a aba  __nbextensions__ aparece."
   ]
  },
  {
   "cell_type": "markdown",
   "metadata": {
    "slideshow": {
     "slide_type": "fragment"
    }
   },
   "source": [
    "## 3) Documentação\n",
    "\n",
    "Documentação Jupyter Notebook: https://jupyter-notebook.readthedocs.io/en/stable/\n",
    "\n",
    "Lista de Kernels: https://github.com/jupyter/jupyter/wiki/Jupyter-kernels"
   ]
  },
  {
   "cell_type": "markdown",
   "metadata": {
    "slideshow": {
     "slide_type": "slide"
    }
   },
   "source": [
    "## 4) Arquivos\n",
    "\n",
    "Notebooks são documentos `JSON` com extensão `.ipynb` (**iPy**thon **N**ote**b**ook) \n",
    "\n",
    "Trabalha com células:\n",
    "* Código\n",
    "* [Markdown](https://www.markdownguide.org/getting-started/)"
   ]
  },
  {
   "cell_type": "markdown",
   "metadata": {
    "slideshow": {
     "slide_type": "subslide"
    }
   },
   "source": [
    "### Célula de Código"
   ]
  },
  {
   "cell_type": "code",
   "execution_count": null,
   "metadata": {
    "slideshow": {
     "slide_type": "slide"
    }
   },
   "outputs": [],
   "source": [
    "# Isto é uma celula de código\n",
    "# Click no botão **Run** para excutá-la:\n",
    "print('Quantos cocos carrega uma andorinha?')"
   ]
  },
  {
   "cell_type": "markdown",
   "metadata": {
    "slideshow": {
     "slide_type": "subslide"
    }
   },
   "source": [
    "### Célula Markdown\n",
    "\n",
    "Veja documentação em: https://www.markdownguide.org/cheat-sheet/\n",
    "\n",
    "* LaTeX com entre dólar ( \\\\$ ): $P(A|B) = \\frac{P(B|A) P(A)}{P(B)}$\n",
    "* Código entre (\\```)\n",
    "```python\n",
    "print('Qual a velocidade de voo de uma andorinha sem carga?')\n",
    "```"
   ]
  },
  {
   "cell_type": "markdown",
   "metadata": {
    "slideshow": {
     "slide_type": "slide"
    }
   },
   "source": [
    "## 5) Comandos de Células\n",
    "\n",
    "* Para rodar a célula aperte `Shift + Enter`\n",
    "* Modo Comando `Esc`\n",
    "* Modo Edição `Enter`\n",
    "* Para inserir nova célula aperte `a` (para **antes** da célula selecionada) ou `b` (para **depois** da célula selecionada)\n",
    "* Para deletar célula aperte duas vezes `d` (delete)\n",
    "* Copiar célula(s) selecionada(s) aperte `c` (copy)\n",
    "* Colar célula(s) copiada(s) aperte `v` (paste)\n",
    "* Mudar tipo:\n",
    "    * Code `y`\n",
    "    * Markdown `m`"
   ]
  },
  {
   "cell_type": "markdown",
   "metadata": {},
   "source": [
    "## 6) Rodando este notebook na nuvem\n",
    "\n",
    "Você pode utilizar o [GoogleColab](https://research.google.com/colaboratory/intl/pt-BR/faq.html) ou ainda o [myBinder](https://mybinder.org/) para desenvolver e executar seus notebooks na nuvem."
   ]
  },
  {
   "cell_type": "markdown",
   "metadata": {},
   "source": [
    "Utilize este botão para executar este notebook no Colab\n",
    "[![Open In Colab](https://colab.research.google.com/assets/colab-badge.svg)](https://colab.research.google.com/github/vsvasconcelos/i2a2/blob/main/Aula_1_Jupyter.ipynb)"
   ]
  },
  {
   "cell_type": "markdown",
   "metadata": {},
   "source": [
    "Utilize este botão para executar este notebook no myBinder\n",
    "[![Binder](https://mybinder.org/badge_logo.svg)](https://mybinder.org/v2/gh/vsvasconcelos/i2a2/main?filepath=Aula_1_Jupyter.ipynb)"
   ]
  },
  {
   "cell_type": "markdown",
   "metadata": {
    "slideshow": {
     "slide_type": "slide"
    }
   },
   "source": [
    "## 7) Comandos `shell` \n",
    "\n",
    "Use o *bang* `!`"
   ]
  },
  {
   "cell_type": "code",
   "execution_count": null,
   "metadata": {
    "slideshow": {
     "slide_type": "subslide"
    }
   },
   "outputs": [],
   "source": [
    "!ls"
   ]
  },
  {
   "cell_type": "code",
   "execution_count": null,
   "metadata": {
    "slideshow": {
     "slide_type": "subslide"
    }
   },
   "outputs": [],
   "source": [
    "#Qual o diretório de trabalho?\n",
    "#Para máquinas com windows\n",
    "!%cd%"
   ]
  },
  {
   "cell_type": "code",
   "execution_count": null,
   "metadata": {},
   "outputs": [],
   "source": [
    "#Qual o diretório de trabalho?\n",
    "#Para máquinas com Linux/Mac\n",
    "!pwd"
   ]
  },
  {
   "cell_type": "markdown",
   "metadata": {
    "slideshow": {
     "slide_type": "slide"
    }
   },
   "source": [
    "## 8) Jupyter Magic\n",
    "\n",
    "Tem [diversos](https://ipython.readthedocs.io/en/stable/interactive/magics.html), mas o que eu mais uso são:\n",
    "\n",
    "* `%timeit`: Cronometra o tempo de execução de uma **expressão** `Python`\n",
    "* `%%timeit`: Cronometra o tempo de execução de uma **célula**\n",
    "\n",
    "#### Execute as células a baixo e verifique o tempo gasto para executá-las:"
   ]
  },
  {
   "cell_type": "code",
   "execution_count": null,
   "metadata": {
    "slideshow": {
     "slide_type": "subslide"
    }
   },
   "outputs": [],
   "source": [
    "%timeit 3**999999"
   ]
  },
  {
   "cell_type": "code",
   "execution_count": null,
   "metadata": {
    "slideshow": {
     "slide_type": "fragment"
    }
   },
   "outputs": [],
   "source": [
    "%%timeit\n",
    "y = 5\n",
    "x = 3**999999"
   ]
  },
  {
   "cell_type": "markdown",
   "metadata": {},
   "source": [
    "## Referências:    \n",
    "   [1] Storopoli & Souza (2020). Ciência de Dados com Python: pandas, matplotlib, Scikit-Learn, TensorFlow e PyTorch. Retrieved from https://storopoli.io/ciencia-de-dados "
   ]
  }
 ],
 "metadata": {
  "kernelspec": {
   "display_name": "Python 3",
   "language": "python",
   "name": "python3"
  },
  "language_info": {
   "codemirror_mode": {
    "name": "ipython",
    "version": 3
   },
   "file_extension": ".py",
   "mimetype": "text/x-python",
   "name": "python",
   "nbconvert_exporter": "python",
   "pygments_lexer": "ipython3",
   "version": "3.10.0"
  },
  "rise": {
   "autolaunch": true,
   "enable_chalkboard": true,
   "progress": true,
   "scroll": true,
   "slideNumber": true
  }
 },
 "nbformat": 4,
 "nbformat_minor": 4
}
