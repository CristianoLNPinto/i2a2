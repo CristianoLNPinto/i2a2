{
 "cells": [
  {
   "cell_type": "markdown",
   "metadata": {},
   "source": [
    "[<center><img src=\"images/Logo_I2A2.webp\"></center>](https://www.i2a2.ca/)"
   ]
  },
  {
   "cell_type": "markdown",
   "metadata": {
    "slideshow": {
     "slide_type": "slide"
    }
   },
   "source": [
    "# Módulo 1 "
   ]
  },
  {
   "cell_type": "markdown",
   "metadata": {},
   "source": [
    "## Aula 1: Probabilidade\n",
    "\n",
    "**Objetivos**: Revisitar o conceito de probabilidade e suas aplicações em Inteligência Artificial."
   ]
  },
  {
   "cell_type": "markdown",
   "metadata": {},
   "source": [
    "Este material o auxiliará nas sessões de autoestudo, contudo, fique à vontade para consultar outras fontes de informações, mas nunca deixe de citá-las."
   ]
  },
  {
   "cell_type": "markdown",
   "metadata": {},
   "source": [
    "# Determinístico, aleatório, estocástico e caótico\n",
    "Sua primeira tarefa é entender os conceitos de **Determinístico, aleatório, estocástico e caótico**. Assista o vídeo abaixo e procure as definições destes conceitos e ainda busque exemplificar cada um deles no nosso dia a dia. \n",
    "[![Determinístico, aleatório, estocástico e caótico](https://img.youtube.com/vi/05OcAXuVPXo/hqdefault.jpg)](https://youtu.be/05OcAXuVPXo \"Determinístico, aleatório, estocástico e caótico\")"
   ]
  },
  {
   "cell_type": "markdown",
   "metadata": {},
   "source": [
    "# Probabilidade\n",
    "Com os conceitos acima internalizados, como podemos relacioná-los com o conceito de probabilidade?    \n",
    "Sua proxima tarefa é entender o conceito de **probabilidade**. Assista o vídeo **Introdução à Teória das Probabilidade** do [Prof. Francisco Rodrigues](https://sites.icmc.usp.br/francisco/) e procure as definições para:\n",
    "- Probabilidade;\n",
    "- Espaço Amostral;\n",
    "- Evento\n",
    "[![Probabilidades - Aula 1](https://img.youtube.com/vi/7aHjkGFtbnM/hqdefault.jpg)](https://youtu.be/7aHjkGFtbnM \"Probabilidades - Aula 1\")"
   ]
  },
  {
   "cell_type": "markdown",
   "metadata": {},
   "source": [
    "Outro vídeo interessante para entender o conceito de probabilidade é listado abaixo: \n",
    "[![Probabilidade básica](https://img.youtube.com/vi/AWSkKdvJX4c/hqdefault.jpg)](https://youtu.be/AWSkKdvJX4c \"Probabilidade básica\")\n",
    "\n",
    "Este vídeo faz parte do canal da [khanacademy](https://pt.khanacademy.org/math/statistics-probability/probability-library), recomendamos a consulta."
   ]
  },
  {
   "cell_type": "markdown",
   "metadata": {},
   "source": [
    "Busque livremente pelas definições dos conceitos abaixo:\n",
    "- Experimento (Experiment);\n",
    "- Resultado (Outcome);\n",
    "- Pontos amostrais (Sample point).\n",
    "- Evento complementar (Complement).\n",
    "- Tipo de eventos.\n",
    "\n",
    "**Ah! não esqueça de citar as fontes consultadas.**"
   ]
  },
  {
   "cell_type": "markdown",
   "metadata": {},
   "source": [
    "O próximo passo é a escolha do canal da [khanacademy](https://pt.khanacademy.org/math/statistics-probability/probability-library) e/ou a [playlist](https://www.youtube.com/watch?v=HzOCwzzlGiA&list=PLSc7xcwCGNh3Ls-WARhH54WwiqB91Kyak&index=2) do Prof. Francisco Rodrigues para avançar no autoestudo de probabilidade. Outras fontes podem ser consultadas.\n",
    "O Prof. Francisco preparou ainda o [Roteiro:Introdução à Teoria das Probabilidades](https://sites.icmc.usp.br/francisco/roteiro.html), recomendamos muito a consulta."
   ]
  },
  {
   "cell_type": "markdown",
   "metadata": {},
   "source": [
    "Se você gosta de livros, abaixo temos alguns:    \n",
    "[Probabilidade e Estatística Sonia Maria Barros Barbosa Correa](http://estpoli.pbworks.com/f/livro_probabilidade_estatistica_2a_ed.pdf)     \n",
    "[Matemática Estatística e Probabilidade Jorge Luiz de Castro e Silva et al](https://educapes.capes.gov.br/bitstream/capes/554261/2/Livro%20Estatistica%20e%20Probabilidade%20.pdf)   "
   ]
  },
  {
   "cell_type": "markdown",
   "metadata": {},
   "source": [
    "Qualquer dúvida, poste no fórum da disciplina.\n",
    "### Te vejo na tutoria!"
   ]
  }
 ],
 "metadata": {
  "kernelspec": {
   "display_name": "Python 3",
   "language": "python",
   "name": "python3"
  },
  "language_info": {
   "codemirror_mode": {
    "name": "ipython",
    "version": 3
   },
   "file_extension": ".py",
   "mimetype": "text/x-python",
   "name": "python",
   "nbconvert_exporter": "python",
   "pygments_lexer": "ipython3",
   "version": "3.8.10"
  },
  "rise": {
   "autolaunch": true,
   "enable_chalkboard": true,
   "progress": true,
   "scroll": true,
   "slideNumber": true
  }
 },
 "nbformat": 4,
 "nbformat_minor": 4
}
