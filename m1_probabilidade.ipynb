{
 "cells": [
  {
   "cell_type": "markdown",
   "metadata": {},
   "source": [
    "[<center><img src=\"images/Logo_I2A2.webp\"></center>](https://www.i2a2.ca/)\n",
    "Rev 1"
   ]
  },
  {
   "cell_type": "markdown",
   "metadata": {
    "slideshow": {
     "slide_type": "slide"
    }
   },
   "source": [
    "# Módulo 1 "
   ]
  },
  {
   "cell_type": "markdown",
   "metadata": {},
   "source": [
    "## Aula 1: Probabilidade\n",
    "\n",
    "**Objetivos**: Revisitar o conceito de probabilidade e suas aplicações em Inteligência Artificial."
   ]
  },
  {
   "cell_type": "markdown",
   "metadata": {},
   "source": [
    "Este material o auxiliará nas sessões de autoestudo, contudo, fique à vontade para consultar outras fontes de informações, mas nunca deixe de citá-las."
   ]
  },
  {
   "cell_type": "markdown",
   "metadata": {},
   "source": [
    "# Por que estudar Inteligência Artificial?\n",
    "\n",
    "Estamos començando nossa jornada de aprendizagem \\0/   \n",
    "Você tem ideia como a IA (deep learning/machine learning) pode para otimizar os resultados da manufatura?\n",
    "Veja o relatório [APPLICATIONS FOR MACHINE EARNING IN ENGINEERING AND THE PHYSICAL SCIENCES](https://f.hubspotusercontent00.net/hubfs/4994459/Machine%20Learning/MACHINE_LEARNING_wp.pdf)\n",
    "\n",
    "Já ouvia falar da [Estratégia Brasileira de Inteligência Artificial -EBIA-](https://www.gov.br/mcti/pt-br/acompanhe-o-mcti/transformacaodigital/arquivosinteligenciaartificial/ia_estrategia_documento_referencia_4-979_2021.pdf)\n",
    "\n",
    "Bora começar, sucesso!"
   ]
  },
  {
   "cell_type": "markdown",
   "metadata": {},
   "source": [
    "# Determinístico, aleatório, estocástico e caótico\n",
    "Sua primeira tarefa é entender os conceitos de **Determinístico, aleatório, estocástico e caótico**. Assista o vídeo abaixo e procure as definições destes conceitos e ainda busque exemplificar cada um deles no nosso dia a dia. \n",
    "[![Determinístico, aleatório, estocástico e caótico](https://img.youtube.com/vi/05OcAXuVPXo/hqdefault.jpg)](https://youtu.be/05OcAXuVPXo \"Determinístico, aleatório, estocástico e caótico\")"
   ]
  },
  {
   "cell_type": "markdown",
   "metadata": {},
   "source": [
    "# Probabilidade\n",
    "Com os conceitos acima internalizados, como podemos relacioná-los com o conceito de probabilidade?    \n",
    "Sua proxima tarefa é entender o conceito de **probabilidade**. Assista o vídeo **Introdução à Teória das Probabilidade** do [Prof. Francisco Rodrigues](https://sites.icmc.usp.br/francisco/) e procure as definições para:\n",
    "- Probabilidade;\n",
    "- Espaço Amostral;\n",
    "- Evento\n",
    "[![Probabilidades - Aula 1](https://img.youtube.com/vi/7aHjkGFtbnM/hqdefault.jpg)](https://youtu.be/7aHjkGFtbnM \"Probabilidades - Aula 1\")"
   ]
  },
  {
   "cell_type": "markdown",
   "metadata": {},
   "source": [
    "Outro vídeo interessante para entender o conceito de probabilidade é listado abaixo: \n",
    "[![Probabilidade básica](https://img.youtube.com/vi/AWSkKdvJX4c/hqdefault.jpg)](https://youtu.be/AWSkKdvJX4c \"Probabilidade básica\")\n",
    "\n",
    "Este vídeo faz parte do canal da [khanacademy](https://pt.khanacademy.org/math/statistics-probability/probability-library), recomendamos a consulta."
   ]
  },
  {
   "cell_type": "markdown",
   "metadata": {},
   "source": [
    "Busque livremente pelas definições dos conceitos abaixo:\n",
    "- Experimento (Experiment);\n",
    "- Resultado (Outcome);\n",
    "- Pontos amostrais (Sample point).\n",
    "- Evento complementar (Complement).\n",
    "- Tipo de eventos.\n",
    "\n",
    "**Ah! não esqueça de citar as fontes consultadas.**"
   ]
  },
  {
   "cell_type": "markdown",
   "metadata": {},
   "source": [
    "Ok, mas qual a relação da probabiliadade/matemática com a IA?    \n",
    "Leia os artigos:  \n",
    "- [A Matemática da Inteligência Artificial](https://blogs.oglobo.globo.com/ciencia-matematica/post/matematica-da-inteligencia-artificial.html) e\n",
    "- [Como os modelos estatísticos se aplicam no Machine Learning](https://www.aquare.la/como-os-modelos-estatisticos-se-aplicam-no-machine-learning/)"
   ]
  },
  {
   "cell_type": "markdown",
   "metadata": {},
   "source": [
    "O próximo passo é a escolha do canal da [khanacademy](https://pt.khanacademy.org/math/statistics-probability/probability-library) e/ou a [playlist](https://www.youtube.com/watch?v=HzOCwzzlGiA&list=PLSc7xcwCGNh3Ls-WARhH54WwiqB91Kyak&index=2) do Prof. Francisco Rodrigues para avançar no autoestudo de probabilidade. Outras fontes podem ser consultadas.     \n",
    "O Prof. Francisco preparou ainda o [Roteiro:Introdução à Teoria das Probabilidades](https://sites.icmc.usp.br/francisco/roteiro.html), recomendamos muito a consulta."
   ]
  },
  {
   "cell_type": "markdown",
   "metadata": {},
   "source": [
    "# Quer saber mais ...\n",
    "\n",
    "[![prob](https://img.youtube.com/vi/LBemXHm_Ops/hqdefault.jpg)](https://youtu.be/LBemXHm_Ops \"prob\")\n",
    "\n",
    "* Veja a playlist Matemática e Inteligência Artificial\n",
    "\n",
    "[![mathIA](https://img.youtube.com/vi/SswAAOit9Iw/hqdefault.jpg)](https://www.youtube.com/watch?v=SswAAOit9Iw&list=PLEx1BRi5A-snYw9P1tmDaHz_L61IV_AvM \"mathIA\")\n",
    "\n",
    "## Diferença entre ciência de dados e pesquisa operacional\n",
    "\n",
    "   * Existe diferença? \n",
    "   * Leia os artigos:   \n",
    "       - [Diferença entre ciência de dados e pesquisa operacional](https://acervolima.com/diferenca-entre-ciencia-de-dados-e-pesquisa-operacional/);\n",
    "       - [O que é pesquisa operacional?](https://www.sobrapo.org.br/o-que-e-pesquisa-operacional).\n",
    "   * Explore a playlist [Pesquisa Operacional e Data Science](https://www.youtube.com/watch?v=qCOpsuppByU&list=PLEx1BRi5A-sm9riRrWfqXwZdvuNI68pnR)\n",
    "   \n",
    "## Curiosidades ...\n",
    "\n",
    "\n",
    "   * [10 Best Certification Courses for Artificial Intelligence- Beginner to Advanced\n",
    "](https://www.mltut.com/best-certification-courses-for-artificial-intelligence/)\n",
    "   \n",
    "   * [Por que todo profissional precisa entender IA?](https://youtu.be/gMantXmXqfM)\n",
    "\n",
    "   * [Habilidades Requeridas para a Sociedade 5.0](https://sol.sbc.org.br/index.php/ctrle/article/view/11445)\n",
    "   "
   ]
  },
  {
   "cell_type": "markdown",
   "metadata": {},
   "source": [
    "# Qual o seu caminho?\n",
    "* Analista de dados\n",
    "* Ciêntista de dados\n",
    "* Engenheiro de dados\n",
    "* Engenheiro de machine learning\n",
    "\n",
    "- Clique na figura abaixo e veja as trilhas possíveis ...\n",
    "[<center><img src=\"images/aiexpert.png\"></center>](https://i.am.ai/roadmap/#fundamentals)\n",
    "\n",
    "\n",
    "# 17 equações que mudaram o mundo\n",
    "\n",
    "* Qual você mais gosta?\n",
    "\n",
    "[<center><img src=\"images/17equacoes.png\"></center>](https://www.amazon.com.br/dp/B00CB2735U/ref=dp-kindle-redirect?_encoding=UTF8&btkr=1)"
   ]
  },
  {
   "cell_type": "markdown",
   "metadata": {},
   "source": [
    "# Gosta de livros ...\n",
    "[Probabilidade e Estatística - Sonia Maria Barros Barbosa Correa](http://estpoli.pbworks.com/f/livro_probabilidade_estatistica_2a_ed.pdf)     \n",
    "\n",
    "[Matemática Estatística e Probabilidade - Jorge Luiz de Castro e Silva et al](https://educapes.capes.gov.br/bitstream/capes/554261/2/Livro%20Estatistica%20e%20Probabilidade%20.pdf)  \n",
    "\n",
    "[Introduction to Probability for Data Science - Stanley H. Chan](https://probability4datascience.com/)    \n",
    "\n",
    "[Probabilistic Machine Learning - a book series by Kevin Murphy](https://probml.github.io/pml-book/)"
   ]
  },
  {
   "cell_type": "markdown",
   "metadata": {},
   "source": [
    "# Desafio\n",
    "Qual a relação entre a IA e a manufatura?       \n",
    "Assista o vídeo **Documentário Industria 4.0** e procure inter-relacionar os conceitos:\n",
    "- Industria 4.0;\n",
    "- Automação;\n",
    "- Manufatura;\n",
    "- Tecnologias da industria 4.0;\n",
    "- Conectividade na industria 4.0;\n",
    "- Big data.\n",
    "[![Documentário Industria 4.0](https://img.youtube.com/vi/QWWQr6TmWGQ/hqdefault.jpg)](https://youtu.be/QWWQr6TmWGQ \"Documentário Industria 4.0\")"
   ]
  },
  {
   "cell_type": "markdown",
   "metadata": {},
   "source": [
    "Qualquer dúvida, poste no fórum da disciplina.\n",
    "### Te vejo na tutoria!"
   ]
  }
 ],
 "metadata": {
  "kernelspec": {
   "display_name": "Python 3",
   "language": "python",
   "name": "python3"
  },
  "language_info": {
   "codemirror_mode": {
    "name": "ipython",
    "version": 3
   },
   "file_extension": ".py",
   "mimetype": "text/x-python",
   "name": "python",
   "nbconvert_exporter": "python",
   "pygments_lexer": "ipython3",
   "version": "3.8.10"
  },
  "rise": {
   "autolaunch": true,
   "enable_chalkboard": true,
   "progress": true,
   "scroll": true,
   "slideNumber": true
  }
 },
 "nbformat": 4,
 "nbformat_minor": 4
}
