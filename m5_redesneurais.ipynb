{
 "cells": [
  {
   "cell_type": "markdown",
   "metadata": {},
   "source": [
    "[<center><img src=\"images/Logo_I2A2.webp\"></center>](https://www.i2a2.ca/)         \n",
    "Rev 1"
   ]
  },
  {
   "cell_type": "markdown",
   "metadata": {},
   "source": [
    "# Módulo 5"
   ]
  },
  {
   "cell_type": "markdown",
   "metadata": {
    "slideshow": {
     "slide_type": "slide"
    }
   },
   "source": [
    "# Aula 1 - Redes Neurais\n",
    "\n",
    "**Objetivo**: Apresentar as redes neurais e suas aplicações"
   ]
  },
  {
   "cell_type": "markdown",
   "metadata": {},
   "source": [
    "Este material o auxiliará nas sessões de autoestudo, contudo, fique à vontade para consultar outras fontes de informações, mas nunca deixe de citá-las."
   ]
  },
  {
   "cell_type": "markdown",
   "metadata": {},
   "source": [
    "# Redes Neurais\n",
    "\n",
    "* Assista aos vídeos ...\n",
    "\n",
    "[![redesneurais](https://img.youtube.com/vi/fEukSrpDPH0/hqdefault.jpg)](https://youtu.be/fEukSrpDPH0 \"redesneurais\") \n",
    "\n",
    "\n",
    "[![redesneurais](https://img.youtube.com/vi/0eQ6-6A5W6I/hqdefault.jpg)](https://youtu.be/0eQ6-6A5W6I \"redesneurais\") \n",
    "\n",
    "\n",
    "[![redesneurais](https://img.youtube.com/vi/XUN6kFiNZdU/hqdefault.jpg)](https://youtu.be/XUN6kFiNZdU \"redesneurais\") \n",
    "\n",
    "   * Redes neurais artificiais aplicadas em sistemas de controle\n",
    "\n",
    "[![redesneurais](https://img.youtube.com/vi/cPpilfUiUqs/hqdefault.jpg)](https://youtu.be/cPpilfUiUqs \"redesneurais\")"
   ]
  },
  {
   "cell_type": "markdown",
   "metadata": {},
   "source": [
    "* Leia os capítulos do livro [Deep Learning Book](https://www.deeplearningbook.com.br/):  \n",
    "    * [Capítulo 9 \"A Arquitetura das Redes Neurais\"](https://www.deeplearningbook.com.br/a-arquitetura-das-redes-neurais/);   \n",
    "    \n",
    "    * [Capítulo 10 \"As 10 Principais Arquiteturas de Redes Neurais\"](https://www.deeplearningbook.com.br/as-10-principais-arquiteturas-de-redes-neurais/);\n",
    "    \n",
    "    * [Capítulo 37 \"O Efeito do Batch Size no Treinamento de Redes Neurais Artificiais\"](https://www.deeplearningbook.com.br/o-efeito-do-batch-size-no-treinamento-de-redes-neurais-artificiais/);\n",
    "    \n",
    "    * [Capítulo 38 \"O Efeito da Taxa de Aprendizagem no Treinamento de Redes Neurais Artificiais\"](https://www.deeplearningbook.com.br/o-efeito-da-taxa-de-aprendizagem-no-treinamento-de-redes-neurais-artificiais/)"
   ]
  },
  {
   "cell_type": "markdown",
   "metadata": {},
   "source": [
    "# Redes Neurais com o SKLearn\n",
    "\n",
    "* Explore a documentação do [scikit-learn](https://scikit-learn.org/stable/modules/neural_networks_supervised.html)\n"
   ]
  },
  {
   "cell_type": "markdown",
   "metadata": {},
   "source": [
    "# Tutorial MLP com python no scikit-learn\n",
    "\n",
    "* Assista aos vídeos ...\n",
    "\n",
    "[![tutorialrna](https://img.youtube.com/vi/cO59qwb3Haw/hqdefault.jpg)](https://youtu.be/cO59qwb3Haw \"tutorialrna\") \n",
    "\n",
    "\n",
    "[![tutorialrna](https://img.youtube.com/vi/ik81nrs2p3Q/hqdefault.jpg)](https://youtu.be/ik81nrs2p3Q \"tutorialrna\") \n"
   ]
  },
  {
   "cell_type": "markdown",
   "metadata": {},
   "source": [
    "# Exercício 1\n",
    "\n",
    "* Execute o notebook **Redes Neurais com TensorFlow**\n",
    "\n",
    "[![Binder](https://mybinder.org/badge_logo.svg)](https://mybinder.org/v2/gh/storopoli/ciencia-de-dados/main?filepath=Aula_18_a_Redes_Neurais_com_TensorFlow.ipynb)"
   ]
  },
  {
   "cell_type": "markdown",
   "metadata": {},
   "source": [
    "# Exercício 2\n",
    "\n",
    "* Execute o notebook **Redes Neurais com PyTorch**\n",
    "\n",
    "[![Binder](https://mybinder.org/badge_logo.svg)](https://mybinder.org/v2/gh/storopoli/ciencia-de-dados/main?filepath=Aula_18_b_Redes_Neurais_com_PyTorch.ipynb)"
   ]
  },
  {
   "cell_type": "markdown",
   "metadata": {},
   "source": [
    "# Quer saber mais\n",
    "\n",
    "\n",
    "Assista ao vídeo ...\n",
    "\n",
    "   * Playlist do curso Introdução às Redes Neurais Artificiais\n",
    "[![cursorna](https://img.youtube.com/vi/OQwxeFSJ_Q4/hqdefault.jpg)](https://www.youtube.com/watch?v=OQwxeFSJ_Q4&list=PLZj-vsMJRNhprMuIaE6HXmOkHh0NEEMtL\"cursorna\")\n",
    " \n",
    " \n",
    "   * Playlist do curso Aprendizado de Máquinas focado em Redes Neurais\n",
    "[![pcaorange](https://img.youtube.com/vi/Dc6rxNy-OPE/hqdefault.jpg)](https://www.youtube.com/watch?v=Dc6rxNy-OPE&list=PL-lVSjBozU-Hfs3bwwTIBaF3xEjkJvonQ \"pcaorange\")    \n",
    "\n",
    "\n",
    "    * Como utilizar Rede Neural Artificial no Orange  \n",
    "    \n",
    "[![orange](https://img.youtube.com/vi/orrXuRM42Sk/hqdefault.jpg)](https://youtu.be/orrXuRM42Sk \"orange\") \n",
    "\n",
    "[![orange](https://img.youtube.com/vi/jCYsplaLf1A/hqdefault.jpg)](https://youtu.be/jCYsplaLf1A \"orange\") "
   ]
  },
  {
   "cell_type": "markdown",
   "metadata": {},
   "source": [
    "# Gosta de livros, abaixo temos alguns:    \n",
    "\n",
    "[Deep Learning Book](https://www.deeplearningbook.com.br/)"
   ]
  },
  {
   "cell_type": "markdown",
   "metadata": {},
   "source": [
    "Qualquer dúvida, poste no fórum da disciplina.\n",
    "### Te vejo na tutoria!"
   ]
  }
 ],
 "metadata": {
  "kernelspec": {
   "display_name": "Python 3",
   "language": "python",
   "name": "python3"
  },
  "language_info": {
   "codemirror_mode": {
    "name": "ipython",
    "version": 3
   },
   "file_extension": ".py",
   "mimetype": "text/x-python",
   "name": "python",
   "nbconvert_exporter": "python",
   "pygments_lexer": "ipython3",
   "version": "3.8.10"
  },
  "rise": {
   "autolaunch": true,
   "enable_chalkboard": true,
   "progress": true,
   "scroll": true,
   "slideNumber": true
  }
 },
 "nbformat": 4,
 "nbformat_minor": 4
}
