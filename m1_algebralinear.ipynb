{
 "cells": [
  {
   "cell_type": "markdown",
   "metadata": {},
   "source": [
    "[<center><img src=\"images/Logo_I2A2.webp\"></center>](https://www.i2a2.ca/)         \n",
    "Rev 1"
   ]
  },
  {
   "cell_type": "markdown",
   "metadata": {
    "slideshow": {
     "slide_type": "slide"
    }
   },
   "source": [
    "# Módulo 1 "
   ]
  },
  {
   "cell_type": "markdown",
   "metadata": {},
   "source": [
    "## Aula 3: Álgebra linear\n",
    "\n",
    "**Objetivos**: Revisitar os conceitos de álgebra linear e suas aplicações em Inteligência Artificial."
   ]
  },
  {
   "cell_type": "markdown",
   "metadata": {},
   "source": [
    "Este material o auxiliará nas sessões de autoestudo, contudo, fique à vontade para consultar outras fontes de informações, mas nunca deixe de citá-las."
   ]
  },
  {
   "cell_type": "markdown",
   "metadata": {},
   "source": [
    "# O que é um vetor?\n",
    "* Sua primeira tarefa é entender o conceito de **vetor**.       \n",
    "\n",
    "    * Assista o vídeo abaixo ...\n",
    "[![Introdução aos vetores para a álgebra linear.](https://img.youtube.com/vi/Y0ZyUhi0khY/hqdefault.jpg)](https://youtu.be/Y0ZyUhi0khY \"Introdução aos vetores para a álgebra linear.\")"
   ]
  },
  {
   "cell_type": "markdown",
   "metadata": {},
   "source": [
    "   * Aproveite para explorar o [khanacademy](https://pt.khanacademy.org/math/linear-algebra/vectors-and-spaces) sobre Álgebra linear."
   ]
  },
  {
   "cell_type": "markdown",
   "metadata": {},
   "source": [
    "# Medidas de Distância - similaridade e dissimilaridade\n",
    "\n",
    "Pesquise livremente por:\n",
    "- Distância euclidiana;\n",
    "- Distância manhattan;\n",
    "- Similaridade cosseno.\n",
    "\n",
    "**Ah! não esqueça de citar as fontes consultadas.**\n"
   ]
  },
  {
   "cell_type": "markdown",
   "metadata": {},
   "source": [
    "# Matrix\n",
    "\n",
    "* Lembra das aulas de matrizes?        \n",
    "\n",
    "   * Veja o vídeo abaixo para refrescar alguns conceitos:\n",
    "[![Matrizes e Determinantes](https://img.youtube.com/vi/r1o7RryS8WM/hqdefault.jpg)](https://youtu.be/r1o7RryS8WM \"Matrizes e Determinantes\")    \n",
    "\n",
    "\n",
    "   * Fundamentos Matemáticos para Computação - Matrizes \n",
    "[![FundMat](https://img.youtube.com/vi/CqWPZH-MvaU/hqdefault.jpg)](https://youtu.be/CqWPZH-MvaU \"FundMat\")"
   ]
  },
  {
   "cell_type": "markdown",
   "metadata": {},
   "source": [
    "# Vetores, Matrizes e NLP\n",
    "\n",
    "Já ouviu falar em [Processamento de Língua Natural](https://www.youtube.com/watch?v=NBqDzewxJDo&list=PLt2qoMeOJsQyAklWpREY5ivAUe3jrrR21&index=1)? \n",
    "\n",
    "Tem ideia de como vetores e matrizes são utilizadas em NLP? \n",
    "\n",
    "Veja os vídeos abaixo e tente compreender isto:\n",
    "[![Representação Vetorial de Textos](https://img.youtube.com/vi/6v7Zjdpwj4c/hqdefault.jpg)](https://youtu.be/6v7Zjdpwj4c \"Representação Vetorial de Textos\")\n",
    "\n",
    "[![Word2Vec](https://img.youtube.com/vi/LMmpVA1ZZC0/hqdefault.jpg)](https://youtu.be/LMmpVA1ZZC0 \"Word2Vec\")"
   ]
  },
  {
   "cell_type": "markdown",
   "metadata": {},
   "source": [
    "# Matrizes e Redução da dimencionalidade\n",
    "\n",
    "Já ouviu falar na **maldição da dimencionalidade**?     \n",
    "\n",
    "Assista o vídeo abaixo para compreender isto!\n",
    "\n",
    "[<center><img src=\"images/dimencionalidade.png\"></center>](https://eaulas.usp.br/portal/embed-video?idItem=9667&autostart=false)\n",
    "\n",
    "Assista agora o vídeo [Análise de Componentes Principais](https://eaulas.usp.br/portal/embed-video?idItem=9660&autostart=false) e entenda o que é o **PCA**."
   ]
  },
  {
   "cell_type": "markdown",
   "metadata": {},
   "source": [
    "# Desafios\n",
    "\n",
    "Você sabe o que é um [jupyter notebook](https://www.fschuch.com/blog/2021/01/22/jupyter-notebook-como-uma-poderosa-ferramenta-educacional/)?     \n",
    "\n",
    "No módulo 2, entraremos em detalhes sobre essa poderosa ferramenta; aqui a ideia é você simplesmente utilizar estes notebooks em um ambiente de nuvem (cloud) sem se preocupar com os detalhes de instação.\n",
    "\n",
    "Abaixo temos 3 notebooks com aplicações de álgebra linear, eles serão executados no ambiente de nuvem Binder. Após você clicar no botão, o sistema Binder alocará um ambiente jupyter notebook na nuvem para você - isto demora alguns minutos.\n",
    "\n",
    "\n",
    "Veja no vídeo abaixo como executar um notebook:\n",
    "[![Jupyter Notebook](https://img.youtube.com/vi/dPb4acFiaYs/hqdefault.jpg)](https://youtu.be/dPb4acFiaYs?t=172 \"Jupyter Notebook\")\n",
    "\n",
    "- Ambiente 1: Àlgebra Linear com Python: uma breve introdução. Adaptado de https://github.com/ronissonlucas\n",
    "\n",
    "\n",
    "Clique no botão abaixo para executar este notebook no myBinder\n",
    "[![Binder](https://mybinder.org/badge_logo.svg)](https://mybinder.org/v2/gh/ronissonlucas/data_science/main?filepath=%C3%81lgebra%20Linear/Algebra_Linear-Introducao(SymPy-NumPy).ipynb)\n",
    "\n",
    "- Ambiente 2: Algebra Linear e NumPy. Adaptado de https://github.com/storopoli\n",
    "\n",
    "Clique no botão abaixo para executar este notebook no myBinder\n",
    "[![Binder](https://mybinder.org/badge_logo.svg)](https://mybinder.org/v2/gh/storopoli/ciencia-de-dados/main?filepath=notebooks%2FAula_6_Numpy_Algebra_Linear.ipynb)\n",
    "\n",
    "- Ambiente 3: Linear Algebra with Python. Adaptado de https://github.com/datasciencescoop\n",
    "\n",
    "Clique no botão abaixo para executar este notebook no myBinder\n",
    "[![Binder](https://mybinder.org/badge_logo.svg)](https://mybinder.org/v2/gh/datasciencescoop/Linear-Algebra/master?filepath=Linear%20Algebra.ipynb)"
   ]
  },
  {
   "cell_type": "markdown",
   "metadata": {},
   "source": [
    "# Para pensar ...\n",
    "\n",
    "Já ouviu falar em **Argumentação matemática**? \n",
    "\n",
    "[![Argumentação matemática](https://img.youtube.com/vi/bSkhk6Beb8M/hqdefault.jpg)](https://youtu.be/bSkhk6Beb8M \"Argumentação matemática\")\n",
    "\n",
    "Como esse conceito pode ser útil na área de **dados**?"
   ]
  },
  {
   "cell_type": "markdown",
   "metadata": {},
   "source": [
    "# Quer saber mais?\n",
    "Veja outros vídeos sobre PCA no portal [e-Aulas da USP](https://eaulas.usp.br/portal/video.action?idItem=9663)\n",
    "\n",
    "Assista ao **Essence of linear algebra** ...\n",
    "\n",
    "[<center><img src=\"images/landscape_sddefault.png\"></center>](https://www.youtube.com/playlist?list=PLZHQObOWTQDPD3MizzM2xVFitgF8hE_ab)\n",
    "\n",
    "Assista a playlist [Álgebra Linear - Prof. Fernanda Simon](https://youtube.com/playlist?list=PLxI8Can9yAHdUtWDKtTA9AmuICNyX9EIr)\n",
    "\n",
    "Assista a playlist [Geometria Analítica e Álgebra Linear](https://youtube.com/playlist?list=PLRkSiZvBNNy77c4QrtTJQ73wVgx9Ds0jq)             \n",
    "\n",
    "### Gosta de livros, abaixo temos alguns:  \n",
    "\n",
    "[Introduction to Applied Linear Algebra – Vectors, Matrices, and Least Squares - Stephen Boyd and Lieven Vandenberghe](https://web.stanford.edu/~boyd/vmls/)\n",
    "\n",
    "[Encyclopedia of Distances - Michel Marie Deza e Elena Deza](https://mineracaodedados.files.wordpress.com/2012/06/encyclopedia-of-distances-michel-marie-deza-elena-deza.pdf)"
   ]
  },
  {
   "cell_type": "markdown",
   "metadata": {},
   "source": [
    "Qualquer dúvida, poste no fórum da disciplina.\n",
    "### Te vejo na tutoria!"
   ]
  }
 ],
 "metadata": {
  "kernelspec": {
   "display_name": "Python 3",
   "language": "python",
   "name": "python3"
  },
  "language_info": {
   "codemirror_mode": {
    "name": "ipython",
    "version": 3
   },
   "file_extension": ".py",
   "mimetype": "text/x-python",
   "name": "python",
   "nbconvert_exporter": "python",
   "pygments_lexer": "ipython3",
   "version": "3.8.10"
  },
  "rise": {
   "autolaunch": true,
   "enable_chalkboard": true,
   "progress": true,
   "scroll": true,
   "slideNumber": true
  }
 },
 "nbformat": 4,
 "nbformat_minor": 4
}
