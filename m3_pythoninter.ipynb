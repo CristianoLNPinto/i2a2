{
 "cells": [
  {
   "cell_type": "markdown",
   "metadata": {},
   "source": [
    "[<center><img src=\"images/Logo_I2A2.webp\"></center>](https://www.i2a2.ca/)         \n",
    "Rev 2"
   ]
  },
  {
   "cell_type": "markdown",
   "metadata": {},
   "source": [
    "# Módulo 3"
   ]
  },
  {
   "cell_type": "markdown",
   "metadata": {
    "slideshow": {
     "slide_type": "slide"
    }
   },
   "source": [
    "# Aula 3 - parte 2: Python e Jupyter intermediário\n",
    "\n",
    "**Objetivo**: Avançar na utilização do python e jupyter notebook."
   ]
  },
  {
   "cell_type": "markdown",
   "metadata": {},
   "source": [
    "Este material o auxiliará nas sessões de autoestudo, contudo, fique à vontade para consultar outras fontes de informações, mas nunca deixe de citá-las."
   ]
  },
  {
   "cell_type": "markdown",
   "metadata": {},
   "source": [
    "# Representação dos Algoritmos\n",
    "\n",
    "[![represalgo](https://img.youtube.com/vi/mnObRYYuqO8/hqdefault.jpg)](https://youtu.be/iDHArTzfAHI \"represalgo\")\n"
   ]
  },
  {
   "cell_type": "markdown",
   "metadata": {},
   "source": [
    "# Documentação do código\n",
    "\n",
    "\n",
    "[![documentação](https://img.youtube.com/vi/Kn-ekrQxvb8/hqdefault.jpg)](https://youtu.be/Kn-ekrQxvb8 \"documentação\")\n",
    "\n",
    "# Controle de versão\n",
    "\n",
    "* Veja a playlist [Projetos de Data Science e Machine Learning com Git e Github](https://www.youtube.com/playlist?list=PLrakQQfctUYX37CRv3fomYfKwDe0NLmsk)"
   ]
  },
  {
   "cell_type": "markdown",
   "metadata": {},
   "source": [
    "# Bibliotecas\n",
    "\n",
    "No módulo 2 já tivemos uma boa noção da utilização destas ferramentas, agora avançaremos.\n",
    "\n",
    "* Assista o vídeo abaixo ...\n",
    "\n",
    "\n",
    "[![numpy](https://img.youtube.com/vi/N0J4Cqn43t8/hqdefault.jpg)](https://youtu.be/N0J4Cqn43t8 \"numpy\")\n",
    "\n",
    "\n",
    "[![pandas](https://img.youtube.com/vi/zHlJY0xuu8M/hqdefault.jpg)](https://youtu.be/zHlJY0xuu8M \"pandas\")\n",
    "\n",
    "\n",
    "[![bibliotecas](https://img.youtube.com/vi/J4iwm0r2iwo/hqdefault.jpg)](https://youtu.be/J4iwm0r2iwo \"bibliotecas\")\n",
    "\n",
    "* Explore a biblioteca de visualização de dados **Bokeh**\n",
    "\n",
    "[<center><img src=\"images/bokeh.png\"></center>](https://demo.bokeh.org/gapminder)         "
   ]
  },
  {
   "cell_type": "markdown",
   "metadata": {},
   "source": [
    "# Tratamento de Erros/Exceções\n",
    "\n",
    "* Veja a playlist de tratamento de erros/exceções\n",
    "\n",
    "[![erros](https://img.youtube.com/vi/9qLiQMtWoIs/hqdefault.jpg)](https://www.youtube.com/watch?app=desktop&v=9qLiQMtWoIs&list=PLAgbpJQADBGLgmb3Tsb6baK1cWg6ufxDu \"Tratamento de Erros\")"
   ]
  },
  {
   "cell_type": "markdown",
   "metadata": {},
   "source": [
    "#  Universo Pythonico\n",
    "* Assista ao vídeo abaixo ...\n",
    "[![Universo Pythonico](https://img.youtube.com/vi/jbN96Lzf_P8/hqdefault.jpg)](https://https://youtu.be/jbN96Lzf_P8 \"Universo Pythonico\")\n",
    "\n",
    "   - Pesquise por\n",
    "      * O que é Pythonico?\n",
    "      * Objetos iteráveis;\n",
    "      * Objetos chamáveis (callable);\n",
    "      * Funções anônimas com lambda;\n",
    "      * Python Data Model."
   ]
  },
  {
   "cell_type": "markdown",
   "metadata": {},
   "source": [
    "# Curso de python intermediário - avançado\n",
    "\n",
    "* Playlist co curso [Python Intermediário / Avançado](https://www.youtube.com/watch?v=H4hVRzaxjl0&list=PLsMpSZTgkF5ANrrp31dmQoG0-hPoI-NoX )  \n",
    "\n",
    "* [Playlist Aprendizado de Máquina com Python e scikit-lear](https://www.youtube.com/watch?v=8735giisOXE&list=PLeFetwYAi-F9Z0N3ZSjPL2i24PO5iiXaY)\n",
    "\n",
    "* Aulas finais da playlist do curso [Introdução à Data Science com Python](https://www.youtube.com/watch?v=pjT_0nPiSqQ&list=PLFE-LjWAAP9SfEuLXf3qrpw4szKWjlYq9)do ICMC da USP"
   ]
  },
  {
   "cell_type": "markdown",
   "metadata": {},
   "source": [
    "# Scikit-learn course\n",
    "\n",
    "Explore este material ...\n",
    "\n",
    "   * [notebook](https://inria.github.io/scikit-learn-mooc/)\n",
    "   * [github](https://github.com/INRIA/scikit-learn-mooc)\n"
   ]
  },
  {
   "cell_type": "markdown",
   "metadata": {},
   "source": [
    "# Quer saber mais?\n",
    "* Veja o curso grátis [Python Fundamentos Para Análise de Dados 3.0](https://www.datascienceacademy.com.br/course/python-fundamentos) da DSA.\n",
    "\n",
    "* Veja a [PlayList](https://www.youtube.com/watch?v=8UfIDvWjKO0&list=PLLrlHSmC0Mw6LozInZxlkMrkiJ_eLLyrL) do prof. Thiago Ferreira.\n",
    "\n",
    "* Execute os [notebooks](https://github.com/storopoli/ciencia-de-dados) dos Professores Storopoli e Souza\n",
    "\n",
    "* Veja essas biblioteca:\n",
    "    - [Python library for reliability engineering and survival analysis](https://reliability.readthedocs.io/en/latest/)\n",
    "\n",
    "    - [NetworkX](https://networkx.org/documentation/stable/auto_examples/index.html)\n",
    "\n",
    "* Fundamentos Matemáticos para Computação\n",
    "\n",
    "    * [Árvores de decisão](https://www.youtube.com/watch?v=VnFP1IdWO0E);\n",
    "    * [Grafos e suas representações](https://www.youtube.com/watch?v=gLJaDI_fcTA)\n",
    "    \n",
    "* Mini Curso de controle de versão de código [Github](https://www.youtube.com/watch?v=0P2AaPHHI8Q&list=PLeFetwYAi-F_l3CKIbpklrr7_0xcxz2yc)\n",
    "\n",
    "* Explore a playlist [Jupyter Widgets](https://www.youtube.com/watch?v=f73YL6-TX0I&list=PLH9knZH6lcgpBuvi0349Db6-seYVo_4yX&index=1) do prof. Anibal Azevedo\n",
    "\n",
    "* [Análise de Dados no Colab](https://eaulas.usp.br/portal/embed-video?idItem=17418&autostart=false)\n",
    "\n",
    "\n",
    "### Gosta de livros ...\n",
    "[Pense em Python - Allen B. Downey](https://penseallen.github.io/PensePython2e/)\n",
    "\n",
    "[Scientific Visualization: Python + Matplotlib - Nicolas P. Rougier, ](https://github.com/rougier/scientific-visualization-book)\n",
    "\n",
    "[Free python books](https://github.com/pamoroso/free-python-books)\n",
    "\n",
    "[Python Data Science Handbook - Jake VanderPlas](https://jakevdp.github.io/PythonDataScienceHandbook/)\n",
    "\n",
    "[Jupyter Guide to Linear Algebra](https://bvanderlei.github.io/jupyter-guide-to-linear-algebra/intro.html)\n",
    "\n",
    "[Teaching and Learning with Jupyter](https://jupyter4edu.github.io/jupyter-edu-book/)\n",
    "\n",
    "[Python Programming for Data Science](https://www.tomasbeuzen.com/python-programming-for-data-science/README.html)\n",
    "\n",
    "[Books with Jupyter](https://executablebooks.org/en/latest/gallery.html)"
   ]
  },
  {
   "cell_type": "markdown",
   "metadata": {},
   "source": [
    "Qualquer dúvida, poste no fórum da disciplina.\n",
    "### Te vejo na mentoria!"
   ]
  }
 ],
 "metadata": {
  "kernelspec": {
   "display_name": "Python 3 (ipykernel)",
   "language": "python",
   "name": "python3"
  },
  "language_info": {
   "codemirror_mode": {
    "name": "ipython",
    "version": 3
   },
   "file_extension": ".py",
   "mimetype": "text/x-python",
   "name": "python",
   "nbconvert_exporter": "python",
   "pygments_lexer": "ipython3",
   "version": "3.8.10"
  },
  "rise": {
   "autolaunch": true,
   "enable_chalkboard": true,
   "progress": true,
   "scroll": true,
   "slideNumber": true
  }
 },
 "nbformat": 4,
 "nbformat_minor": 4
}
