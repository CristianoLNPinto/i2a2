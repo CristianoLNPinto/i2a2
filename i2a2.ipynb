{
 "cells": [
  {
   "cell_type": "markdown",
   "metadata": {},
   "source": [
    "[<center><img src=\"images/Logo_I2A2.webp\"></center>](https://www.i2a2.ca/)      \n",
    "Rev 2"
   ]
  },
  {
   "cell_type": "markdown",
   "metadata": {
    "slideshow": {
     "slide_type": "slide"
    }
   },
   "source": [
    "# Módulo 1 "
   ]
  },
  {
   "cell_type": "markdown",
   "metadata": {},
   "source": [
    "## Aula 1: Probabilidade\n",
    "\n",
    "**Objetivos**: Revisitar o conceito de probabilidade e suas aplicações em Inteligência Artificial."
   ]
  },
  {
   "cell_type": "markdown",
   "metadata": {},
   "source": [
    "Este material o auxiliará nas sessões de autoestudo, contudo, fique à vontade para consultar outras fontes de informações, mas nunca deixe de citá-las."
   ]
  },
  {
   "cell_type": "markdown",
   "metadata": {},
   "source": [
    "# Por que estudar Inteligência Artificial?\n",
    "\n",
    "Estamos começando nossa jornada de aprendizagem \\0/   \n",
    "Você tem ideia como a IA pode otimizar os resultados da manufatura?\n",
    "Veja o relatório [APPLICATIONS FOR MACHINE EARNING IN ENGINEERING AND THE PHYSICAL SCIENCES](https://f.hubspotusercontent00.net/hubfs/4994459/Machine%20Learning/MACHINE_LEARNING_wp.pdf)\n",
    "\n",
    "Conhece a [Estratégia Brasileira de Inteligência Artificial -EBIA-](https://www.gov.br/mcti/pt-br/acompanhe-o-mcti/transformacaodigital/arquivosinteligenciaartificial/ia_estrategia_documento_referencia_4-979_2021.pdf)?\n",
    "\n",
    "Bora começar nossa jornada, sucesso!"
   ]
  },
  {
   "cell_type": "markdown",
   "metadata": {},
   "source": [
    "[<center><img src=\"images/meme.jpg\"></center>](https://www.letsdata.ai/)      \n"
   ]
  },
  {
   "cell_type": "markdown",
   "metadata": {},
   "source": [
    "# Determinístico, aleatório, estocástico e caótico\n",
    "Sua primeira tarefa é entender os conceitos de **Determinístico, aleatório, estocástico e caótico**. Assista o vídeo abaixo e procure as definições destes conceitos e ainda busque exemplificar cada um deles no nosso dia a dia. \n",
    "[![Determinístico, aleatório, estocástico e caótico](https://img.youtube.com/vi/05OcAXuVPXo/hqdefault.jpg)](https://youtu.be/05OcAXuVPXo \"Determinístico, aleatório, estocástico e caótico\")"
   ]
  },
  {
   "cell_type": "markdown",
   "metadata": {},
   "source": [
    "# Probabilidade\n",
    "Com os conceitos acima internalizados, como podemos relacioná-los com o conceito de probabilidade?    \n",
    "Sua próxima tarefa é entender o conceito de **probabilidade**. Assista o vídeo **Introdução à Teoria das Probabilidade** do [Prof. Francisco Rodrigues](https://sites.icmc.usp.br/francisco/) e procure as definições para:\n",
    "- Probabilidade;\n",
    "- Espaço Amostral;\n",
    "- Evento\n",
    "[![Probabilidades - Aula 1](https://img.youtube.com/vi/7aHjkGFtbnM/hqdefault.jpg)](https://youtu.be/7aHjkGFtbnM \"Probabilidades - Aula 1\")"
   ]
  },
  {
   "cell_type": "markdown",
   "metadata": {},
   "source": [
    "Outro vídeo interessante para entender o conceito de probabilidade é listado abaixo: \n",
    "[![Probabilidade básica](https://img.youtube.com/vi/AWSkKdvJX4c/hqdefault.jpg)](https://youtu.be/AWSkKdvJX4c \"Probabilidade básica\")\n",
    "\n",
    "Este vídeo faz parte do canal da [khanacademy](https://pt.khanacademy.org/math/statistics-probability/probability-library), recomendamos a consulta."
   ]
  },
  {
   "cell_type": "markdown",
   "metadata": {},
   "source": [
    "Busque livremente pelas definições dos conceitos abaixo:\n",
    "- Experimento (Experiment);\n",
    "- Resultado (Outcome);\n",
    "- Pontos amostrais (Sample point).\n",
    "- Evento complementar (Complement).\n",
    "- Tipo de eventos.\n",
    "\n",
    "**Ah! não esqueça de citar as fontes consultadas.**"
   ]
  },
  {
   "cell_type": "markdown",
   "metadata": {},
   "source": [
    "Ok, mas qual a relação da probabiliadade/matemática com a IA?    \n",
    "Leia os artigos:  \n",
    "- [A Matemática da Inteligência Artificial](https://blogs.oglobo.globo.com/ciencia-matematica/post/matematica-da-inteligencia-artificial.html) e\n",
    "- [Como os modelos estatísticos se aplicam no Machine Learning](https://www.aquare.la/como-os-modelos-estatisticos-se-aplicam-no-machine-learning/)"
   ]
  },
  {
   "cell_type": "markdown",
   "metadata": {},
   "source": [
    "O próximo passo é a escolha do canal da [khanacademy](https://pt.khanacademy.org/math/statistics-probability/probability-library) e/ou a [playlist](https://www.youtube.com/watch?v=HzOCwzzlGiA&list=PLSc7xcwCGNh3Ls-WARhH54WwiqB91Kyak&index=2) do Prof. Francisco Rodrigues para avançar no autoestudo de probabilidade. Outras fontes podem ser consultadas.     \n",
    "O Prof. Francisco preparou ainda o [Roteiro: Introdução à Teoria das Probabilidades](https://sites.icmc.usp.br/francisco/roteiro.html), recomendamos muito a consulta."
   ]
  },
  {
   "cell_type": "markdown",
   "metadata": {},
   "source": [
    "# Quer saber mais ...\n",
    "* Explore a playlist de [Probabilidades](https://www.youtube.com/watch?v=7aHjkGFtbnM&list=PLSc7xcwCGNh3Ls-WARhH54WwiqB91Kyak) do prof. Francisco Rodrigues\n",
    "\n",
    "* Leia os artigos:\n",
    "    - [Como a inteligência artificial e os dados podem criar valor para as empresas](https://www.mckinsey.com/industries/advanced-electronics/our-insights/artificial-intelligence-the-time-to-act-is-now/pt-br#) \n",
    "    - [Inteligência artificial: A hora de agir é agora](https://www.mckinsey.com/industries/advanced-electronics/our-insights/artificial-intelligence-the-time-to-act-is-now/pt-br#)\n",
    "    - [Roadmap of Mathematics for Machine Learning](https://medium.com/analytics-vidhya/roadmap-of-mathematics-for-machine-learning-48f23baa57)\n",
    "\n",
    "[![prob](https://img.youtube.com/vi/LBemXHm_Ops/hqdefault.jpg)](https://youtu.be/LBemXHm_Ops \"prob\")\n",
    "\n",
    "* Veja a playlist Matemática e Inteligência Artificial\n",
    "\n",
    "[![mathIA](https://img.youtube.com/vi/SswAAOit9Iw/hqdefault.jpg)](https://www.youtube.com/watch?v=SswAAOit9Iw&list=PLEx1BRi5A-snYw9P1tmDaHz_L61IV_AvM \"mathIA\")\n",
    "\n",
    "* Veja o vídeo ...\n",
    "\n",
    "[![prob](https://img.youtube.com/vi/PZZH1t_bTFc/hqdefault.jpg)](https://youtu.be/PZZH1t_bTFc \"Tudo sobre matemática e estatística para você dominar machine learning\")\n",
    "\n",
    "\n",
    "## Diferença entre ciência de dados e pesquisa operacional\n",
    "\n",
    "   * Existe diferença? \n",
    "   * Leia os artigos:   \n",
    "       - [Diferença entre ciência de dados e pesquisa operacional](https://acervolima.com/diferenca-entre-ciencia-de-dados-e-pesquisa-operacional/);\n",
    "       - [O que é pesquisa operacional?](https://www.sobrapo.org.br/o-que-e-pesquisa-operacional).\n",
    "   * Explore a playlist [Pesquisa Operacional e Data Science](https://www.youtube.com/watch?v=qCOpsuppByU&list=PLEx1BRi5A-sm9riRrWfqXwZdvuNI68pnR)\n",
    "   \n",
    "## Curiosidades ...\n",
    "\n",
    "\n",
    "   * [10 Best Certification Courses for Artificial Intelligence- Beginner to Advanced\n",
    "](https://www.mltut.com/best-certification-courses-for-artificial-intelligence/)\n",
    "   \n",
    "   * [Por que todo profissional precisa entender IA?](https://youtu.be/gMantXmXqfM)\n",
    "\n",
    "   * [Habilidades Requeridas para a Sociedade 5.0](https://sol.sbc.org.br/index.php/ctrle/article/view/11445)   "
   ]
  },
  {
   "cell_type": "markdown",
   "metadata": {},
   "source": [
    "# Qual o seu caminho?\n",
    "* Analista de dados\n",
    "* Cientista de dados\n",
    "* Engenheiro de dados\n",
    "* Engenheiro de machine learning\n",
    "\n",
    "- Clique na figura abaixo e veja as trilhas possíveis ...\n",
    "[<center><img src=\"images/aiexpert.png\"></center>](https://i.am.ai/roadmap/#fundamentals)\n",
    "\n",
    "\n",
    "# 17 equações que mudaram o mundo\n",
    "\n",
    "* Qual você mais gosta?\n",
    "\n",
    "[<center><img src=\"images/17equacoes.png\"></center>](https://www.amazon.com.br/dp/B00CB2735U/ref=dp-kindle-redirect?_encoding=UTF8&btkr=1)"
   ]
  },
  {
   "cell_type": "markdown",
   "metadata": {},
   "source": [
    "# Gosta de livros ...\n",
    "[Probabilidade e Estatística - Sonia Maria Barros Barbosa Correa](http://estpoli.pbworks.com/f/livro_probabilidade_estatistica_2a_ed.pdf)     \n",
    "\n",
    "[Matemática Estatística e Probabilidade - Jorge Luiz de Castro e Silva et al](https://educapes.capes.gov.br/bitstream/capes/554261/2/Livro%20Estatistica%20e%20Probabilidade%20.pdf)  \n",
    "\n",
    "[Introduction to Probability for Data Science - Stanley H. Chan](https://probability4datascience.com/)    \n",
    "\n",
    "[Probabilistic Machine Learning - a book series by Kevin Murphy](https://probml.github.io/pml-book/)\n",
    "\n",
    "[Tópicos em Matemática para Cientistas de Dados - Wagner Bonat](http://www.leg.ufpr.br/~wagner/TMCD/)"
   ]
  },
  {
   "cell_type": "markdown",
   "metadata": {},
   "source": [
    "# Desafio\n",
    "Qual a relação entre a IA e a manufatura?       \n",
    "Assista o vídeo **Documentário Industria 4.0** e procure inter-relacionar os conceitos:\n",
    "- Industria 4.0;\n",
    "- Automação;\n",
    "- Manufatura;\n",
    "- Tecnologias da indústria 4.0;\n",
    "- Conectividade na indústria 4.0;\n",
    "- Big data.\n",
    "[![Documentário Industria 4.0](https://img.youtube.com/vi/QWWQr6TmWGQ/hqdefault.jpg)](https://youtu.be/QWWQr6TmWGQ \"Documentário Industria 4.0\")"
   ]
  },
  {
   "cell_type": "markdown",
   "metadata": {},
   "source": [
    "Qualquer dúvida, poste no fórum da disciplina.\n",
    "### Te vejo na mentoria!"
   ]
  },
  {
   "cell_type": "markdown",
   "metadata": {},
   "source": [
    "[<center><img src=\"images/Logo_I2A2.webp\"></center>](https://www.i2a2.ca/)         \n",
    "Rev 2"
   ]
  },
  {
   "cell_type": "markdown",
   "metadata": {
    "slideshow": {
     "slide_type": "slide"
    }
   },
   "source": [
    "# Módulo 1 "
   ]
  },
  {
   "cell_type": "markdown",
   "metadata": {},
   "source": [
    "## Aula 2: Estatística\n",
    "\n",
    "**Objetivos**: Revisitar o conceito de estatística e suas aplicações em Inteligência Artificial."
   ]
  },
  {
   "cell_type": "markdown",
   "metadata": {},
   "source": [
    "Este material o auxiliará nas sessões de autoestudo, contudo, fique à vontade para consultar outras fontes de informações, mas nunca deixe de citá-las."
   ]
  },
  {
   "cell_type": "markdown",
   "metadata": {},
   "source": [
    "  <img src=\"https://miro.medium.com/max/1336/0*EEE6jqXUwJTiEdep.gif\"/>"
   ]
  },
  {
   "cell_type": "markdown",
   "metadata": {},
   "source": [
    "# Estatística Descritiva x Inferencial\n",
    "Sua primeira tarefa é entender os conceitos de **Estatística Descritiva e Estatística Inferencial**. Assista o vídeo abaixo e identifique o que cada uma destas duas categorias tratam:\n",
    "[![Introdução à Estatística: média, mediana e moda](https://img.youtube.com/vi/DW4s-gw9wu0/hqdefault.jpg)](https://youtu.be/DW4s-gw9wu0 \"Introdução à Estatística: média, mediana e moda\")"
   ]
  },
  {
   "cell_type": "markdown",
   "metadata": {},
   "source": [
    "# Tipo de variáveis\n",
    "\n",
    "Agora você deve identificar os tipos de variáveis e suas definições e exemplos. O vídeo abaixo pode te ajudar.\n",
    "[![Tipos de variaveis](https://img.youtube.com/vi/1zy6DTHQDzM/hqdefault.jpg)](https://youtu.be/1zy6DTHQDzM \"Tipos de variaveis\")"
   ]
  },
  {
   "cell_type": "markdown",
   "metadata": {},
   "source": [
    "## Qual o melhor gráfico para cada tipo de variável?      \n",
    "* O portal [Data-to-viz](https://www.data-to-viz.com/) possui uma árvore de decisão que pode nos ajudar a responder esta questão.        \n",
    "Ex.: qual tipo de gráfico você utilizaria para apresentar DUAS variáveis quantitativas contínuas, não ordenadas, com cerca de 800 pontos cada?  \n",
    "Explore o portal [Data-to-viz](https://www.data-to-viz.com/) e tente responder essa questão!  \n",
    "\n",
    "* Ainda no portal, tente identificar quais as diferenças na utilização de um gráfico de barras (barplot) e um histograma (histogram)?   \n",
    "\n",
    "* Acesse ainda no portal um tipo de gráfico qualquer e clique em \"Python gallery\" para ver exemplos de código em python.        \n",
    "\n",
    "* A visualização de dados é uma área fascinante, veja o vídeo de [Hans Rosling](https://www.publico.pt/2017/02/07/ciencia/noticia/morreu-hans-rosling-o-homem-que-fazia-os-numeros-cantar-1761223) 200 países, 200 anos, 4 minutos.   \n",
    "Que insights (sacada) você teve neste vídeo?\n",
    "[![200 países, 200 anos, 4 minutos](https://img.youtube.com/vi/fJ6y8ZJMoqM/hqdefault.jpg)](https://youtu.be/fJ6y8ZJMoqM \"200 países, 200 anos, 4 minutos\")\n",
    "\n",
    "### Quer saber mais?   \n",
    "* [Gráficos](htthttps://www.youtube.com/watch?v=gBOer0OnF4c&list=PLxI8Can9yAHeeWqe3m9HZFiBhT33Mfxew&index=8ps://www.youtube.com/watch?v=0R-UQLRk4VI&list=PLxI8Can9yAHeeWqe3m9HZFiBhT33Mfxew&index=9)        \n",
    "* [Tabelas](https://www.youtube.com/watch?v=gBOer0OnF4c&list=PLxI8Can9yAHeeWqe3m9HZFiBhT33Mfxew&index=8)\n",
    "* [Data Storytelling](http://datastorytelling.com.br/data-storytelling-e-planejar-analisar-e-comunicar-dados/)"
   ]
  },
  {
   "cell_type": "markdown",
   "metadata": {},
   "source": [
    "## Análises Univariadas, Bivariadas e Multivariadas\n",
    "\n",
    "Pesquise livremente o que são cada uma destas análises, incluindo ainda os conceitos de:\n",
    "- Medidas de tendência central;\n",
    "- Medida de dispersão;\n",
    "- Formas de distribuição: curtose (kurtosis), assimetria (skewness);\n",
    "- Tabulação cruzada (cross-tabulations);\n",
    "- Tabelas de contingência (contingency tables);\n",
    "- Gráficos de dispersão (scatterplots).\n",
    "\n",
    "**Ah! não esqueça de citar as fontes consultadas.**\n",
    "\n",
    "Algumas sugestões: \n",
    "\n",
    "   - [Univesp](https://www.youtube.com/watch?v=efy2kjExwTU&list=PLxI8Can9yAHeeWqe3m9HZFiBhT33Mfxew&index=11)    \n",
    "    \n",
    "   - [khanacademy](https://pt.khanacademy.org/math/statistics-probability/displaying-describing-data/comparing-features-distributions/v/shapes-of-distributions)"
   ]
  },
  {
   "cell_type": "markdown",
   "metadata": {},
   "source": [
    "# Estatística Inferencial\n",
    "\n",
    "Pesquise livremente por:\n",
    "  - Inferência Frequentista (clássica);\n",
    "  - Inferência Bayesiana.\n",
    "\n",
    "Sugestões:   \n",
    "   - [IBPAD](https://www.ibpad.com.br/blog/o-que-e-estatistica-bayesiana/)          \n",
    "   - [Storopoli](https://storopoli.io/Estatistica-Bayesiana/0-Estatistica-Bayesiana.html)\n"
   ]
  },
  {
   "cell_type": "markdown",
   "metadata": {},
   "source": [
    "* Assista o vídeo abaixo:   \n",
    "[![Teoria da Decisão Bayesiana na classificação de dados](https://img.youtube.com/vi/8zAKWEOdGsg/hqdefault.jpg)](https://youtu.be/8zAKWEOdGsg \"Teoria da Decisão Bayesiana na classificação de dados\")"
   ]
  },
  {
   "cell_type": "markdown",
   "metadata": {},
   "source": [
    "# Teste de hipóteses e valor-p\n",
    "\n",
    "* Assista o vídeo abaixo (não se preocupe com a utilização de python ainda):\n",
    "\n",
    "[![Teste de hipóteses e valor-p](https://img.youtube.com/vi/S3V5qJ1bxhk/hqdefault.jpg)](https://youtu.be/S3V5qJ1bxhk \"Teste de hipóteses e valor-p: \")"
   ]
  },
  {
   "cell_type": "markdown",
   "metadata": {},
   "source": [
    "# Estatística x Machine Learning\n",
    "\n",
    "* Sua missão agora é compreender as conexões entre Estatística e Machine Learning.        \n",
    "Pesquise aqui:     \n",
    "    - [programmersought](https://www.programmersought.com/article/69513415524/)   \n",
    "    - [machinelearningmastery](https://machinelearningmastery.com/statistical-methods-in-an-applied-machine-learning-project/)\n",
    "\n",
    "\n",
    "* Assista o vídeo abaixo:   \n",
    "[![Estatística vs. Machine Learning](https://img.youtube.com/vi/ZXFCVS3n_n4/hqdefault.jpg)](https://youtu.be/ZXFCVS3n_n4 \"Estatística vs. Machine Learning\")     \n",
    "\n",
    "\n",
    "* Leia o artigo [Uma viagem de sete décadas na Inteligência Artificial](https://awaridados.substack.com/p/viagem-sete-decadas-inteligencia-artificial), em especial a parte **Estatística se torna Data Science, entra em campo e conduz o jogo**      \n",
    "\n",
    "\n",
    "* Quem ser um Cientista de Dados?\n",
    "- Veja estes 8 passos ...\n",
    "<center><img src=\"images/DataScienceEightSteps_Full.png\"></center>"
   ]
  },
  {
   "cell_type": "markdown",
   "metadata": {},
   "source": [
    "# Quer saber mais\n",
    "* Explore a playlist de [Estatística](https://www.youtube.com/watch?v=cVIil-PyilQ&list=PLSc7xcwCGNh1nlUYd3NuFDqw3RjnsOowG) do prof. Francisco Rodrigues\n",
    "\n",
    "* Leia o artigo: [Inteligência Artificial no Contexto da Indústria 4.0](https://sol.sbc.org.br/index.php/wics/article/view/11044)\n",
    "\n",
    "* Explore o portal [Estatística para todos](https://sites.google.com/view/projetoestatsticapara/in%C3%ADcio) do prof. [Anibal Azevedo](https://www.youtube.com/watch?v=M8sC43_wa2I&list=PLH9knZH6lcgpoPdmY-AIBTVM9zLvC_JJI)\n",
    "\n",
    "[![Data Storytelling no Nubank](https://img.youtube.com/vi/ckhcT-RZeZY/hqdefault.jpg)](https://youtu.be/ckhcT-RZeZY \"Data Storytelling no Nubank\")  \n",
    "\n",
    "* Veja o vídeo [Introdução à estatística aplicada](https://eaulas.usp.br/portal/video?idItem=16694) do prof. Evandro Ribeiro\n",
    "\n",
    "* Explore a playlist de [Processos Estocásticos](https://www.youtube.com/watch?v=WOWi6dswgkY&list=PLSc7xcwCGNh0jSylDm0QrDJaFTC3vAbvc) do prof. Francisco Rodrigues"
   ]
  },
  {
   "cell_type": "markdown",
   "metadata": {},
   "source": [
    "# Gosta de livros ...    \n",
    "[Probabilidade e Estatística - Sonia Maria Barros Barbosa Correa](http://estpoli.pbworks.com/f/livro_probabilidade_estatistica_2a_ed.pdf)      \n",
    "\n",
    "[Matemática Estatística e Probabilidade - Jorge Luiz de Castro e Silva et al](https://educapes.capes.gov.br/bitstream/capes/554261/2/Livro%20Estatistica%20e%20Probabilidade%20.pdf)   \n",
    "\n",
    "[Introduction to Probability for Data Science - Stanley H. Chan](https://probability4datascience.com/)"
   ]
  },
  {
   "cell_type": "markdown",
   "metadata": {},
   "source": [
    "Qualquer dúvida, poste no fórum da disciplina.\n",
    "### Te vejo na mentoria!"
   ]
  },
  {
   "cell_type": "markdown",
   "metadata": {},
   "source": [
    "[<center><img src=\"images/Logo_I2A2.webp\"></center>](https://www.i2a2.ca/)         \n",
    "Rev 2"
   ]
  },
  {
   "cell_type": "markdown",
   "metadata": {
    "slideshow": {
     "slide_type": "slide"
    }
   },
   "source": [
    "# Módulo 1 "
   ]
  },
  {
   "cell_type": "markdown",
   "metadata": {},
   "source": [
    "## Aula 3: Álgebra linear\n",
    "\n",
    "**Objetivos**: Revisitar os conceitos de álgebra linear e suas aplicações em Inteligência Artificial."
   ]
  },
  {
   "cell_type": "markdown",
   "metadata": {},
   "source": [
    "Este material o auxiliará nas sessões de autoestudo, contudo, fique à vontade para consultar outras fontes de informações, mas nunca deixe de citá-las."
   ]
  },
  {
   "cell_type": "markdown",
   "metadata": {},
   "source": [
    "<img src=\"https://cdn.dicionariopopular.com/imagens/nazareconfusamatematica.gif\"/>"
   ]
  },
  {
   "cell_type": "markdown",
   "metadata": {},
   "source": [
    "# O que é um vetor?\n",
    "* Sua primeira tarefa é entender o conceito de **vetor**.       \n",
    "\n",
    "    * Assista o vídeo abaixo ...\n",
    "[![Introdução aos vetores para a álgebra linear.](https://img.youtube.com/vi/Y0ZyUhi0khY/hqdefault.jpg)](https://youtu.be/Y0ZyUhi0khY \"Introdução aos vetores para a álgebra linear.\")"
   ]
  },
  {
   "cell_type": "markdown",
   "metadata": {},
   "source": [
    "   * Aproveite para explorar o [khanacademy](https://pt.khanacademy.org/math/linear-algebra/vectors-and-spaces) sobre Álgebra linear."
   ]
  },
  {
   "cell_type": "markdown",
   "metadata": {},
   "source": [
    "# Medidas de Distância - similaridade e dissimilaridade\n",
    "\n",
    "Pesquise livremente por:\n",
    "- Distância euclidiana;\n",
    "- Distância manhattan;\n",
    "- Similaridade cosseno.\n",
    "\n",
    "**Ah! não esqueça de citar as fontes consultadas.**\n"
   ]
  },
  {
   "cell_type": "markdown",
   "metadata": {},
   "source": [
    "# Matriz\n",
    "\n",
    "* Lembra das aulas de matrizes?        \n",
    "\n",
    "   * Veja o vídeo abaixo para refrescar alguns conceitos:\n",
    "[![Matrizes e Determinantes](https://img.youtube.com/vi/r1o7RryS8WM/hqdefault.jpg)](https://youtu.be/r1o7RryS8WM \"Matrizes e Determinantes\")    \n",
    "\n",
    "\n",
    "   * Fundamentos Matemáticos para Computação - Matrizes \n",
    "[![FundMat](https://img.youtube.com/vi/CqWPZH-MvaU/hqdefault.jpg)](https://youtu.be/CqWPZH-MvaU \"FundMat\")"
   ]
  },
  {
   "cell_type": "markdown",
   "metadata": {},
   "source": [
    "# Vetores, Matrizes e NLP\n",
    "\n",
    "Já ouviu falar em [Processamento de Língua Natural](https://www.youtube.com/watch?v=NBqDzewxJDo&list=PLt2qoMeOJsQyAklWpREY5ivAUe3jrrR21&index=1)? \n",
    "\n",
    "Tem ideia de como vetores e matrizes são utilizadas em NLP? \n",
    "\n",
    "Veja os vídeos abaixo e tente compreender isto:\n",
    "[![Representação Vetorial de Textos](https://img.youtube.com/vi/6v7Zjdpwj4c/hqdefault.jpg)](https://youtu.be/6v7Zjdpwj4c \"Representação Vetorial de Textos\")\n",
    "\n",
    "[![Word2Vec](https://img.youtube.com/vi/1mn4DW2f6y4/hqdefault.jpg)](https://youtu.be/1mn4DW2f6y4 \"Word2Vec\")\n",
    "\n",
    "\n",
    "* Assista o vídeo abaixo, não se preocupe ainda com os detalhes, depois explore este [site](https://projector.tensorflow.org/)\n",
    "\n",
    "[![Word2Vec](https://img.youtube.com/vi/-0G-2_vpVAI/hqdefault.jpg)](https://youtu.be/-0G-2_vpVAI \"Word2Vec\")\n"
   ]
  },
  {
   "cell_type": "markdown",
   "metadata": {},
   "source": [
    "# Matrizes e Redução da dimensionalidade\n",
    "\n",
    "Já ouviu falar na **maldição da dimensionalidade**?     \n",
    "\n",
    "Assista o vídeo abaixo para compreender isto!\n",
    "\n",
    "[<center><img src=\"images/dimencionalidade.png\"></center>](https://eaulas.usp.br/portal/embed-video?idItem=9667&autostart=false)\n",
    "\n",
    "Assista agora o vídeo [Análise de Componentes Principais](https://eaulas.usp.br/portal/embed-video?idItem=9660&autostart=false) e entenda o que é o **PCA**."
   ]
  },
  {
   "cell_type": "markdown",
   "metadata": {},
   "source": [
    "# Desafios\n",
    "\n",
    "Você sabe o que é um [jupyter notebook](https://www.fschuch.com/blog/2021/01/22/jupyter-notebook-como-uma-poderosa-ferramenta-educacional/)?     \n",
    "\n",
    "No módulo 2, entraremos em detalhes sobre essa poderosa ferramenta; aqui a ideia é você simplesmente utilizar estes notebooks em um ambiente de nuvem (cloud) sem se preocupar com os detalhes de instalação.\n",
    "\n",
    "Abaixo temos 3 notebooks com aplicações de álgebra linear, eles serão executados no ambiente de nuvem Binder. Após você clicar no botão, o sistema Binder alocará um ambiente jupyter notebook na nuvem para você - isto demora alguns minutos.\n",
    "\n",
    "\n",
    "Veja no vídeo abaixo como executar um notebook:\n",
    "[![Jupyter Notebook](https://img.youtube.com/vi/dPb4acFiaYs/hqdefault.jpg)](https://youtu.be/dPb4acFiaYs?t=172 \"Jupyter Notebook\")\n",
    "\n",
    "- Ambiente 1: Álgebra Linear com Python: uma breve introdução. Adaptado de https://github.com/ronissonlucas\n",
    "\n",
    "\n",
    "Clique no botão abaixo para executar este notebook no myBinder\n",
    "[![Binder](https://mybinder.org/badge_logo.svg)](https://mybinder.org/v2/gh/ronissonlucas/data_science/main?filepath=%C3%81lgebra%20Linear/Algebra_Linear-Introducao(SymPy-NumPy).ipynb)\n",
    "\n",
    "- Ambiente 2: Algebra Linear e NumPy. Adaptado de https://github.com/storopoli\n",
    "\n",
    "Clique no botão abaixo para executar este notebook no myBinder\n",
    "[![Binder](https://mybinder.org/badge_logo.svg)](https://mybinder.org/v2/gh/storopoli/ciencia-de-dados/main?filepath=notebooks%2FAula_6_Numpy_Algebra_Linear.ipynb)\n",
    "\n",
    "- Ambiente 3: Linear Algebra with Python. Adaptado de https://github.com/datasciencescoop\n",
    "\n",
    "Clique no botão abaixo para executar este notebook no myBinder\n",
    "[![Binder](https://mybinder.org/badge_logo.svg)](https://mybinder.org/v2/gh/datasciencescoop/Linear-Algebra/master?filepath=Linear%20Algebra.ipynb)"
   ]
  },
  {
   "cell_type": "markdown",
   "metadata": {},
   "source": [
    "# Para pensar ...\n",
    "\n",
    "Já ouviu falar em **Argumentação matemática**? \n",
    "\n",
    "[![Argumentação matemática](https://img.youtube.com/vi/bSkhk6Beb8M/hqdefault.jpg)](https://youtu.be/bSkhk6Beb8M \"Argumentação matemática\")\n",
    "\n",
    "Como esse conceito pode ser útil na área de **dados**?"
   ]
  },
  {
   "cell_type": "markdown",
   "metadata": {},
   "source": [
    "# Quer saber mais?\n",
    "Veja outros vídeos sobre PCA no portal [e-Aulas da USP](https://eaulas.usp.br/portal/video.action?idItem=9663)\n",
    "\n",
    "[![ICMC](https://img.youtube.com/vi/rUxde40GDdw/hqdefault.jpg)](https://youtu.be/rUxde40GDdw \"ICMC\")\n",
    "\n",
    "Assista ao **Essence of linear algebra** ...\n",
    "\n",
    "[<center><img src=\"images/landscape_sddefault.png\"></center>](https://www.youtube.com/playlist?list=PLZHQObOWTQDPD3MizzM2xVFitgF8hE_ab)\n",
    "\n",
    "Assista a playlist [Álgebra Linear - Prof. Fernanda Simon](https://youtube.com/playlist?list=PLxI8Can9yAHdUtWDKtTA9AmuICNyX9EIr)\n",
    "\n",
    "Assista a playlist [Geometria Analítica e Álgebra Linear](https://youtube.com/playlist?list=PLRkSiZvBNNy77c4QrtTJQ73wVgx9Ds0jq)   \n",
    "\n",
    "Faça o curso grátis **Eigenvectors and Eigenvalues** da [Udacity](https://www.udacity.com/course/eigenvectors-and-eigenvalues--ud104)\n",
    "\n",
    "Explore o material do curso [Mathematical Tools for Data Science](https://cds.nyu.edu/math-tools/)\n",
    "\n",
    "Explore a playlist **Math for Machine Learning**    \n",
    "\n",
    "[![Math for Machine Learning](https://img.youtube.com/vi/uZeDTwWcnuY/hqdefault.jpg)](https://www.youtube.com/watch?v=uZeDTwWcnuY&list=PLD80i8An1OEGZ2tYimemzwC3xqkU0jKUg \"Math for Machine Learning\")\n",
    "\n",
    "Explore a playlist [Cálculo Numérico para todos](https://www.youtube.com/playlist?list=PLH9knZH6lcgrCjPt7ouHphjuYvuzBfa3U) do prof. [Anibal Azevedo](https://sites.google.com/view/projetoclculonumricoparatodos/in%C3%ADcio)\n",
    "\n",
    "Explore a playlist [MIT A 2020 Vision of Linear Algebra, Spring 2020](https://www.youtube.com/watch?v=YrHlHbtiSM0&list=PLUl4u3cNGP61iQEFiWLE21EJCxwmWvvek) do prof. Gilbert Strang\n",
    "\n",
    "\n",
    "### Gosta de livros ...\n",
    "\n",
    "[Introduction to Applied Linear Algebra – Vectors, Matrices, and Least Squares - Stephen Boyd and Lieven Vandenberghe](https://web.stanford.edu/~boyd/vmls/)\n",
    "\n",
    "[Encyclopedia of Distances - Michel Marie Deza e Elena Deza](https://mineracaodedados.files.wordpress.com/2012/06/encyclopedia-of-distances-michel-marie-deza-elena-deza.pdf)\n",
    "\n",
    "[Cap. 18 - Mathematics for Deep Learning](https://d2l.ai/chapter_appendix-mathematics-for-deep-learning/index.html) do livro [Dive into Deep Learning](https://d2l.ai/index.html)"
   ]
  },
  {
   "cell_type": "markdown",
   "metadata": {},
   "source": [
    "Qualquer dúvida, poste no fórum da disciplina.\n",
    "### Te vejo na mentoria!"
   ]
  },
  {
   "cell_type": "markdown",
   "metadata": {},
   "source": [
    "[<center><img src=\"images/Logo_I2A2.webp\"></center>](https://www.i2a2.ca/)         \n",
    "Rev 2"
   ]
  },
  {
   "cell_type": "markdown",
   "metadata": {},
   "source": [
    "# Módulo 2"
   ]
  },
  {
   "cell_type": "markdown",
   "metadata": {},
   "source": [
    "# Aula 1 - parte 1: Visão geral de Python\n",
    "\n",
    "**Objetivos**: Apresentar uma visão geral da linguagem Python."
   ]
  },
  {
   "cell_type": "markdown",
   "metadata": {},
   "source": [
    "Este material o auxiliará nas sessões de autoestudo, contudo, fique à vontade para consultar outras fontes de informações, mas nunca deixe de citá-las."
   ]
  },
  {
   "cell_type": "markdown",
   "metadata": {},
   "source": [
    "# Python\n",
    "\n",
    "A linguagem de programação Python é atualmente (outubro/2021) a [mais popular](https://programadoresbrasil.com.br/2021/10/python-supera-java-javascript-linguagem-programacao-mais-popular/) no mundo das linguagens de programação. \n",
    "\n",
    "\n",
    "<center><img src=\"images/pythonSuperaJava.jpg\"></center>\n",
    "\n",
    "O vídeo abaixo apresenta uma visão geral da linguagem python.\n",
    "\n",
    "[![Visao Geral Python](https://img.youtube.com/vi/BusHZHlRS2k/hqdefault.jpg)](https://youtu.be/BusHZHlRS2k \"Visao Geral Python\")"
   ]
  },
  {
   "cell_type": "markdown",
   "metadata": {},
   "source": [
    "## [Perguntas Frequentes Sobre Python](https://wiki.python.org.br/PerguntasFrequentes/SobrePython)"
   ]
  },
  {
   "cell_type": "markdown",
   "metadata": {},
   "source": [
    "# Preparando o seu Ambiente para usar Python para Data Science | Conda, Anaconda, pip, Spyder...\n",
    "\n",
    "[![ambiente](https://img.youtube.com/vi/ln4gqk6dS8E/hqdefault.jpg)](https://youtu.be/ln4gqk6dS8E \"ambiente\")"
   ]
  },
  {
   "cell_type": "markdown",
   "metadata": {},
   "source": [
    "Na próxima aula entraremos em detalhes sobre o Jupyter Notebook, a ideia aqui é você simplesmente utilizar este notebook em um ambiente de nuvem (Binder) sem se preocupar com os detalhes de instalação - da mesma forma que você fez nos desafios da aula 3 do módulo 1.\n",
    "\n",
    "Após você clicar no botão abaixo, o sistema Binder alocará um ambiente jupyter notebook na nuvem para você - isto demora alguns minutos.\n",
    "\n",
    "[![Binder](https://mybinder.org/badge_logo.svg)](https://mybinder.org/v2/gh/vsvasconcelos/i2a2/main?filepath=m2_python_rev1.ipynb)"
   ]
  },
  {
   "cell_type": "markdown",
   "metadata": {
    "slideshow": {
     "slide_type": "slide"
    }
   },
   "source": [
    "# Variáveis\n",
    "Assista o vídeo abaixo e vá executando as células deste notebook conforme a sequência do vídeo:\n",
    "\n",
    "[![valores e tipos de valores](https://img.youtube.com/vi/UZ7_oudJ150/hqdefault.jpg)](https://youtu.be/UZ7_oudJ150 \"valores e tipos de valores\")\n",
    "\n",
    "Execute as células abaixo:"
   ]
  },
  {
   "cell_type": "code",
   "execution_count": null,
   "metadata": {
    "slideshow": {
     "slide_type": "fragment"
    }
   },
   "outputs": [],
   "source": [
    "type(10)"
   ]
  },
  {
   "cell_type": "code",
   "execution_count": null,
   "metadata": {},
   "outputs": [],
   "source": [
    "type(\"tudo bem\")"
   ]
  },
  {
   "cell_type": "code",
   "execution_count": null,
   "metadata": {},
   "outputs": [],
   "source": [
    "type(5/2)"
   ]
  },
  {
   "cell_type": "code",
   "execution_count": null,
   "metadata": {},
   "outputs": [],
   "source": [
    "10/3"
   ]
  },
  {
   "cell_type": "code",
   "execution_count": null,
   "metadata": {},
   "outputs": [],
   "source": [
    "10//3"
   ]
  },
  {
   "cell_type": "code",
   "execution_count": null,
   "metadata": {},
   "outputs": [],
   "source": [
    "10%3"
   ]
  },
  {
   "cell_type": "code",
   "execution_count": null,
   "metadata": {},
   "outputs": [],
   "source": [
    "peso=78\n",
    "altura=1.83\n",
    "IMC=peso/(altura**2)\n",
    "IMC"
   ]
  },
  {
   "cell_type": "code",
   "execution_count": null,
   "metadata": {},
   "outputs": [],
   "source": [
    "type(IMC)"
   ]
  },
  {
   "cell_type": "code",
   "execution_count": null,
   "metadata": {},
   "outputs": [],
   "source": [
    "IMCInteiro=int(IMC)\n",
    "IMCInteiro"
   ]
  },
  {
   "cell_type": "code",
   "execution_count": null,
   "metadata": {},
   "outputs": [],
   "source": [
    "type(IMCInteiro)"
   ]
  },
  {
   "cell_type": "code",
   "execution_count": null,
   "metadata": {},
   "outputs": [],
   "source": [
    "texto=\"Bom dia, tudo bem?\""
   ]
  },
  {
   "cell_type": "code",
   "execution_count": null,
   "metadata": {},
   "outputs": [],
   "source": [
    "len(texto)"
   ]
  },
  {
   "cell_type": "code",
   "execution_count": null,
   "metadata": {},
   "outputs": [],
   "source": [
    "len(IMC)"
   ]
  },
  {
   "cell_type": "code",
   "execution_count": null,
   "metadata": {},
   "outputs": [],
   "source": [
    "len(str(IMC))"
   ]
  },
  {
   "cell_type": "markdown",
   "metadata": {
    "slideshow": {
     "slide_type": "subslide"
    }
   },
   "source": [
    "Além dos tipos de variáveis apresentadas no vídeo, pesquise quais outros existem na linguagem Python?     \n",
    "### [Documentação Python](https://docs.python.org/pt-br/3/)"
   ]
  },
  {
   "cell_type": "markdown",
   "metadata": {
    "slideshow": {
     "slide_type": "slide"
    }
   },
   "source": [
    "# Operadores Aritméticos\n",
    "Assista o vídeo abaixo e vá executando as células deste notebook conforme a sequência do vídeo:\n",
    "\n",
    "[![tipos booleanos e precedência de operadores](https://img.youtube.com/vi/sgfmuFRZuWs/hqdefault.jpg)](https://youtu.be/sgfmuFRZuWs \"tipos booleanos e precedência de operadores\")   \n",
    "Execute as células abaixo:"
   ]
  },
  {
   "cell_type": "code",
   "execution_count": null,
   "metadata": {
    "slideshow": {
     "slide_type": "fragment"
    }
   },
   "outputs": [],
   "source": [
    "5 > 3"
   ]
  },
  {
   "cell_type": "code",
   "execution_count": null,
   "metadata": {},
   "outputs": [],
   "source": [
    "18 == 9 * 2"
   ]
  },
  {
   "cell_type": "code",
   "execution_count": null,
   "metadata": {},
   "outputs": [],
   "source": [
    "x = 12312\n",
    "x < 0"
   ]
  },
  {
   "cell_type": "code",
   "execution_count": null,
   "metadata": {},
   "outputs": [],
   "source": [
    "type(False)"
   ]
  },
  {
   "cell_type": "code",
   "execution_count": null,
   "metadata": {},
   "outputs": [],
   "source": [
    "type(x > 0)"
   ]
  },
  {
   "cell_type": "code",
   "execution_count": null,
   "metadata": {},
   "outputs": [],
   "source": [
    "x > 0 and x **2 > 100"
   ]
  },
  {
   "cell_type": "code",
   "execution_count": null,
   "metadata": {},
   "outputs": [],
   "source": [
    "x < 0 and x == 12312"
   ]
  },
  {
   "cell_type": "code",
   "execution_count": null,
   "metadata": {},
   "outputs": [],
   "source": [
    "x < 0 or x == 12312"
   ]
  },
  {
   "cell_type": "code",
   "execution_count": null,
   "metadata": {},
   "outputs": [],
   "source": [
    "x > 0"
   ]
  },
  {
   "cell_type": "code",
   "execution_count": null,
   "metadata": {},
   "outputs": [],
   "source": [
    "not x > 0"
   ]
  },
  {
   "cell_type": "code",
   "execution_count": null,
   "metadata": {},
   "outputs": [],
   "source": [
    "not False"
   ]
  },
  {
   "cell_type": "code",
   "execution_count": null,
   "metadata": {},
   "outputs": [],
   "source": [
    "fizerSol = True\n",
    "forFeriado = False\n",
    "vouParaPraia = fizerSol and forFeriado\n",
    "vouParaPraia"
   ]
  },
  {
   "cell_type": "code",
   "execution_count": null,
   "metadata": {},
   "outputs": [],
   "source": [
    "paitrocinio = False\n",
    "rolarPromocao = True\n",
    "vouAoShow = paitrocinio or rolarPromocao\n",
    "vouAoShow"
   ]
  },
  {
   "cell_type": "code",
   "execution_count": null,
   "metadata": {
    "slideshow": {
     "slide_type": "fragment"
    }
   },
   "outputs": [],
   "source": [
    "y = 50\n",
    "x > 0 and not y == 50 or x + y == 150"
   ]
  },
  {
   "cell_type": "markdown",
   "metadata": {
    "slideshow": {
     "slide_type": "subslide"
    }
   },
   "source": [
    "# Tipos booleanos e precedência de operadores\n",
    "\n",
    "[![tipos booleanos e precedência de operadores](https://img.youtube.com/vi/sgfmuFRZuWs/hqdefault.jpg)](https://youtu.be/sgfmuFRZuWs \"tipos booleanos e precedência de operadores\")   "
   ]
  },
  {
   "cell_type": "markdown",
   "metadata": {
    "slideshow": {
     "slide_type": "slide"
    }
   },
   "source": [
    "# Lista e vetores\n",
    "\n",
    "Lista, também como conhecido como *list*, é uma estrutura de dados que possui nenhum, um ou mais itens, que estão ordenados. Os itens são conhecidos também como elementos. Ela é **flexível**, ou seja, podemos adicionar novos itens na lista, podemos alterar itens existentes, podemos remover itens da lista, tudo isto de forma dinâmica.\n",
    "\n",
    "Em Python, uma lista é representada por uma sequência de itens, separados por vírgula e dentro de colchetes `[]`. Uma lista vazia é representada por colchetes sem nenhuma informação presente entre os colchetes.\n",
    "\n",
    "* Fatiar (`[1:3]`)\n",
    "* Buscar elementos (`[0]`)\n",
    "* Comprimento (`len(list)`)\n",
    "* Adicionar elementos (`list.append()`)\n",
    "* Compreensão de lista (`[x for elemento in lista]`)\n",
    "\n",
    "Assista o vídeo abaixo e executando as células deste notebook conforme a sequência do vídeo:\n",
    "\n",
    "[![Coleções (listas, vetores)](https://img.youtube.com/vi/krVca97F13I/hqdefault.jpg)](https://youtu.be/krVca97F13I \"Coleções (listas, vetores)\")"
   ]
  },
  {
   "cell_type": "code",
   "execution_count": null,
   "metadata": {
    "slideshow": {
     "slide_type": "fragment"
    }
   },
   "outputs": [],
   "source": [
    "lista_vazia = []\n",
    "lista_num = [1, 2, 3, 4, 5, 6]\n",
    "lista_mista = [1, 2, 'UNINOVE', 4, 'com', 6, 'Você', True, None] "
   ]
  },
  {
   "cell_type": "markdown",
   "metadata": {},
   "source": [
    "# Manipulação de listas\n",
    "\n",
    "\n",
    "[![Manipulação de listas)](https://img.youtube.com/vi/LrXapVI66so/hqdefault.jpg)](https://youtu.be/LrXapVI66so \"Coleções (Manipulação de listas)\")"
   ]
  },
  {
   "cell_type": "markdown",
   "metadata": {},
   "source": [
    "# Matrizes\n",
    "\n",
    "\n",
    "[![Matrizes)](https://img.youtube.com/vi/c9yjwWNiNQw/hqdefault.jpg)](https://youtu.be/c9yjwWNiNQw \"Matrizes\")"
   ]
  },
  {
   "cell_type": "markdown",
   "metadata": {
    "slideshow": {
     "slide_type": "slide"
    }
   },
   "source": [
    "## Tuplas(`tuple`)\n",
    "Uma tupla é uma coleção de objetos Python separados por vírgulas. De alguma maneira, uma tupla é semelhante a uma lista em termos de indexação e repetição, mas uma tupla é **imutável**, diferentemente de listas que são **mutáveis**.\n",
    "\n",
    "* Fatiar (`[1:3]`)\n",
    "* Buscar elementos (`[0]`)\n",
    "* Comprimento (`len(tuple)`)"
   ]
  },
  {
   "cell_type": "code",
   "execution_count": null,
   "metadata": {
    "slideshow": {
     "slide_type": "fragment"
    }
   },
   "outputs": [],
   "source": [
    "tupla_vazia = ()\n",
    "tupla_num = (1, 2, 3, 4, 5, 6)\n",
    "tupla_mista = (1, 2, 'UNINOVE', 4, 'com', 6, 'Você', True, None)"
   ]
  },
  {
   "cell_type": "markdown",
   "metadata": {
    "slideshow": {
     "slide_type": "slide"
    }
   },
   "source": [
    "## Dicionários (`dictionary`)\n",
    "\n",
    "O dicionário em Python é uma coleção não ordenada de valores de dados, usada para armazenar valores de dados como um mapa, que, diferentemente de outros tipos de dados que mantêm apenas um valor único como elemento, o Dictionary mantém um **par chave: valor**. O valor da chave é fornecido no dicionário para torná-lo mais otimizado.\n",
    "\n",
    "* Chave(`key`)\n",
    "* Valor(`value`)"
   ]
  },
  {
   "cell_type": "code",
   "execution_count": null,
   "metadata": {
    "slideshow": {
     "slide_type": "fragment"
    }
   },
   "outputs": [],
   "source": [
    "dict_vazio = {}\n",
    "dicionario = {\n",
    "    1: 'UNINOVE',\n",
    "    2: 'com você',\n",
    "    3: 'é 10',\n",
    "    4: 'você está',\n",
    "    5: 'aprendendo Python',\n",
    "    6: 'bem rápido',\n",
    "    'nome da chave': 'valor da chave'\n",
    "}"
   ]
  },
  {
   "cell_type": "markdown",
   "metadata": {
    "slideshow": {
     "slide_type": "slide"
    }
   },
   "source": [
    "# Desvios Condicionais `if` `else` `efif`\n",
    "\n",
    "Uma sequência de testes de seleção, os quais serão executados ou não de acordo com o resultado das condições e de acordo com o encadeamento dos testes.\n",
    "\n",
    "[![Condicionais)](https://img.youtube.com/vi/ngeVlLJ250s/hqdefault.jpg)](https://youtu.be/ngeVlLJ250s \"Condicionais\")\n"
   ]
  },
  {
   "cell_type": "code",
   "execution_count": 3,
   "metadata": {},
   "outputs": [
    {
     "data": {
      "text/plain": [
       "True"
      ]
     },
     "execution_count": 3,
     "metadata": {},
     "output_type": "execute_result"
    }
   ],
   "source": [
    "temperatura = 102\n",
    "if temperatura > 100:\n",
    "    aguaferve = True\n",
    "\n",
    "aguaferve"
   ]
  },
  {
   "cell_type": "code",
   "execution_count": 5,
   "metadata": {},
   "outputs": [],
   "source": [
    "if temperatura > 100:\n",
    "    aguaferve = True\n",
    "    evaporação = \"muito rápida\""
   ]
  },
  {
   "cell_type": "markdown",
   "metadata": {
    "slideshow": {
     "slide_type": "slide"
    }
   },
   "source": [
    "# Estrutura de Repetição `while`\n",
    "\n",
    "A estrutura de repetição `while` a condição de repetição é verificada antes de entrar no laço de repetição, isto é, se o resultado for verdadeiro, o bloco de instrução será executado. Enquanto o valor da condição for verdadeiro, as ações dos comandos são executadas. No momento em que a condição se torna falsa, o processamento da rotina é desviado para fora do laço. Se a condição for falsa logo de início, os comandos não são executados nenhuma vez.\n",
    "\n",
    "[![while)](https://img.youtube.com/vi/TllYO06DpUk/hqdefault.jpg)](https://youtu.be/TllYO06DpUk \"while\")"
   ]
  },
  {
   "cell_type": "markdown",
   "metadata": {
    "slideshow": {
     "slide_type": "slide"
    }
   },
   "source": [
    "## Estrutura de Repetição `for`\n",
    "\n",
    "Com a estrutura de repetição `for` podemos executar um determinado conjunto de instruções certo número de vezes. Além disso, este tipo de estrutura prevê uma condição e limites fixos.\n",
    "\n",
    "A estrutura for é utilizada quando precisamos repetir um conjunto de comandos um número pré-definido de vezes.\n",
    "\n",
    "[![for)](https://img.youtube.com/vi/ctmPwp52b7w/hqdefault.jpg)](https://youtu.be/ctmPwp52b7w \"for\")"
   ]
  },
  {
   "cell_type": "markdown",
   "metadata": {
    "slideshow": {
     "slide_type": "subslide"
    }
   },
   "source": [
    "### `for` em dicionários\n",
    "\n",
    "```python\n",
    "for key,value in dicionario.items():\n",
    "    print(key, value)\n",
    "```"
   ]
  },
  {
   "cell_type": "markdown",
   "metadata": {
    "slideshow": {
     "slide_type": "slide"
    }
   },
   "source": [
    "## Funções em Python (`function`)\n",
    "\n",
    "Podem ter argumentos ou não.\n",
    "\n",
    "[![funções)](https://img.youtube.com/vi/AMUxtcJ8yfc/hqdefault.jpg)](https://youtu.be/AMUxtcJ8yfc \"funções\")\n"
   ]
  },
  {
   "cell_type": "markdown",
   "metadata": {},
   "source": [
    "# Strings\n",
    "\n",
    "[![string)](https://img.youtube.com/vi/DdhNltkI_hE/hqdefault.jpg)](https://youtu.be/DdhNltkI_hE \"string\")\n",
    "\n",
    "# Comparações de Strings\n",
    "\n",
    "[![string2)](https://img.youtube.com/vi/EWQTdbtCtKw/hqdefault.jpg)](https://youtu.be/EWQTdbtCtKw \"string2\")\n"
   ]
  },
  {
   "cell_type": "markdown",
   "metadata": {
    "slideshow": {
     "slide_type": "slide"
    }
   },
   "source": [
    "# Orientação à Objetos\n",
    "\n",
    "[![OOp1)](https://img.youtube.com/vi/frtaUi3B6Sc/hqdefault.jpg)](https://youtu.be/frtaUi3B6Sc \"OOp1\")\n",
    "\n",
    "\n",
    "[![OOp2)](https://img.youtube.com/vi/LsbakVX54RY/hqdefault.jpg)](https://youtu.be/LsbakVX54RY \"OOp2\")\n"
   ]
  },
  {
   "cell_type": "markdown",
   "metadata": {
    "slideshow": {
     "slide_type": "slide"
    }
   },
   "source": [
    "# Módulos em python\n",
    "\n",
    "* `import <library>`\n",
    "* `import <library> as xx`\n",
    "* `from <library> import *`\n",
    "* `from <library> import yy`\n",
    "\n",
    "[![módulos)](https://img.youtube.com/vi/6rSUPRZJFRM/hqdefault.jpg)](https://youtu.be/6rSUPRZJFRM \"módulos\")\n"
   ]
  },
  {
   "cell_type": "markdown",
   "metadata": {},
   "source": [
    "# Quer saber mais?\n",
    "* Explore o portal [Python para todos](https://sites.google.com/view/projetopythonparatodos) e veja toda a [PlayList](https://www.youtube.com/playlist?list=PLH9knZH6lcgo0ndsXfwX0CGO_ad1t6cSO)  do prof. Anibal Azevedo\n",
    "\n",
    "* Explore o material do curso [Aulas de Introdução à Computação em Python](https://panda.ime.usp.br/aulasPython/static/aulasPython/index.html) do IME-USP, nele é possível você executar os códigos na própria página do curso;   \n",
    "\n",
    "* Veja toda a [PlayList](https://www.youtube.com/watch?v=UZ7_oudJ150&list=PLcoJJSvnDgcKpOi_UeneTNTIVOigRQwcn&index=9) do prof. Fábio Kon.\n",
    "\n",
    "* Veja o curso grátis [Python Fundamentos Para Análise de Dados 3.0](https://www.datascienceacademy.com.br/course/python-fundamentos) da DSA.\n",
    "\n",
    "* Veja a [PlayList](https://www.youtube.com/watch?v=8UfIDvWjKO0&list=PLLrlHSmC0Mw6LozInZxlkMrkiJ_eLLyrL) do prof. Thiago Ferreira.\n",
    "\n",
    "* Veja a [PlayList](https://www.youtube.com/watch?v=2KmYQWLkqOM&list=PL7OlISixQYm5gHmnIroBbC9BcVK_ajLoe) do prof. Alexandre Levada\n",
    "\n",
    "* Execute os [notebooks](https://github.com/storopoli/ciencia-de-dados) dos Professores Storopoli e Souza\n",
    "\n",
    "* Veja essas biblioteca:\n",
    "    - [Python library for reliability engineering and survival analysis](https://reliability.readthedocs.io/en/latest/)\n",
    "\n",
    "    - [NetworkX](https://networkx.org/documentation/stable/auto_examples/index.html)\n",
    "    \n",
    "* Assista ao vídeo: Como fazer análise exploratória de dados em Python com o Seaborn\n",
    "\n",
    "[![seaborn)](https://img.youtube.com/vi/pNEdz-UfWh4/hqdefault.jpg)](https://youtu.be/pNEdz-UfWh4 \"seaborn\")\n",
    "\n",
    "* Veja [How to Self Learn Data Science in 2022](https://www.visual-design.net/post/how-to-self-learn-data-science)\n",
    "\n",
    "* Leia o artigo [Onde aprender Python de graça?](https://felipegalvao.com.br/pt/blog/where-to-learn-python-for-free/) de Felipe Galvao e aproveite para explorar o seu blog\n",
    "\n",
    "## Para pensar ...\n",
    "* Já ouviu falar do **Pensamento Computacional**?\n",
    "\n",
    "[![pensamentocomp)](https://img.youtube.com/vi/KxppXrcfMBA/hqdefault.jpg)](https://youtu.be/KxppXrcfMBA \"pensamentocomp\")\n",
    "\n",
    "\n",
    "# Gosta de livros ...\n",
    "[Pense em Python - Allen B. Downey](https://penseallen.github.io/PensePython2e/)\n",
    "\n",
    "[Scientific Visualization: Python + Matplotlib - Nicolas P. Rougier, ](https://github.com/rougier/scientific-visualization-book)\n",
    "\n",
    "[Free python books](https://github.com/pamoroso/free-python-books)\n",
    "\n",
    "[Python Data Science Handbook - Jake VanderPlas](https://jakevdp.github.io/PythonDataScienceHandbook/)            \n",
    "[versão notebook](https://colab.research.google.com/github/jakevdp/PythonDataScienceHandbook/blob/master/notebooks/Index.ipynb#scrollTo=MpQmORfEjDIn)"
   ]
  },
  {
   "cell_type": "markdown",
   "metadata": {},
   "source": [
    "Qualquer dúvida, poste no fórum da disciplina.\n",
    "### Te vejo na mentoria!"
   ]
  },
  {
   "cell_type": "markdown",
   "metadata": {},
   "source": [
    "[<center><img src=\"images/Logo_I2A2.webp\"></center>](https://www.i2a2.ca/)         \n",
    "Rev 2"
   ]
  },
  {
   "cell_type": "markdown",
   "metadata": {},
   "source": [
    "# Módulo 2"
   ]
  },
  {
   "cell_type": "markdown",
   "metadata": {
    "slideshow": {
     "slide_type": "slide"
    }
   },
   "source": [
    "# Aula 1 - parte 2: Jupyter Notebook\n",
    "\n",
    "\n",
    "**Objetivo**: Apresentar o ambiente Jupyter Notebook."
   ]
  },
  {
   "cell_type": "markdown",
   "metadata": {},
   "source": [
    "Este material o auxiliará nas sessões de autoestudo, contudo, fique à vontade para consultar outras fontes de informações, mas nunca deixe de citá-las."
   ]
  },
  {
   "cell_type": "markdown",
   "metadata": {
    "slideshow": {
     "slide_type": "slide"
    }
   },
   "source": [
    "O **Projeto Jupyter** é uma organização sem fins lucrativos criada para \"desenvolver software de código aberto, padrões abertos e serviços para **computação interativa** em dezenas de linguagens de programação\". Originado do IPython em 2014, o Projeto Jupyter **suporta ambientes de execução em dezenas de linguagens de programação**. O nome do projeto é uma referência às três principais linguagens de programação suportadas por Jupyter, **Julia, Python e R**, e também uma **homenagem aos cadernos de anotações de Galileu** que registram a descoberta das luas de Júpiter. ([Wikipédia](https://pt.wikipedia.org/wiki/Projeto_Jupyter))"
   ]
  },
  {
   "cell_type": "markdown",
   "metadata": {},
   "source": [
    "# Instalando o Jupyter Notebook\n",
    "Consulte o documento [Introdução ao Jupyter Notebook](https://letscode.com.br/blog/introducao-ao-jupyter-notebook) e instale o **Jupyter Notebook** no seu computador. Atente que há duas opções de instalação - utilizando o PIP ou instalando a [distribuição Anaconda](https://www.anaconda.com/products/individual) - caso você ainda não tenha o [python](https://www.python.org/) instalado em sua máquina, opte em instalar utilizando o Anaconda."
   ]
  },
  {
   "cell_type": "markdown",
   "metadata": {},
   "source": [
    "# Utilizando o Jupyter Notebook\n",
    "\n",
    "* Agora que você já instalou o Jupyter na sua máquina, assista o vídeo abaixo e aprenda como utilizar as funcionalidades e recursos da ferramenta.\n",
    "\n",
    "[![jupyternotebook](https://img.youtube.com/vi/szP9IRbwO9o/hqdefault.jpg)](https://youtu.be/szP9IRbwO9o \"jupyternotebook\") \n",
    "\n"
   ]
  },
  {
   "cell_type": "markdown",
   "metadata": {},
   "source": [
    "#### Obs.: Provavelmente a aba __nbextensions__, apresenta no vídeo, não deve estar aparecendo no seu Jupyter Notebook :(   \n",
    "Veja neste [link](https://jupyter-contrib-nbextensions.readthedocs.io/en/latest/install.html) os detalhes para instalação desta entensão; basicamente envolve os comandos abaixo:"
   ]
  },
  {
   "cell_type": "code",
   "execution_count": null,
   "metadata": {},
   "outputs": [],
   "source": [
    "!pip install jupyter_contrib_nbextensions"
   ]
  },
  {
   "cell_type": "code",
   "execution_count": null,
   "metadata": {},
   "outputs": [],
   "source": [
    "!jupyter contrib nbextension install --user"
   ]
  },
  {
   "cell_type": "markdown",
   "metadata": {},
   "source": [
    "Depois de instalar, atualize seu navegador <F5> e verifique se a aba  __nbextensions__ aparece."
   ]
  },
  {
   "cell_type": "markdown",
   "metadata": {
    "slideshow": {
     "slide_type": "fragment"
    }
   },
   "source": [
    "# Documentação\n",
    "\n",
    "Documentação Jupyter Notebook: https://jupyter-notebook.readthedocs.io/en/stable/\n",
    "\n",
    "Lista de Kernels: https://github.com/jupyter/jupyter/wiki/Jupyter-kernels"
   ]
  },
  {
   "cell_type": "markdown",
   "metadata": {
    "slideshow": {
     "slide_type": "slide"
    }
   },
   "source": [
    "# Arquivos\n",
    "\n",
    "Notebooks são documentos `JSON` com extensão `.ipynb` (**iPy**thon **N**ote**b**ook) \n",
    "\n",
    "Trabalha com células:\n",
    "* Código\n",
    "* [Markdown](https://www.markdownguide.org/getting-started/)"
   ]
  },
  {
   "cell_type": "markdown",
   "metadata": {
    "slideshow": {
     "slide_type": "subslide"
    }
   },
   "source": [
    "### Célula de Código"
   ]
  },
  {
   "cell_type": "code",
   "execution_count": null,
   "metadata": {
    "slideshow": {
     "slide_type": "slide"
    }
   },
   "outputs": [],
   "source": [
    "# Isto é uma célula de código\n",
    "# Click no botão **Run** para executá-la:\n",
    "print('Quantos cocos carrega uma andorinha?')"
   ]
  },
  {
   "cell_type": "markdown",
   "metadata": {
    "slideshow": {
     "slide_type": "subslide"
    }
   },
   "source": [
    "# Célula Markdown\n",
    "\n",
    "Veja documentação em: https://www.markdownguide.org/cheat-sheet/\n",
    "\n",
    "* LaTeX com entre dólar ( \\\\$ ): $P(A|B) = \\frac{P(B|A) P(A)}{P(B)}$\n",
    "* Código entre (\\```)\n",
    "```python\n",
    "print('Qual a velocidade de voo de uma andorinha sem carga?')\n",
    "```"
   ]
  },
  {
   "cell_type": "markdown",
   "metadata": {
    "slideshow": {
     "slide_type": "slide"
    }
   },
   "source": [
    "# Comandos de Células\n",
    "\n",
    "* Para rodar a célula aperte `Shift + Enter`\n",
    "* Modo Comando `Esc`\n",
    "* Modo Edição `Enter`\n",
    "* Para inserir nova célula aperte `a` (para **antes** da célula selecionada) ou `b` (para **depois** da célula selecionada)\n",
    "* Para deletar célula aperte duas vezes `d` (delete)\n",
    "* Copiar célula(s) selecionada(s) aperte `c` (copy)\n",
    "* Colar célula(s) copiada(s) aperte `v` (paste)\n",
    "* Mudar tipo:\n",
    "    * Code `y`\n",
    "    * Markdown `m`"
   ]
  },
  {
   "cell_type": "markdown",
   "metadata": {},
   "source": [
    "# Rodando este notebook na nuvem\n",
    "\n",
    "Para desenvolver e executar seus notebooks na nuvem, você pode utilizar:\n",
    "* [GoogleColab](https://research.google.com/colaboratory/intl/pt-BR/faq.html)\n",
    "* [myBinder](https://mybinder.org/) \n",
    "* [SageMaker Studio Lab](https://studiolab.sagemaker.aws/)"
   ]
  },
  {
   "cell_type": "markdown",
   "metadata": {},
   "source": [
    "Utilize este botão para executar este notebook no myBinder\n",
    "[![Binder](https://mybinder.org/badge_logo.svg)](https://mybinder.org/v2/gh/vsvasconcelos/i2a2/main?filepath=Aula_1_Jupyter.ipynb)"
   ]
  },
  {
   "cell_type": "markdown",
   "metadata": {},
   "source": [
    "Utilize este botão para executar este notebook no Colab\n",
    "[![Open In Colab](https://colab.research.google.com/assets/colab-badge.svg)](https://colab.research.google.com/github/vsvasconcelos/i2a2/blob/main/Aula_1_Jupyter.ipynb)"
   ]
  },
  {
   "cell_type": "markdown",
   "metadata": {
    "slideshow": {
     "slide_type": "slide"
    }
   },
   "source": [
    "# Comandos `shell` \n",
    "\n",
    "Use o *bang* `!`"
   ]
  },
  {
   "cell_type": "code",
   "execution_count": null,
   "metadata": {
    "slideshow": {
     "slide_type": "subslide"
    }
   },
   "outputs": [],
   "source": [
    "!ls"
   ]
  },
  {
   "cell_type": "code",
   "execution_count": null,
   "metadata": {
    "slideshow": {
     "slide_type": "subslide"
    }
   },
   "outputs": [],
   "source": [
    "#Qual o diretório de trabalho?\n",
    "#Para máquinas com"
   ]
  },
  {
   "cell_type": "code",
   "execution_count": null,
   "metadata": {},
   "outputs": [],
   "source": [
    "#Qual o diretório de trabalho?\n",
    "#Para máquinas com Linux/Mac\n",
    "!pwd"
   ]
  },
  {
   "cell_type": "markdown",
   "metadata": {
    "slideshow": {
     "slide_type": "slide"
    }
   },
   "source": [
    "# Jupyter Magic\n",
    "\n",
    "Tem [diversos](https://ipython.readthedocs.io/en/stable/interactive/magics.html), mas o que eu mais uso são:\n",
    "\n",
    "* `%timeit`: Cronometra o tempo de execução de uma **expressão** `Python`\n",
    "* `%%timeit`: Cronometra o tempo de execução de uma **célula**\n",
    "\n",
    "#### Execute as células a baixo e verifique o tempo gasto para executá-las:"
   ]
  },
  {
   "cell_type": "code",
   "execution_count": 2,
   "metadata": {
    "slideshow": {
     "slide_type": "subslide"
    }
   },
   "outputs": [
    {
     "name": "stdout",
     "output_type": "stream",
     "text": [
      "59.4 ms ± 82.3 µs per loop (mean ± std. dev. of 7 runs, 10 loops each)\n"
     ]
    }
   ],
   "source": [
    "%timeit 3**999999"
   ]
  },
  {
   "cell_type": "code",
   "execution_count": 1,
   "metadata": {
    "slideshow": {
     "slide_type": "fragment"
    }
   },
   "outputs": [
    {
     "name": "stdout",
     "output_type": "stream",
     "text": [
      "59.7 ms ± 253 µs per loop (mean ± std. dev. of 7 runs, 10 loops each)\n"
     ]
    }
   ],
   "source": [
    "%%timeit\n",
    "y = 5\n",
    "x = 3**999999"
   ]
  },
  {
   "cell_type": "markdown",
   "metadata": {},
   "source": [
    "# Execute o Jupyter no seu computador\n",
    "Baixe o arquivo desta aula (m2_Jupyter_rev1.ipynb) e teste executá-lo no seu computador.   "
   ]
  },
  {
   "cell_type": "markdown",
   "metadata": {},
   "source": [
    "# Quer saber mais?\n",
    "* Execute os [notebooks](https://github.com/storopoli/ciencia-de-dados) dos Professores Storopoli e Souza\n",
    "\n",
    "* Assista ...\n",
    "\n",
    "[![jupyternotebook](https://img.youtube.com/vi/ZC8bfSZLl80/hqdefault.jpg)](https://youtu.be/ZC8bfSZLl80 \"jupyternotebook\") \n",
    "\n",
    "* Veja o [Tutorial Jupyter Notebook](https://www.datacamp.com/community/tutorials/tutorial-jupyter-notebook#gs.N0CbFZI)\n",
    "\n",
    "\n",
    "\n",
    "### Gosta de livros? \n",
    "[Jupyter Guide to Linear Algebra](https://bvanderlei.github.io/jupyter-guide-to-linear-algebra/intro.html)\n",
    "\n",
    "[Teaching and Learning with Jupyter](https://jupyter4edu.github.io/jupyter-edu-book/)\n",
    "\n",
    "[Python Programming for Data Science](https://www.tomasbeuzen.com/python-programming-for-data-science/README.html)\n",
    "\n",
    "[Books with Jupyter](https://executablebooks.org/en/latest/gallery.html)\n",
    "\n",
    "\n",
    "### Referências:    \n",
    "   [1] Storopoli & Souza (2020). Ciência de Dados com Python: pandas, matplotlib, Scikit-Learn, TensorFlow e PyTorch. Retrieved from https://storopoli.io/ciencia-de-dados    \n",
    "   \n",
    "   [2] Falha [libxml2](https://stackoverflow.com/questions/34232887/cant-install-python-lxml-and-libxml2-on-windows) no Windows"
   ]
  },
  {
   "cell_type": "markdown",
   "metadata": {},
   "source": [
    "Qualquer dúvida, poste no fórum da disciplina.\n",
    "### Te vejo na mentoria!"
   ]
  },
  {
   "cell_type": "markdown",
   "metadata": {},
   "source": [
    "[<center><img src=\"images/Logo_I2A2.webp\"></center>](https://www.i2a2.ca/)      \n",
    "\n",
    "Rev 2"
   ]
  },
  {
   "cell_type": "markdown",
   "metadata": {},
   "source": [
    "# Módulo 2"
   ]
  },
  {
   "cell_type": "markdown",
   "metadata": {
    "slideshow": {
     "slide_type": "slide"
    }
   },
   "source": [
    "# Aula 2 - Preparação dos dados - parte 1\n",
    "\n",
    "\n",
    "**Objetivo**: Apresentar o processo de preparação dos dados"
   ]
  },
  {
   "cell_type": "markdown",
   "metadata": {},
   "source": [
    "Este material o auxiliará nas sessões de autoestudo, contudo, fique à vontade para consultar outras fontes de informações, mas nunca deixe de citá-las."
   ]
  },
  {
   "cell_type": "markdown",
   "metadata": {},
   "source": [
    "# Dados x Informações x Conhecimento x Inteligência\n",
    "\n",
    "Sua primeira tarefa é entender as relações entre os conceitos: **Dados, Informações, Conhecimento e Inteligência**.            \n",
    "Sugestões de consulta:     \n",
    "[![Dados, informação, conhecimento](https://img.youtube.com/vi/o8XD5yhmlLQ/hqdefault.jpg)](https://youtu.be/o8XD5yhmlLQ \"Dados, informação, conhecimento\")  \n",
    "\n",
    "* Leia o artigo: [From Data to Wisdom - Ackoff](https://www.systems-thinking.org/dikw/dikw.htm)"
   ]
  },
  {
   "cell_type": "markdown",
   "metadata": {},
   "source": [
    "# Tipos de dados\n",
    "\n",
    "Na aula de estatística você assistiu ao vídeo abaixo que trata dos tipos de variáveis ...\n",
    "[![Tipos de variaveis](https://img.youtube.com/vi/1zy6DTHQDzM/hqdefault.jpg)](https://youtu.be/1zy6DTHQDzM \"Tipos de variaveis\")\n",
    "\n",
    "Veja agora artigo de Jeff Hale [7 Data Types: A Better Way to Think about Data Types for Machine Learning](https://towardsdatascience.com/7-data-types-a-better-way-to-think-about-data-types-for-machine-learning-939fae99a689) que detalha **11 tipos de dados**, procure compreender cada um deles.\n",
    "\n",
    "Veja o vídeo abaixo sobre **dados temporais**\n",
    "[![seriestemporais](https://img.youtube.com/vi/Spg1XND1lpE/hqdefault.jpg)](https://youtu.be/Spg1XND1lpE \"seriestemporais\")\n",
    "\n",
    "Veja o vídeo abaixo sobre **IoT e Dados**\n",
    "[![iotdados](https://img.youtube.com/vi/bx_hcKTqUss/hqdefault.jpg)](https://youtu.be/bx_hcKTqUss \"iotdados\")\n"
   ]
  },
  {
   "cell_type": "markdown",
   "metadata": {},
   "source": [
    "# Big Data e Estruturação dos Dados\n",
    "\n",
    "* Leia o artigo: [Os desafios da era do Big Data e do analytics na indústria de manufatura](https://cio.com.br/tendencias/os-desafios-da-era-do-big-data-e-do-analytics-na-industria-de-manufatura/)\n",
    "\n",
    "### Pesquise livremente pelos conceitos abaixo e suas relações:\n",
    "* Big Data;\n",
    "* Small Data;\n",
    "* Dado estruturados;\n",
    "* Dados não estruturados;\n",
    "* Dados semiestruturados;\n",
    "* Datalake x lakehouse \n",
    "\n",
    "#### Data Lake\n",
    "\n",
    "* Atente para a animação abaixo ...\n",
    "\n",
    "  <img src=\"images/semantix.gif\"/>  \n",
    "  \n",
    "  Fonte: https://www.semantix.com.br/"
   ]
  },
  {
   "cell_type": "markdown",
   "metadata": {},
   "source": [
    "# Produto de Dados (Data Product)\n",
    "\n",
    "Você sabe o que é um produto de dados?\n",
    "Leia os artigos [Produtos de dados na era do big data](https://blog.dsbrigade.com/produto-de-dados/) e [Qual a diferença entre um Produto de Dados e um Produto de Tecnologia?](https://www.lewagon.com/pt-BR/blog/produto-de-dados-e-produto-de-tecnologia) e compreenda essa conceitos.\n",
    "\n",
    "* Assista ao vídeo **como transformar dados em produto**   \n",
    "\n",
    "[![como transformar dados em produto](https://img.youtube.com/vi/ntN1OBy8df4/hqdefault.jpg)](https://youtu.be/ntN1OBy8df4 \"como transformar dados em produto\") \n"
   ]
  },
  {
   "cell_type": "markdown",
   "metadata": {},
   "source": [
    "# Privacidade de dados, ética e Machine Learning\n",
    "\n",
    "   * Os dados são o combustível para os produtos de dados, contudo, temos que ter algo em mente quando trabalhamos com dados ...\n",
    "[<center><img src=\"images/ResponsibleIA.PNG\"></center>](https://www.i2a2.ca/)  \n",
    "\n",
    "   * Ética e machine learning\n",
    "\n",
    "[![etica](https://img.youtube.com/vi/LkaAk5z12fU/hqdefault.jpg)](https://youtu.be/LkaAk5z12fU \"etica\") \n",
    "\n",
    "   * [Proteção de dados e Inteligência Artificial: desafio da LGPD](https://neuralmind.ai/2021/02/10/protecao-de-dados-e-inteligencia-artificial-o-desafio-da-lgpd/)\n",
    "\n",
    "\n",
    "   * IA Explicável XAI\n",
    "\n",
    "[![XAI](https://img.youtube.com/vi/7P2P4zNIeBU/hqdefault.jpg)](https://youtu.be/7P2P4zNIeBU \"XAI\") \n",
    "\n",
    "   * Data for Good\n",
    "   \n",
    "[![sgb](https://img.youtube.com/vi/cu7MEnf21MY/hqdefault.jpg)](https://youtu.be/cu7MEnf21MY \"sgb\") "
   ]
  },
  {
   "cell_type": "markdown",
   "metadata": {},
   "source": [
    "# O Processo de ciência de dados\n",
    "\n",
    "Já ouviu falar do **Processo de ciência de dados**?    \n",
    "\n",
    "Veja na figura abaixo - adaptada do livro [Doing Data Science: Straight Talk from the Frontline - O'Neil & Schutt](https://books.google.com.br/books?id=vcVKAQAAQBAJ&hl=pt-PT) - uma possível representação deste processo.\n",
    "\n",
    "[<img src=\"images/cvml.png\" alt=\"jupyter\" style=\"width: 500px;\" align=\"central\"/>](https://books.google.com.br/books?id=ycNKAQAAQBAJ&pg=PA17&hl=pt-PT&source=gbs_toc_r&cad=4#v=onepage&q&f=false)   \n",
    "\n",
    "#### Atente para os seguintes detalhes da figura:\n",
    "* Da onde os dados brutos são coletados?\n",
    "* Depois desta coleta, qual o próximo passo?\n",
    "* Antes da Análise Exploratória de Dados, o que deve ser realizado?\n",
    "* Qual a entrada do Produto de Dados?\n",
    "\n",
    "* Assista ao vídeo ...\n",
    "\n",
    "[![KDD DS](https://img.youtube.com/vi/pNT304aI4uU/hqdefault.jpg)](https://youtu.be/pNT304aI4uU \"KDD DS\") \n",
    "\n",
    "Assista ao vídeo **CRISP-DM: a melhor metodologia para projetos de Data Science** e procure entender todas as fases desta metodologia e as relações com o **Processo de ciência de dados** apresentado acima.\n",
    "\n",
    "[![CRISP](https://img.youtube.com/vi/mhPATD8S6D0/hqdefault.jpg)](https://youtu.be/mhPATD8S6D0 \"CRISP\") \n",
    "\n",
    "* Veja a adaptação do **CRISP-DM** para Data Science (**CRISP-DS**) proposta por Duan Cleypaul\n",
    "[<img src=\"images/crisp_ds.png\" alt=\"jupyter\" style=\"width: 500px;\" align=\"central\"/>](https://blog.magrathealabs.com/crisp-ds-cyclic-methodology-for-data-science-projects-10c7d00fbc85)   "
   ]
  },
  {
   "cell_type": "markdown",
   "metadata": {},
   "source": [
    "# Modelos de Machine Learning\n",
    "\n",
    "Pesquise sobre:\n",
    "* Modelos de Machine Learning (ML);\n",
    "* Redes Neurais;\n",
    "* Deep Learning (DL);\n",
    "* Conjuntos de dados (dataset) de Treinamento, validação e teste de modelos de ML/DL;\n",
    "* Quais as razões para o `boom`do deep learning? Veja [Deep Learning e a Tempestade Perfeita](https://www.deeplearningbook.com.br/deep-learning-a-tempestade-perfeita/)\n",
    "* Qual a relação entre a **quantidade de dados** x **sucesso dos modelos de deep learning**?"
   ]
  },
  {
   "cell_type": "markdown",
   "metadata": {},
   "source": [
    "# Qualidade dos Dados"
   ]
  },
  {
   "cell_type": "markdown",
   "metadata": {},
   "source": [
    "`O Data Management Body of Knowledge (DMBOK) define Qualidade de Dados (DQ) como o planejamento, implementação e controle de atividades que aplicam técnicas de gerenciamento de qualidade aos dados, a fim de garantir que seja adequado ao consumo e atenda às necessidades dos dados consumidores`"
   ]
  },
  {
   "cell_type": "markdown",
   "metadata": {},
   "source": [
    "Leia mais sobre **qualidade dos dados** em:\n",
    "* [4 métricas fundamentais para a qualidade de dados em analytics](https://www.aquare.la/4-metricas-fundamentais-para-qualidade-de-dados-em-analytics/)     \n",
    "* [Gestão da Qualidade dos Dados](https://abracd.org/gestao-da-qualidade-dos-dados/) "
   ]
  },
  {
   "cell_type": "markdown",
   "metadata": {},
   "source": [
    "Assista ao vídeo **Implementando Qualidade de dados** abaixo:\n",
    "\n",
    "[![QualidadeDados](https://img.youtube.com/vi/HmaAjVpAp6I/hqdefault.jpg)](https://youtu.be/HmaAjVpAp6I \"QualidadeDados\") \n",
    "\n",
    "Um resumão ...\n",
    "<img src=\"images/qualidadeDados.jpg\" alt=\"jupyter\" style=\"width: 500px;\" align=\"central\"/>"
   ]
  },
  {
   "cell_type": "markdown",
   "metadata": {},
   "source": [
    "# Benefícios e aplicações de uma metodologia de qualidade de dados\n",
    "\n",
    "* Com base nos materiais  pesquisados e sua vivência, liste quais os benefícios e aplicações de uma metodologia de qualidade de dados;\n",
    "* Quais são os erros mais comuns?"
   ]
  },
  {
   "cell_type": "markdown",
   "metadata": {},
   "source": [
    "# DataOps - MLOps\n",
    "\n",
    "* Já ouviu falar disto?\n",
    "* Leia os artigos:\n",
    "    - [DataOps: Fundamental for Industrial Transformation](https://www.isa.org/intech-home/2021/february-2021/features/dataops-fundamental-for-industrial-transformation);\n",
    "    - [What is MLOps, and Who is it For?](https://blog.isa.org/what-is-mlops-and-who-is-it-for)\n",
    "* Veja o video [How to use an Industrial DataOps solution to accelerate analytics](https://youtu.be/kZN2o929rSQ)\n",
    "\n",
    "* Veja [A Complete MLOps Toolbox](https://medium.com/rappibank/a-complete-mlops-toolbox-9c37f8ef5500)\n",
    "\n",
    "* Leia o artigo Monitorando Modelos de Aprendizado de Máquina em Produção do Toni Esteves ...\n",
    "\n",
    "[<center><img src=\"images/mlops.png\"></center>](http://estevestoni.medium.com/monitorando-modelos-de-aprendizado-de-m%C3%A1quina-em-produ%C3%A7%C3%A3o-9d4f83a3dbfa)  \n",
    "\n",
    "[![Nubank](https://img.youtube.com/vi/Z42UL_4AQvI/hqdefault.jpg)](https://youtu.be/Z42UL_4AQvI \"O que é MLOps?\") \n",
    "\n",
    "* Leia o artigo [MLOps: Machine Learning Como Disciplina de Engenharia](https://blog.dsacademy.com.br/mlops-machine-learning-como-disciplina-de-engenharia-parte-1/) - dividido em 3 partes - da DSA"
   ]
  },
  {
   "cell_type": "markdown",
   "metadata": {},
   "source": [
    "# Quer saber mais?\n",
    "* Veja os relatórios:\n",
    "\n",
    "    - Da Experian [2020 Global data management research - The data-driven organization, a transformation in progress](https://s3-sa-east-1.amazonaws.com/serasaexperian-site-institucional-wp-content/wp-content/uploads/20200529133321/2020-Global-data-management-research.pdf)\n",
    "    \n",
    "    - Do Cappra Institute [Maturidade analítica das organizações brasileiras](https://www.cappra.institute/ima)\n",
    "    \n",
    "    - Assista aos vídeos ...\n",
    "    \n",
    "[![processamento1](https://img.youtube.com/vi/pbksL5cpeSk/hqdefault.jpg)](https://youtu.be/pbksL5cpeSk \"processamento1\") \n",
    "\n",
    "\n",
    "[![processamento2](https://img.youtube.com/vi/8VwLb7M-5-g/hqdefault.jpg)](https://youtu.be/8VwLb7M-5-g \"processamento2\") \n",
    "\n",
    "\n",
    "[![Claudio](https://img.youtube.com/vi/FpwnULY_d-0/hqdefault.jpg)](https://youtu.be/FpwnULY_d-0 \"Claudio\") \n",
    "\n",
    "[![Claudio](https://img.youtube.com/vi/oS45-QJ_hE8/hqdefault.jpg)](https://youtu.be/oS45-QJ_hE8 \"Claudio\") \n",
    "\n",
    "[![Claudio](https://img.youtube.com/vi/Yf0xmAUUo9Y/hqdefault.jpg)](https://youtu.be/Yf0xmAUUo9Y \"Claudio\") \n",
    "\n",
    "* Baixe o material [A REVOLUÇÃO DOS DADOS:ENTENDA OS PRINCIPAIS CONCEITOS POR TRÁS DO BIG DATA](https://materiais.ilegra.com/revolucao-dados)"
   ]
  },
  {
   "cell_type": "markdown",
   "metadata": {},
   "source": [
    "Qualquer dúvida, poste no fórum da disciplina.\n",
    "### Te vejo na mentoria!"
   ]
  },
  {
   "cell_type": "markdown",
   "metadata": {},
   "source": [
    "[<center><img src=\"images/Logo_I2A2.webp\"></center>](https://www.i2a2.ca/)         \n",
    "Rev 1"
   ]
  },
  {
   "cell_type": "markdown",
   "metadata": {},
   "source": [
    "# Módulo 2"
   ]
  },
  {
   "cell_type": "markdown",
   "metadata": {
    "slideshow": {
     "slide_type": "slide"
    }
   },
   "source": [
    "# Aula 2 - Preparação dos dados - parte 2\n",
    "\n",
    "\n",
    "**Objetivo**: Apresentar o processo de preparação dos dados"
   ]
  },
  {
   "cell_type": "markdown",
   "metadata": {},
   "source": [
    "Este material o auxiliará nas sessões de autoestudo, contudo, fique à vontade para consultar outras fontes de informações, mas nunca deixe de citá-las."
   ]
  },
  {
   "cell_type": "markdown",
   "metadata": {},
   "source": [
    "# Processo de Preparação dos Dados\n",
    "\n",
    "De uma forma geral, o processo de preparação ou tratamento dos dados (data wrangling ou data munging) envolve:\n",
    "* Obtenção (gathering);\n",
    "* Extração (extracting);\n",
    "* Limpeza (cleaning); e\n",
    "* Armazenamento (storing).\n",
    "\n",
    "Pesquise livremente cada uma destas etapas."
   ]
  },
  {
   "cell_type": "markdown",
   "metadata": {},
   "source": [
    "# Exercício 1: Limpando Dados do OpenStreetMap - Região Metropolitana de São Paulo\n",
    "\n",
    "\n",
    "## Acesse o [projeto](https://nbviewer.org/github/vsvasconcelos/i2a2/blob/main/DW-OSM-RMSP-rev4/DW-OSM-RMSP-rev2.ipynb) e:\n",
    "\n",
    "### 1) Identifique como os dados foram obtidos (gathering).\n",
    "    * O que são fontes secundárias de dados?\n",
    "\n",
    "### 2) Identifique como os dados foram extraídos (extracting).\n",
    "    * O que é um arquivo XML?\n",
    "    \n",
    "### 3) Identifique como os dados foram limpos (cleaning).\n",
    "    * Quais as 6 etapas utilizadas para a limpeza dos dados?\n",
    "    * Quais as 5 métricas de qualidade dos dados propostas?\n",
    "    * Como foi realizado o processo de auditoria dos dados?\n",
    "    * O que é uma expressão regular?\n",
    "    * Quais métricas de qualidade foram utilizadas para a variável CEP? Como essas métricas foram implementadas?\n",
    "    \n",
    "### 4) Identifique como os dados foram armazenados (storing).\n",
    "    * O que é o MongoDB?\n",
    "    * O que é um arquivo JSON?"
   ]
  },
  {
   "cell_type": "markdown",
   "metadata": {},
   "source": [
    "# Análise Exploratória de Dados (Exploratory Data Analysis - EDA)\n",
    "\n",
    "Pesquise o que é uma Análise Exploratória de Dados?\n",
    "\n",
    "   * Identifique as diferentes abordagens para lidar com dados em faltantes em um conjunto de dados?\n",
    "   * Compreenda o que são vieses (bias) em dados;\n",
    "   * Compreenda o que é Data Augmentation;\n",
    "   * O que são Outliers e suas relações com [boxplot](https://youtu.be/QMXzY-QMgBE)?\n",
    "   * Qual a diferença entre correlação e causalidade?\n",
    "   * O que é a normalização de dados?\n",
    "   * Como transformar dados categóricos em dados numéricos (label encoding, one-hot encoding, numerical encoding)."
   ]
  },
  {
   "cell_type": "markdown",
   "metadata": {},
   "source": [
    "# Exercício 2: Análise Exploratória dos Dados da Pesquisa Origem e Destino 2007 na Região Metropolitana de São Paulo utilizando a Linguagem R\n",
    "\n",
    "\n",
    "## Acesse o [projeto](https://nbviewer.org/github/vsvasconcelos/EDA-R/blob/master/projecttemplatebr_vagner-rev4.html) e:\n",
    "\n",
    "### 1) Explore livremente o trabalho e tente encontrar algum insight\n",
    "\n",
    "### 2) Com relação a fig. 23 do trabalho, há alguma correlação significativa entre as 3 variáveis quantitativas envolvidas?\n",
    "\n",
    "### 3) Na seção 4 (gráficos multivariados), qual modelo foi utilizado para relacionar as variáveis \"duracao\" e \"distancia\"?\n",
    "   "
   ]
  },
  {
   "cell_type": "markdown",
   "metadata": {},
   "source": [
    "# Exercício 3: Investigando a base de dados Titanic\n",
    "\n",
    "\n",
    "## Acesse o [projeto](https://github.com/vsvasconcelos/Titanic/blob/master/P2-InvestigateDataset.ipynb) e:\n",
    "\n",
    "### 1) Explore livremente o trabalho e tente encontrar algum insight\n",
    "\n",
    "### 2) Execute o notebook.\n",
    "\n",
    "[![Binder](https://mybinder.org/badge_logo.svg)](https://mybinder.org/v2/gh/vsvasconcelos/Titanic/master?filepath=P2-InvestigateDataset.ipynb)"
   ]
  },
  {
   "cell_type": "markdown",
   "metadata": {},
   "source": [
    "# Dica\n",
    "   * [Como eu aprenderia Data Science em 2022 (se começasse do zero)](https://www.youtube.com/watch?v=K2Vu6E5Ybmo)\n",
    "   \n",
    "# Quer saber mais \n",
    "\n",
    "* Faça o curso [Data Cleaning](https://www.kaggle.com/learn/data-cleaning) do Kaggle"
   ]
  },
  {
   "cell_type": "markdown",
   "metadata": {},
   "source": [
    "Qualquer dúvida, poste no fórum da disciplina.\n",
    "### Te vejo na mentoria!"
   ]
  },
  {
   "cell_type": "markdown",
   "metadata": {},
   "source": [
    "[<center><img src=\"images/Logo_I2A2.webp\"></center>](https://www.i2a2.ca/)         \n",
    "Rev 2"
   ]
  },
  {
   "cell_type": "markdown",
   "metadata": {},
   "source": [
    "# Módulo 3"
   ]
  },
  {
   "cell_type": "markdown",
   "metadata": {
    "slideshow": {
     "slide_type": "slide"
    }
   },
   "source": [
    "# Aula 1 - Aprendizado Supervisionado  (Supervised Learning)\n",
    "\n",
    "\n",
    "**Objetivo**: Apresentar o aprendizado supervisionado e suas aplicações"
   ]
  },
  {
   "cell_type": "markdown",
   "metadata": {},
   "source": [
    "Este material o auxiliará nas sessões de autoestudo, contudo, fique à vontade para consultar outras fontes de informações, mas nunca deixe de citá-las."
   ]
  },
  {
   "cell_type": "markdown",
   "metadata": {},
   "source": [
    "#  O que é a Inteligência Artificial\n",
    "\n",
    "[![ClaudioP](https://img.youtube.com/vi/_YijkijxHbI/hqdefault.jpg)](https://youtu.be/_YijkijxHbI \"ClaudioP\")\n",
    "\n",
    "# Tipos básicos de Aprendizagem de Máquina\n",
    "\n",
    "### Como as máquinas aprendem?\n",
    "\n",
    "    Veja a figura abaixo e identifique as 3 abordagens básicas de aprendizado de máquina.\n",
    "\n",
    "<img src=\"images/ML_modelos.png\" />"
   ]
  },
  {
   "cell_type": "markdown",
   "metadata": {},
   "source": [
    "# As diferentes formas de aprendizado de máquina \n",
    "\n",
    "Leia o artigo [As diferentes formas de aprendizado de máquina](https://www.eldorado.org.br/blog/as-diferentes-formas-de-aprendizado-de-maquina/) e identifique:      \n",
    "    - Os conceitos de: Modelo, Treinamento e Inferência;         \n",
    "    - As Formas de aprendizado de máquina básicas;          \n",
    "    - As Variações das formas de aprendizado de máquina básicas;            \n",
    "    - As Formas adicionais de aprendizado de máquina.\n",
    "    \n",
    "* Assista ao vídeo ...\n",
    "\n",
    "[![formas aprendizagem](https://img.youtube.com/vi/pE7UiFjCif0/hqdefault.jpg)](https://youtu.be/pE7UiFjCif0 \"formas aprendizagem\")"
   ]
  },
  {
   "cell_type": "markdown",
   "metadata": {},
   "source": [
    "# Aprendizado Supervisionado (Supervised Learning)\n",
    "   - Nesta aula focaremos no **Aprendizado Supervisionado**\n",
    "\n",
    "## Abordagem Tradicional (Programação) x Aprendizagem de Máquina\n",
    "\n",
    "   - Por que utilizar a Aprendizagem de Máquina e não a programação convencional?"
   ]
  },
  {
   "cell_type": "markdown",
   "metadata": {},
   "source": [
    "## Abordagem Tradicional (Programação)\n",
    "<img src=\"images/abordtradicional.png\"/>"
   ]
  },
  {
   "cell_type": "markdown",
   "metadata": {},
   "source": [
    "### Fluxo de desenvolvimento\n",
    "<img src=\"images/abordtradicional_fluxo.png\"/>"
   ]
  },
  {
   "cell_type": "markdown",
   "metadata": {},
   "source": [
    "### Como escrever as regras para identificar um cão (Chihuahua)?\n",
    "\n",
    "<img src=\"images/Chihuahua.png\"/>"
   ]
  },
  {
   "cell_type": "markdown",
   "metadata": {},
   "source": [
    "## Aprendizagem de Máquina\n",
    "<img src=\"images/abordML.png\"/>"
   ]
  },
  {
   "cell_type": "markdown",
   "metadata": {},
   "source": [
    "### Fluxo de desenvolvimento\n",
    "<img src=\"images/abordML_fluxo.png\"/>"
   ]
  },
  {
   "cell_type": "markdown",
   "metadata": {},
   "source": [
    "### Treinando um modelo identificador um cão (Chihuahua)?\n",
    "\n",
    "\n",
    "<img src=\"images/abordML_trein.png\"/>"
   ]
  },
  {
   "cell_type": "markdown",
   "metadata": {},
   "source": [
    "# Machine learning project life cycle\n",
    "\n",
    "* Pesquise pelo ciclo de vida dos projetos de machine learning.\n",
    "* Veja o capítulo 1 do livro (grátis) [Machine Learning Engineering - Andriy Burkov](http://www.mlebook.com/wiki/doku.php)\n",
    "\n",
    "<img src=\"images/ML_process_.png\"/>"
   ]
  },
  {
   "cell_type": "markdown",
   "metadata": {},
   "source": [
    "# Feature Engineering\n",
    "<img src=\"images/fe.png\" alt=\"jupyter\" style=\"width: 500px;\" align=\"central\"/>\n",
    "\n",
    "### Pesquise por Feature Engineering. \n",
    "Dica: capítulo 4 do livro (grátis) [Machine Learning Engineering - Andriy Burkov](http://www.mlebook.com/wiki/doku.php)"
   ]
  },
  {
   "cell_type": "markdown",
   "metadata": {},
   "source": [
    "# Treinamento um modelo de Machine Learning\n",
    "\n",
    "<img src=\"images/trainml.png\" alt=\"jupyter\" style=\"width: 500px;\" align=\"central\"/>\n",
    "\n",
    "### Pesquise:\n",
    "* O Processo de Treinamento de um modelo de Machine Learning;\n",
    "* O [Ajuste de Hiperparâmetros em Modelos de Machine Learning](https://medium.com/programacaodinamica/ajuste-de-hiperpar%C3%A2metros-em-modelos-de-machine-learning-946dec10f90b);\n",
    "* Overfitting;\n",
    "* Underfitting;\n",
    "* Conjuntos de dados (dataset) de Treinamento, validação e teste de modelos;\n",
    "* Cross Validation."
   ]
  },
  {
   "cell_type": "markdown",
   "metadata": {},
   "source": [
    "# Supervised Learning\n",
    "\n",
    "* Assista ao vídeo ...\n",
    "[![aprendizagem supervisionada](https://img.youtube.com/vi/7-pF2FwRYc8/hqdefault.jpg)](https://youtu.be/7-pF2FwRYc8?t=67 \"aprendizagem supervisionada\")"
   ]
  },
  {
   "cell_type": "markdown",
   "metadata": {},
   "source": [
    "# Exercício 1: Identificação de suspeitos de fraude utilizando Machine Learning\n",
    "\n",
    "\n",
    "## Acesse o [projeto](https://github.com/vsvasconcelos/ML/blob/master/README.md) e:\n",
    "\n",
    "### 1) Identifique o objetivo do projeto\n",
    "    * Qual o significado das métricas Precision e Recall?\n",
    "\n",
    "### 2) O que é o scikit-learning (sklearn)?\n",
    "    \n",
    "    \n",
    "### 3) Como os atributos do modelo foram selecionados?\n",
    "    * Foram criadas novas features?\n",
    "    \n",
    "### 4) Outliers foram removidos?\n",
    "    * Quais critérios foram utilizados para remoção?\n",
    "    \n",
    "### 5) Que tipo de algoritmo de machine learning foi utilizado?\n",
    "    * O projeto é do tipo Supervisionado ou Não Supervisionado?\n",
    "    * Como foi realizado o pré-processamento dos dados?\n",
    "    * Como foi implementado os conjuntos de treinamento e teste?\n",
    "    * Como foi justificado a divisão?\n",
    "    * Quais algoritmos foram implementados? Qual obteve o melhor resultado?\n",
    "    * O que é a funcionalidade pipeline do scikit-learning?\n",
    "    * Avalie a Interpretação e Discussão dos Resultados do projeto."
   ]
  },
  {
   "cell_type": "markdown",
   "metadata": {},
   "source": [
    "# Exercício 2: Categorização De Imagens Para Detecção De Pneumonia\n",
    "<img src=\"images/pneumonia.png\" alt=\"jupyter\" style=\"width: 500px;\" align=\"central\"/>\n",
    "\n",
    "A ideia deste projeto é utilizar uma plataforma de anotações de dados ([Appen](https://appen.com/solutions/platform-overview/)) para \"ensinar\" anotadores a determinar se as imagens de raio-x apresentadas possui ou não pneumonia, ou ainda se há dúvidas quanto a isso (incerto). \n",
    "\n",
    "* Veja o vídeo ...\n",
    "[![Appen](https://img.youtube.com/vi/h5076nFFyJE/hqdefault.jpg)](https://youtu.be/h5076nFFyJE \"Appen\")\n",
    "\n",
    "Um especialista no assunto apresenta imagens:\n",
    "* Com pneumonia; e\n",
    "* Saudáveis;\n",
    "\n",
    "E em seguida apresenta algumas imagens para os candidatos a anotadores responderem. Dependendo do nível de acerto neste teste, os anotadores estarão aptos a fazer a anotação de todo o dataset.\n",
    "\n",
    "## Acesse o [projeto](https://vsvasconcelos.github.io/appen.html)\n",
    "\n",
    "### 1) Siga os passos, veja as dicas de avaliação e responda o questionário. \n",
    "    * Achou fácil identificar uma pneumonia?\n",
    "\n",
    "### 2) Explore um pouco o portal da [Appen](https://appen.com/solutions/annotation-capabilities/)"
   ]
  },
  {
   "cell_type": "markdown",
   "metadata": {},
   "source": [
    "# Quer saber mais?\n",
    "\n",
    "* Veja a [PlayList Glossário AI](https://www.youtube.com/watch?v=FZa0S5FmVzs&list=PL_uE4fr8jUNx4NtGltMdydozOd_QD73Ud) do I2AI\n",
    "\n",
    "* Veja os capítulos  5 e 6 do livro (grátis) [Machine Learning Engineering - Andriy Burkov](http://www.mlebook.com/wiki/doku.php)\n",
    "\n",
    "* Assista ao vídeo sobre o scikit-learning (sklearn)...   \n",
    "\n",
    "[![sklearn](https://img.youtube.com/vi/39HBlzFV9vk/hqdefault.jpg)](https://youtu.be/39HBlzFV9vk \"sklearn\")\n",
    "\n",
    "   * Explore a playlist do curso Introdução à [Machine Learning](https://www.youtube.com/watch?v=_EhfAOSITJw&list=PLFE-LjWAAP9SnJykh2e9ucXh6c7CCDksu) do ICMC da USP\n",
    "\n",
    "   * Veja a documentação do [scikit-learning](https://scikit-learn.org/stable/supervised_learning.html#supervised-learning)\n",
    "\n",
    "   * Veja exemplos de [utilização](https://scikit-learn.org/stable/auto_examples/index.html#classification) no sklearn\n",
    "    \n",
    "   * Leia o artigo [Implementando um Modelo de Classificação no Scikit-Learn](https://tatianaesc.medium.com/implementando-um-modelo-de-classifica%C3%A7%C3%A3o-no-scikit-learn-6206d684b377)\n",
    "    \n",
    "   * Leia o artigo [Regressão Linear com Sklearn: Conceito e Aplicação](https://medium.com/@lamartine_sl/regress%C3%A3o-linear-com-sklearn-modelo-de-previs%C3%A3o-de-custos-com-plano-de-sa%C3%BAde-5e963e590f4c)\n",
    "   \n",
    "   * [Matriz de confusão](https://medium.com/@bernardolago/matriz-de-confus%C3%A3o-7c0e36468323)\n",
    "   \n",
    "   * Veja a [PlayList](https://www.youtube.com/watch?v=0Nafdcq4n7k&list=PL7OlISixQYm4v1fW1Mn9dsAoyoL8CnKuf) do prof. Alexandre Levada   \n",
    "   \n",
    "   * Explore o canal [Ciência de Dados na Veia](https://www.youtube.com/c/Ci%C3%AAnciadeDadosnaVeia/featured)\n",
    "\n",
    "   * Assista ao vídeo ...\n",
    "[![Machine Learning para diagnóstico e prognóstico no setor elétrico](https://img.youtube.com/vi/9Wq0Nm45YHU/hqdefault.jpg)](https://youtu.be/9Wq0Nm45YHU \"Machine Learning para diagnóstico e prognóstico no setor elétrico\")\n",
    "\n",
    "   * Explore o artigo [Welcome to the Basics of ML](https://www.mltut.com/machine-learning/)\n",
    "   \n",
    "   * Veja as aulas de IA do curso Empreendedorismo e Inovação Tecnológica nas Engenharias, do prof. Cláudio Pinheiro\n",
    "       - [Tipos de IA](https://youtu.be/rsdUhG9pAH4);\n",
    "       - [Técnicas de modelagem e Aprendizagem Profunda](https://youtu.be/QbARoetAPFk);\n",
    "       - [O futuro da Inteligência Artificial](https://youtu.be/JZblgY0UfWM)"
   ]
  },
  {
   "cell_type": "markdown",
   "metadata": {},
   "source": [
    "# Gosta de livros ...\n",
    "\n",
    "[Machine Learning for dummies - Hurwitz - Kirsch](https://www.ibm.com/downloads/cas/GB8ZMQZ3)"
   ]
  },
  {
   "cell_type": "markdown",
   "metadata": {},
   "source": [
    "Qualquer dúvida, poste no fórum da disciplina.\n",
    "### Te vejo na mentoria!"
   ]
  },
  {
   "cell_type": "markdown",
   "metadata": {},
   "source": [
    "[<center><img src=\"images/Logo_I2A2.webp\"></center>](https://www.i2a2.ca/)         \n",
    "Rev 2"
   ]
  },
  {
   "cell_type": "markdown",
   "metadata": {},
   "source": [
    "# Módulo 3"
   ]
  },
  {
   "cell_type": "markdown",
   "metadata": {
    "slideshow": {
     "slide_type": "slide"
    }
   },
   "source": [
    "# Aula 2 - Aprendizado Não Supervisionado  (Unsupervised Learning)\n",
    "\n",
    "\n",
    "**Objetivo**: Apresentar o aprendizado não supervisionado e suas aplicações"
   ]
  },
  {
   "cell_type": "markdown",
   "metadata": {},
   "source": [
    "Este material o auxiliará nas sessões de autoestudo, contudo, fique à vontade para consultar outras fontes de informações, mas nunca deixe de citá-las."
   ]
  },
  {
   "cell_type": "markdown",
   "metadata": {},
   "source": [
    "# Tipos básicos de Aprendizagem de Máquina\n",
    "\n",
    "### Como as máquinas aprendem?\n",
    "\n",
    "Na aula passada falamos das 3 abordagens básicas de aprendizado de máquina, lembra?\n",
    "\n",
    "<img src=\"images/ML_modelos2.png\"/>"
   ]
  },
  {
   "cell_type": "markdown",
   "metadata": {},
   "source": [
    "# Diferentes formas de aprendizado de máquina \n",
    "\n",
    "Na leitura do artigo [As diferentes formas de aprendizado de máquina](https://www.eldorado.org.br/blog/as-diferentes-formas-de-aprendizado-de-maquina/) da aula passada, você deve ter identificado a principal diferença entre o aprendizado supervisionado e o não supervisionado, certo?\n",
    "\n",
    "   * Qualquer coisa, revisite o [artigo](https://www.eldorado.org.br/blog/as-diferentes-formas-de-aprendizado-de-maquina/).     "
   ]
  },
  {
   "cell_type": "markdown",
   "metadata": {},
   "source": [
    "# Aprendizado Supervisionado (Supervised Learning)\n",
    "<img src=\"images/aprensuper.png\" />"
   ]
  },
  {
   "cell_type": "markdown",
   "metadata": {},
   "source": [
    "# Aprendizado Não supervisionado (Unsupervised)\n",
    "<img src=\"images/aprennaosuper.png\" />\n",
    "\n",
    "\n",
    "* Assista ao vídeo ...\n",
    "[![aprendizagem não supervisionado](https://img.youtube.com/vi/SqfOoVaN7CQ/hqdefault.jpg)](https://youtu.be/SqfOoVaN7CQ?t=72 \"aprendizagem não supervisionado\")"
   ]
  },
  {
   "cell_type": "markdown",
   "metadata": {},
   "source": [
    "# Exercício 1: Análise de Agrupamentos - Aplicação em Python\n",
    "\n",
    "\n",
    "* Assista ao vídeo ...\n",
    "[![Análise de Agrupamentos](https://img.youtube.com/vi/d_CJGaAbC7o/hqdefault.jpg)](https://youtu.be/d_CJGaAbC7o \"Análise de Agrupamentos\")\n",
    "\n",
    "e execute o notebook abaixo ...\n",
    "\n",
    "[![Binder](https://mybinder.org/badge_logo.svg)](https://mybinder.org/v2/gh/cibelerusso/AnaliseMultivariadaEAprendizadoNaoSupervisionado/master?filepath=Comandos%20em%20Python/10%20Agrupamentos.ipynb)\n",
    "\n",
    "\n",
    "#### Procure acompanhar o vídeo e vá executando simultaneamente o Jupyter Notebook"
   ]
  },
  {
   "cell_type": "markdown",
   "metadata": {},
   "source": [
    "# Quer saber mais?\n",
    "* Veja as aulas da disciplina [SME0822 - Análise Multivariada e Aprendizado Não Supervisionado (2020)](https://edisciplinas.usp.br/course/view.php?id=78145#section-4) do Instituto de Ciências Matemáticas e de Computação da USP\n",
    "\n",
    "* Explore a playlist [Ciência de Dados](https://www.youtube.com/watch?v=lm2IagDGDAU&list=PLSc7xcwCGNh1PJrPfLaH4MMjfDl48tmGM) do prof. Francisco Rodrigues\n",
    "\n",
    "* Veja a documentação do [scikit-learning](https://scikit-learn.org/stable/unsupervised_learning.html)\n",
    "\n",
    "* Veja exemplos de [utilização](https://scikit-learn.org/stable/auto_examples/index.html#clustering) no sklearn\n",
    "\n",
    "* Assista ao vídeo Ciência de Dados e a Indústria 4.0\n",
    "[![dsi40](https://img.youtube.com/vi/mHKgXOJZgAw/hqdefault.jpg)](https://youtu.be/mHKgXOJZgAw \"dsi40\")\n",
    "\n",
    "# Gosta de livros ...\n",
    "[Como implementar IA em sua empresa - Lauria](https://conteudo.i2ai.org/implementar-ia-em-sua-empresa)\n"
   ]
  },
  {
   "cell_type": "markdown",
   "metadata": {},
   "source": [
    "Qualquer dúvida, poste no fórum da disciplina.\n",
    "### Te vejo na mentoria!"
   ]
  },
  {
   "cell_type": "markdown",
   "metadata": {},
   "source": [
    "[<center><img src=\"images/Logo_I2A2.webp\"></center>](https://www.i2a2.ca/)         \n",
    "Rev 1"
   ]
  },
  {
   "cell_type": "markdown",
   "metadata": {},
   "source": [
    "# Módulo 3"
   ]
  },
  {
   "cell_type": "markdown",
   "metadata": {
    "slideshow": {
     "slide_type": "slide"
    }
   },
   "source": [
    "# Aula 3 - parte 1: Orange Data Mining\n",
    "\n",
    "\n",
    "**Objetivo**: Apresentar a ferramenta **Orange Data Mining**"
   ]
  },
  {
   "cell_type": "markdown",
   "metadata": {},
   "source": [
    "Este material o auxiliará nas sessões de autoestudo, contudo, fique à vontade para consultar outras fontes de informações, mas nunca deixe de citá-las."
   ]
  },
  {
   "cell_type": "markdown",
   "metadata": {},
   "source": [
    "# Orange Data Mining\n",
    "\n",
    "* Orange é um kit de ferramentas de visualização de dados, aprendizado de máquina e mineração de dados de código aberto. Ele apresenta um front-end de programação visual para análise exploratória de dados qualitativos rápida e visualização interativa de dados. [[wikipedia](https://en.wikipedia.org/wiki/Orange_(software))]\n",
    "\n",
    "[<img src=\"images/OrangeDM.png\"/>](https://orangedatamining.com/)\n",
    "* Faça download e instale o Orange Data Mining no seu computador atentando para o sistema operacional utilizado.\n",
    "\n",
    "   * [Link para download](https://orangedatamining.com/download/#linux)\n",
    "   \n",
    "* Explore a ferramenta, navegue pelos menus ...\n",
    "   \n",
    "### Outras ferramentas semelhantes (não serão abordadas neste curso):\n",
    "* [knime](https://www.knime.com/)\n",
    "* [RapidMiner](https://rapidminer.com/get-started/)\n",
    "* [Weka](https://www.cs.waikato.ac.nz/ml/weka/)\n"
   ]
  },
  {
   "cell_type": "markdown",
   "metadata": {},
   "source": [
    "# Visão Geral do Orange Data Mining\n",
    "\n",
    "* Assista aos vídeos abaixo para ter uma visão geral do **Orange Data Mining**: \n",
    "\n",
    "[![IntroducaoOrange](https://img.youtube.com/vi/bG4qp_XZPko/hqdefault.jpg)](https://youtu.be/bG4qp_XZPko \"IntroducaoOrange\")\n",
    "\n",
    "[![ApresentandoOrange](https://img.youtube.com/vi/cLnqnbpPiUw/hqdefault.jpg)](https://youtu.be/cLnqnbpPiUw \"ApresentandoOrange\")\n",
    "\n",
    "\n",
    "[![Orangeintro](https://img.youtube.com/vi/HXjnDIgGDuI/hqdefault.jpg)](https://youtu.be/HXjnDIgGDuI \"Orangeintro\")"
   ]
  },
  {
   "cell_type": "markdown",
   "metadata": {},
   "source": [
    "# Conceitos Importantes\n",
    "\n",
    "## Canvas\n",
    "É a área (quadro de desenho) na qual o usuário pode inserir os componentes (widget) formando um fluxo de execução (workflow).\n",
    "\n",
    "<img src=\"images/canvas.png\" alt=\"jupyter\" style=\"width: 500px;\"/>\n",
    "\n",
    "## Widget\n",
    "São elementos que podem ler, processar e visualizar dados. [Aqui](https://orangedatamining.com/widget-catalog/) você pode visualizar todos os widgets disponíveis na ferramenta. Explore alguns!     \n",
    "\n",
    "Os widgets se comunicam, sendo suas saídas conectadas as entradas uns dos outros.\n",
    "\n",
    "\n",
    "## Workflow\n",
    "São as possíveis sequências de operações e recursos, conforme os widgets são conectados. [Aqui](https://orangedatamining.com/workflows/) você pode visualizar alguns exemplos de workflows."
   ]
  },
  {
   "cell_type": "markdown",
   "metadata": {},
   "source": [
    "# Tutoriais do Orange\n",
    "Explore o [canal da Orange no Youtube](https://www.youtube.com/c/OrangeDataMining/videos?view=0&sort=da&flow=grid). Se necessário, habilite a legenda em Português."
   ]
  },
  {
   "cell_type": "markdown",
   "metadata": {},
   "source": [
    "# Transformando dados em ideias\n",
    "\n",
    "* Assista ao vídeo [Orange DataMining Transformando dados em idéias](https://www.espm.br/cursos/pocket-records/orange-datamining-transformando-dados-em-ideias/) do prof. João Manoel Quadros Barros."
   ]
  },
  {
   "cell_type": "markdown",
   "metadata": {},
   "source": [
    "# Portal Brasileiro de Dados Abertos\n",
    "\n",
    "* Assista ao vídeo [Orange Data Mining; uma aplicação introdutória no Portal Brasileiro de Dados Abertos](https://www.youtube.com/watch?v=ot1bxrsYOeY) do prof. Dr. Abdinardo Oliveira."
   ]
  },
  {
   "cell_type": "markdown",
   "metadata": {},
   "source": [
    "# Projeto de Análise Exploratória de Dados\n",
    "\n",
    "* Escolha uma base de dados qualquer e realize uma EDA utilizando o Orange"
   ]
  },
  {
   "cell_type": "markdown",
   "metadata": {},
   "source": [
    "# Quer saber mais?\n",
    "\n",
    "   * Assista ...\n",
    "\n",
    "[![Análise de Dados com Orange ](https://img.youtube.com/vi/_-wdO6kYeRk/hqdefault.jpg)](https://youtu.be/_-wdO6kYeRk \"Análise de Dados com Orange \")\n",
    "\n",
    "# Gosta de livros ...    \n",
    "\n",
    "   * Veja o livro: [Introduction to Data Mining](https://file.biolab.si/notes/2018-05-intro-to-datamining-notes.pdf)"
   ]
  },
  {
   "cell_type": "markdown",
   "metadata": {},
   "source": [
    "Qualquer dúvida, poste no fórum da disciplina.\n",
    "### Te vejo na mentoria!"
   ]
  },
  {
   "cell_type": "markdown",
   "metadata": {},
   "source": [
    "[<center><img src=\"images/Logo_I2A2.webp\"></center>](https://www.i2a2.ca/)         \n",
    "Rev 2"
   ]
  },
  {
   "cell_type": "markdown",
   "metadata": {},
   "source": [
    "# Módulo 3"
   ]
  },
  {
   "cell_type": "markdown",
   "metadata": {
    "slideshow": {
     "slide_type": "slide"
    }
   },
   "source": [
    "# Aula 3 - parte 2: Python e Jupyter intermediário\n",
    "\n",
    "**Objetivo**: Avançar na utilização do python e jupyter notebook."
   ]
  },
  {
   "cell_type": "markdown",
   "metadata": {},
   "source": [
    "Este material o auxiliará nas sessões de autoestudo, contudo, fique à vontade para consultar outras fontes de informações, mas nunca deixe de citá-las."
   ]
  },
  {
   "cell_type": "markdown",
   "metadata": {},
   "source": [
    "# Representação dos Algoritmos\n",
    "\n",
    "[![represalgo](https://img.youtube.com/vi/mnObRYYuqO8/hqdefault.jpg)](https://youtu.be/iDHArTzfAHI \"represalgo\")\n"
   ]
  },
  {
   "cell_type": "markdown",
   "metadata": {},
   "source": [
    "# Documentação do código\n",
    "\n",
    "\n",
    "[![documentação](https://img.youtube.com/vi/Kn-ekrQxvb8/hqdefault.jpg)](https://youtu.be/Kn-ekrQxvb8 \"documentação\")\n",
    "\n",
    "* Veja os guias de estilo:\n",
    "   - [Google](https://google.github.io/styleguide/pyguide.html?showone=Comments#Comments);  \n",
    "   - [PEP8](https://wiki.python.org.br/GuiaDeEstilo);  \n",
    "\n",
    "# Controle de versão\n",
    "\n",
    "* Veja a playlist [Projetos de Data Science e Machine Learning com Git e Github](https://www.youtube.com/playlist?list=PLrakQQfctUYX37CRv3fomYfKwDe0NLmsk)"
   ]
  },
  {
   "cell_type": "markdown",
   "metadata": {},
   "source": [
    "# Bibliotecas\n",
    "\n",
    "No módulo 2 já tivemos uma boa noção da utilização destas ferramentas, agora avançaremos.\n",
    "\n",
    "* Assista o vídeo abaixo ...\n",
    "\n",
    "\n",
    "[![numpy](https://img.youtube.com/vi/N0J4Cqn43t8/hqdefault.jpg)](https://youtu.be/N0J4Cqn43t8 \"numpy\")\n",
    "\n",
    "\n",
    "[![pandas](https://img.youtube.com/vi/zHlJY0xuu8M/hqdefault.jpg)](https://youtu.be/zHlJY0xuu8M \"pandas\")\n",
    "\n",
    "\n",
    "[![bibliotecas](https://img.youtube.com/vi/J4iwm0r2iwo/hqdefault.jpg)](https://youtu.be/J4iwm0r2iwo \"bibliotecas\")\n",
    "\n",
    "* Explore a biblioteca de visualização de dados **Bokeh**\n",
    "\n",
    "[<center><img src=\"images/bokeh.png\"></center>](https://demo.bokeh.org/gapminder)         "
   ]
  },
  {
   "cell_type": "markdown",
   "metadata": {},
   "source": [
    "# Tratamento de Erros/Exceções\n",
    "\n",
    "* Veja a playlist de tratamento de erros/exceções\n",
    "\n",
    "[![erros](https://img.youtube.com/vi/9qLiQMtWoIs/hqdefault.jpg)](https://www.youtube.com/watch?app=desktop&v=9qLiQMtWoIs&list=PLAgbpJQADBGLgmb3Tsb6baK1cWg6ufxDu \"Tratamento de Erros\")"
   ]
  },
  {
   "cell_type": "markdown",
   "metadata": {},
   "source": [
    "#  Universo Pythonico\n",
    "* Assista ao vídeo abaixo ...\n",
    "[![Universo Pythonico](https://img.youtube.com/vi/jbN96Lzf_P8/hqdefault.jpg)](https://https://youtu.be/jbN96Lzf_P8 \"Universo Pythonico\")\n",
    "\n",
    "   - Pesquise por\n",
    "      * O que é Pythonico?\n",
    "      * Objetos iteráveis;\n",
    "      * Objetos chamáveis (callable);\n",
    "      * Funções anônimas com lambda;\n",
    "      * Python Data Model."
   ]
  },
  {
   "cell_type": "markdown",
   "metadata": {},
   "source": [
    "# Curso de python intermediário - avançado\n",
    "\n",
    "* Playlist co curso [Python Intermediário / Avançado](https://www.youtube.com/watch?v=H4hVRzaxjl0&list=PLsMpSZTgkF5ANrrp31dmQoG0-hPoI-NoX )  \n",
    "\n",
    "* [Playlist Aprendizado de Máquina com Python e scikit-lear](https://www.youtube.com/watch?v=8735giisOXE&list=PLeFetwYAi-F9Z0N3ZSjPL2i24PO5iiXaY)\n",
    "\n",
    "* Aulas finais da playlist do curso [Introdução à Data Science com Python](https://www.youtube.com/watch?v=pjT_0nPiSqQ&list=PLFE-LjWAAP9SfEuLXf3qrpw4szKWjlYq9)do ICMC da USP"
   ]
  },
  {
   "cell_type": "markdown",
   "metadata": {},
   "source": [
    "# Scikit-learn course\n",
    "\n",
    "Explore este material ...\n",
    "\n",
    "   * [notebook](https://inria.github.io/scikit-learn-mooc/)\n",
    "   * [github](https://github.com/INRIA/scikit-learn-mooc)\n"
   ]
  },
  {
   "cell_type": "markdown",
   "metadata": {},
   "source": [
    "# Quer saber mais?\n",
    "* Veja o curso grátis [Python Fundamentos Para Análise de Dados 3.0](https://www.datascienceacademy.com.br/course/python-fundamentos) da DSA.\n",
    "\n",
    "* Veja a [PlayList](https://www.youtube.com/watch?v=8UfIDvWjKO0&list=PLLrlHSmC0Mw6LozInZxlkMrkiJ_eLLyrL) do prof. Thiago Ferreira.\n",
    "\n",
    "* Execute os [notebooks](https://github.com/storopoli/ciencia-de-dados) dos Professores Storopoli e Souza\n",
    "\n",
    "* Veja essas biblioteca:\n",
    "    - [Python library for reliability engineering and survival analysis](https://reliability.readthedocs.io/en/latest/)\n",
    "\n",
    "    - [NetworkX](https://networkx.org/documentation/stable/auto_examples/index.html)\n",
    "\n",
    "* Fundamentos Matemáticos para Computação\n",
    "\n",
    "    * [Árvores de decisão](https://www.youtube.com/watch?v=VnFP1IdWO0E);\n",
    "    * [Grafos e suas representações](https://www.youtube.com/watch?v=gLJaDI_fcTA)\n",
    "    \n",
    "* Mini Curso de controle de versão de código [Github](https://www.youtube.com/watch?v=0P2AaPHHI8Q&list=PLeFetwYAi-F_l3CKIbpklrr7_0xcxz2yc)\n",
    "\n",
    "* Explore a playlist [Jupyter Widgets](https://www.youtube.com/watch?v=f73YL6-TX0I&list=PLH9knZH6lcgpBuvi0349Db6-seYVo_4yX&index=1) do prof. Anibal Azevedo\n",
    "\n",
    "* [Análise de Dados no Colab](https://eaulas.usp.br/portal/embed-video?idItem=17418&autostart=false)\n",
    "\n",
    "* Explore o portal [Notes On Using - Data Science & Machine Learning](https://chrisalbon.com/) de Chris Albon\n",
    "\n",
    "\n",
    "### Gosta de livros ...\n",
    "[Pense em Python - Allen B. Downey](https://penseallen.github.io/PensePython2e/)\n",
    "\n",
    "[Scientific Visualization: Python + Matplotlib - Nicolas P. Rougier, ](https://github.com/rougier/scientific-visualization-book)\n",
    "\n",
    "[Free python books](https://github.com/pamoroso/free-python-books)\n",
    "\n",
    "[Python Data Science Handbook - Jake VanderPlas](https://jakevdp.github.io/PythonDataScienceHandbook/)\n",
    "\n",
    "[Jupyter Guide to Linear Algebra](https://bvanderlei.github.io/jupyter-guide-to-linear-algebra/intro.html)\n",
    "\n",
    "[Teaching and Learning with Jupyter](https://jupyter4edu.github.io/jupyter-edu-book/)\n",
    "\n",
    "[Python Programming for Data Science](https://www.tomasbeuzen.com/python-programming-for-data-science/README.html)\n",
    "\n",
    "[Books with Jupyter](https://executablebooks.org/en/latest/gallery.html)"
   ]
  },
  {
   "cell_type": "markdown",
   "metadata": {},
   "source": [
    "Qualquer dúvida, poste no fórum da disciplina.\n",
    "### Te vejo na mentoria!"
   ]
  },
  {
   "cell_type": "markdown",
   "metadata": {},
   "source": [
    "[<center><img src=\"images/Logo_I2A2.webp\"></center>](https://www.i2a2.ca/)         \n",
    "Rev 2"
   ]
  },
  {
   "cell_type": "markdown",
   "metadata": {},
   "source": [
    "# Módulo 4"
   ]
  },
  {
   "cell_type": "markdown",
   "metadata": {
    "slideshow": {
     "slide_type": "slide"
    }
   },
   "source": [
    "# Aula 1 - Classificação e Agrupamento\n",
    "\n",
    "**Objetivo**: Apresentar os algoritmos de classificação e agrupamento"
   ]
  },
  {
   "cell_type": "markdown",
   "metadata": {},
   "source": [
    "Este material o auxiliará nas sessões de autoestudo, contudo, fique à vontade para consultar outras fontes de informações, mas nunca deixe de citá-las."
   ]
  },
  {
   "cell_type": "markdown",
   "metadata": {},
   "source": [
    "# Escolhendo o algoritmo/modelo (estimador) correto\n",
    "\n",
    "Muitas vezes, a parte mais difícil de resolver um problema de aprendizado de máquina pode ser encontrar o estimador certo para o trabalho.     \n",
    "O fluxograma abaixo foi projetado para fornecer aos usuários um guia aproximado sobre como abordar problemas em relação a quais estimadores devem ser testados em seus dados.    \n",
    "Clique em qualquer estimador no gráfico abaixo para ver sua documentação.\n",
    "\n",
    "[<img src=\"images/ml_map.png\"/>](https://scikit-learn.org/stable/tutorial/machine_learning_map/index.html)"
   ]
  },
  {
   "cell_type": "markdown",
   "metadata": {},
   "source": [
    "# Relembrando ...\n",
    "* As variáveis podem ser classificadas em:\n",
    "\n",
    "    - Variáveis não métricas (qualitativas, categóricas): permitem apenas a análise de frequências, sem a possibilidade do cálculo de medidas de posição e de dispersão, exceto a moda; e\n",
    "    - Variáveis métricas (quantitativas): são representadas por valores que podem ser tratados com o intuito do cálculo de medidas de posição (ex. média) ou dispersão (ex. desvio padrão). Podem ser discretas (ex. número de filhos) ou contínuas (ex. salário). Ao contrário das variáveis qualitativas, as métricas suportam um número bem maior de representações gráficas, tais como: gráficos de dispersão, de linha, etc; bem como o cálculo de correlações entre variáveis deste tipo.\n",
    "    \n",
    "Fonte: [Fávaro et al. (2009)](https://scholar.google.com.br/scholar?hl=pt-BR&as_sdt=0,5&cluster=12103570380505974351)"
   ]
  },
  {
   "cell_type": "markdown",
   "metadata": {},
   "source": [
    "# Explore o fluxograma\n",
    "    - Em quantos grandes grupos os estimadores se dividem?\n",
    "    - Quais são esses grandes grupos?\n",
    "    - Qual a quantidade mínima de dados recomendada?\n",
    "    - Se para resolver o seu  problema de negócio é  necessário a predição de uma variável categórica, qual o critério em optar por estimadores do tipo classificação ou clustering (agrupamento)?\n",
    "    - Já se o problema envolve a predição de uma variável quantitativa, qual grupo de estimador utilizar?"
   ]
  },
  {
   "cell_type": "markdown",
   "metadata": {},
   "source": [
    "# Estimadores de Classificação\n",
    "\n",
    "* Clique em cada um dos estimadores de classificação (caixas verdes) para a acessar suas documentações.\n",
    "    - Liste os tipos de classificadores;\n",
    "    - O que é um classificador binário e um multi classe?\n",
    "    - Acesse exemplos;\n",
    "    - Atente para a formulação matemática dos modelos. Lembra quando alguém perguntou: \"professora para que serve isto?\"."
   ]
  },
  {
   "cell_type": "markdown",
   "metadata": {},
   "source": [
    "## SVM - Máquina de vetores de suporte\n",
    "\n",
    "* Assista aos vídeos ... \n",
    "\n",
    "[![SMV2](https://img.youtube.com/vi/CbejnYx8JlQ/hqdefault.jpg)](https://youtu.be/CbejnYx8JlQ \"SVM2\") \n",
    "\n",
    "\n",
    "[![SMV](https://img.youtube.com/vi/ba7tMJZbGyA/hqdefault.jpg)](https://youtu.be/ba7tMJZbGyA \"SVM\") \n"
   ]
  },
  {
   "cell_type": "markdown",
   "metadata": {},
   "source": [
    "## SGD - Stochastic Gradient Descent\n",
    "\n",
    "* Assista ao vídeo ... \n",
    "\n",
    "[![SGD](https://img.youtube.com/vi/NJ6SEJEmuGY/hqdefault.jpg)](https://youtu.be/NJ6SEJEmuGY \"SGD\") \n"
   ]
  },
  {
   "cell_type": "markdown",
   "metadata": {},
   "source": [
    "## KNN - K Nearest Neighbor\n",
    "\n",
    "* Assista ao vídeo ... \n",
    "\n",
    "[![KNN](https://img.youtube.com/vi/DeAuVrhKw58/hqdefault.jpg)](https://youtu.be/DeAuVrhKw58 \"KNN\") "
   ]
  },
  {
   "cell_type": "markdown",
   "metadata": {},
   "source": [
    "## Naive Bayes\n",
    "\n",
    "* Assista ao vídeo ... \n",
    "\n",
    "[![Naive Bayes](https://img.youtube.com/vi/8ZqsODxehO4/hqdefault.jpg)](https://youtu.be/8ZqsODxehO4 \"Naive Bayes\")"
   ]
  },
  {
   "cell_type": "markdown",
   "metadata": {},
   "source": [
    "## Ensemble - Comitê de Máquinas de Aprendizado\n",
    "\n",
    "* Assista ao vídeo ... \n",
    "\n",
    "[![Ensemble](https://img.youtube.com/vi/41yF29X8QTA/hqdefault.jpg)](https://youtu.be/41yF29X8QTA \"Ensemble\") "
   ]
  },
  {
   "cell_type": "markdown",
   "metadata": {},
   "source": [
    "## Kernel Approximation\n",
    "\n",
    "* Leia o artigo: [Kernel Functions for Machine Learning Applications](http://crsouza.com/2010/03/17/kernel-functions-for-machine-learning-applications/)"
   ]
  },
  {
   "cell_type": "markdown",
   "metadata": {},
   "source": [
    "# Estimadores de Agrupamento\n",
    "\n",
    "* Clique em cada um dos estimadores de agrupamento (caixas verdes) para a acessar suas documentações.\n",
    "    - Liste os tipos de agrupamentos;\n",
    "    - Acesse exemplos;\n",
    "    - Atente para a formulação matemática dos modelos."
   ]
  },
  {
   "cell_type": "markdown",
   "metadata": {},
   "source": [
    "## Kmeans \n",
    "* Assista aos vídeos ... \n",
    "\n",
    "[![kmeans1](https://img.youtube.com/vi/WqMnQuC19Rg/hqdefault.jpg)](https://youtu.be/WqMnQuC19Rg \"kmeans1\")\n",
    "\n",
    "[![kmeans](https://img.youtube.com/vi/5koTNJD6fjQ/hqdefault.jpg)](https://youtu.be/5koTNJD6fjQ \"kmeans\")"
   ]
  },
  {
   "cell_type": "markdown",
   "metadata": {},
   "source": [
    "## Spectral clustering\n",
    "\n",
    "* Assista ao vídeo ... \n",
    "\n",
    "[![spectralclustering](https://img.youtube.com/vi/4pSg0XbMn0U/hqdefault.jpg)](https://youtu.be/4pSg0XbMn0U \"spectralclustering\")"
   ]
  },
  {
   "cell_type": "markdown",
   "metadata": {},
   "source": [
    "## GMM - Gaussian mixture models\n",
    "\n",
    "* Assista ao vídeo ... \n",
    "\n",
    "[![gmm](https://img.youtube.com/vi/x75j6y9nvJU/hqdefault.jpg)](https://youtu.be/x75j6y9nvJU \"gmm\")"
   ]
  },
  {
   "cell_type": "markdown",
   "metadata": {},
   "source": [
    "## Minibatch kmeans\n",
    "\n",
    "* Leia o artigo: [ML | Mini Batch K-means clustering algorithm](https://www.geeksforgeeks.org/ml-mini-batch-k-means-clustering-algorithm/)"
   ]
  },
  {
   "cell_type": "markdown",
   "metadata": {},
   "source": [
    "## Meanshift\n",
    "\n",
    "* Leia o artigo: [How to perform Mean Shift clustering with Python in Scikit?](https://www.machinecurve.com/index.php/2020/04/23/how-to-perform-mean-shift-clustering-with-python-in-scikit/0)"
   ]
  },
  {
   "cell_type": "markdown",
   "metadata": {},
   "source": [
    "## VBGMM - Variational Bayesian Gaussian Mixture\n",
    "\n",
    "* Leia o artigo: [Variational Inference in Bayesian Multivariate Gaussian Mixture Model](https://towardsdatascience.com/variational-inference-in-bayesian-multivariate-gaussian-mixture-model-41c8cc4d82d7)"
   ]
  },
  {
   "cell_type": "markdown",
   "metadata": {},
   "source": [
    "# Introdução ao SKLearn\n",
    "\n",
    "[![MLxDL](https://img.youtube.com/vi/rkJ_83ADYf4/hqdefault.jpg)](https://youtu.be/rkJ_83ADYf4?t=645 \"MLxDL\") \n",
    "\n",
    "Leia os artigos:\n",
    "\n",
    "   * [Introdução ao Scikit-learn - Parte 1: uma visão geral](http://computacaointeligente.com.br/outros/intro-sklearn-part-1/)\n",
    "   * [Introdução ao Scikit-learn - Parte 2: criando o primeiro projeto](http://computacaointeligente.com.br/outros/intro-sklearn-part-2/)\n",
    "   * [Introdução ao Scikit-learn - Parte 3: avaliando a qualidade do modelo via cross-validation](http://computacaointeligente.com.br/outros/intro-sklearn-part-3/)"
   ]
  },
  {
   "cell_type": "markdown",
   "metadata": {},
   "source": [
    "# Exercício 1\n",
    "\n",
    "* Execute o notebook **Machine Learning**\n",
    "\n",
    "[![Binder](https://mybinder.org/badge_logo.svg)](https://mybinder.org/v2/gh/storopoli/ciencia-de-dados/main?filepath=Aula_10_Machine_Learning.ipynb)"
   ]
  },
  {
   "cell_type": "markdown",
   "metadata": {},
   "source": [
    "# Exercício 2\n",
    "\n",
    "* Execute o notebook **Análise de Agrupamentos (Clusterização)**\n",
    "\n",
    "[![Binder](https://mybinder.org/badge_logo.svg)](https://mybinder.org/v2/gh/storopoli/ciencia-de-dados/main?filepath=Aula_17_Clusterizacao.ipynb)"
   ]
  },
  {
   "cell_type": "markdown",
   "metadata": {},
   "source": [
    "# Exercício 3\n",
    "\n",
    "* Execute o notebook **SVM (Máquina de Vetores de Suporte)**\n",
    "\n",
    "[![Binder](https://mybinder.org/badge_logo.svg)](https://mybinder.org/v2/gh/storopoli/ciencia-de-dados/main?filepath=Aula_13_Support_Vector_Machines.ipynb)"
   ]
  },
  {
   "cell_type": "markdown",
   "metadata": {},
   "source": [
    "# Exercício 4\n",
    "\n",
    "* Execute o notebook **Árvore de Decisão**\n",
    "\n",
    "[![Binder](https://mybinder.org/badge_logo.svg)](https://mybinder.org/v2/gh/storopoli/ciencia-de-dados/main?filepath=Aula_14_Arvores_de_Decisao.ipynb)"
   ]
  },
  {
   "cell_type": "markdown",
   "metadata": {},
   "source": [
    "# Exercício 5\n",
    "\n",
    "* Execute o notebook **Floresta Aleatória (Random Forest)**\n",
    "\n",
    "[![Binder](https://mybinder.org/badge_logo.svg)](https://mybinder.org/v2/gh/storopoli/ciencia-de-dados/main?filepath=Aula_15_Florestas_Aleatorias.ipynb)"
   ]
  },
  {
   "cell_type": "markdown",
   "metadata": {},
   "source": [
    "# Quer saber mais\n",
    "\n",
    "\n",
    "### AutoML o que é isto?\n",
    "[![AutoML](https://img.youtube.com/vi/Yh55o3QFAHw/hqdefault.jpg)](https://youtu.be/Yh55o3QFAHw \"AutoML\")\n",
    "\n",
    "[![AutoML](https://img.youtube.com/vi/88jD1nnkNfM/hqdefault.jpg)](https://youtu.be/88jD1nnkNfM \"AutoML\")\n",
    "\n",
    "* Execute o notebook **Binary Classification Tutorial Level Beginner**\n",
    "\n",
    "[![Binder](https://mybinder.org/badge_logo.svg)](https://mybinder.org/v2/gh/pycaret/pycaret/master?filepath=tutorials/Binary%20Classification%20Tutorial%20Level%20Beginner%20-%20%20CLF101.ipynb)\n",
    "\n",
    "* Execute o notebook **Clustering Tutorial Level Beginner**\n",
    "\n",
    "[![Binder](https://mybinder.org/badge_logo.svg)](https://mybinder.org/v2/gh/pycaret/pycaret/master?filepath=tutorials/Clustering%20Tutorial%20Level%20Beginner%20-%20CLU101.ipynb)\n",
    "\n",
    "Assista aos vídeos ...\n",
    "\n",
    "   * Classificação\n",
    "[![DSindustria](https://img.youtube.com/vi/EhXT_uWNuCg/hqdefault.jpg)](https://youtu.be/EhXT_uWNuCg \"DSindustria\")\n",
    "\n",
    "   * [notebook](https://www.kaggle.com/afrniomelo/epv-peq-aula-3-classifica-o)\n",
    "   \n",
    "   * Clusterização\n",
    "[![DSinduclust](https://img.youtube.com/vi/1XS8Sw8jeuI/hqdefault.jpg)](https://youtu.be/1XS8Sw8jeuI \"DSinduclust\")\n",
    "\n",
    "   * [notebook](https://www.kaggle.com/afrniomelo/epv-peq-aula-4-clusteriza-o)\n",
    "\n",
    "[![KNN](https://img.youtube.com/vi/4Dpf76AB9Js/hqdefault.jpg)](https://youtu.be/4Dpf76AB9Js \"KNN\")\n",
    "\n",
    "* Assista a playlist [Machine Learning | Python e scikit-learning](https://www.youtube.com/watch?v=BQFS7dxMNuM&list=PL5fQ3JoS0SZs2X_eN2QA555boD21alEUf) e explore também esse [GitHub](https://github.com/ronaldolagepessoa/machine-learning)\n",
    "\n",
    "* Assista a playlist [Data Science e Machine Learning na Indústria de Processos](https://www.youtube.com/watch?v=0iE3JsQpU_U&list=PLvr45Arc0UpzsRhzq3q4_KmZcm0utwvvB)\n",
    "\n",
    "* Leia o artigo [Desenvolvimento e análise de algoritmos aplicados na predição de acidentes em ambiente fabril](https://sol.sbc.org.br/index.php/latinoware/article/view/10329)  \n",
    "\n",
    "* Leia o artigo [Top 10 Machine Learning Algorithms Data Scientists should Master](https://www.analyticsinsight.net/top-10-machine-learning-algorithms-data-scientists-should-master/)\n",
    "\n",
    "* Explore o site [Drive Innovation & Performance into Your Scikit-learn* Machine-Learning Tasks](https://www.intel.com/content/www/us/en/developer/videos/drive-innovation-performance-scikit-learn-ml-tasks.html?cid=psm&source=facebook_soc_ih&campid=ww_1ai_satg&content=vid-idz_ai-seg&fbclid=IwAR0IdkF5lObL8b1Da4_IKL2YU4N9hWwa4oA_oO-TAZNhYCRna3P-wsQXA0M#gs.nyhyqb)\n",
    "\n",
    "* Explore a playlist do [Building Nubank](https://www.youtube.com/watch?v=qPYqeD2OUl4&list=PLfqo9_UMdHhYi6edz_uCRVDZASyp4Nj2e)"
   ]
  },
  {
   "cell_type": "markdown",
   "metadata": {},
   "source": [
    "# Gosta de livros ...   \n",
    "\n",
    "[Hands on Machine Learning with Scikit Learn and Tensorflow.](http://index-of.es/Varios-2/Hands%20on%20Machine%20Learning%20with%20Scikit%20Learn%20and%20Tensorflow.pdf) \n",
    "\n",
    "[Mastering Machine Learning with scikit-learn](http://www.smallake.kr/wp-content/uploads/2017/03/Mastering-Machine-Learning-with-scikit-learn.pdf)\n",
    "\n",
    "[A Programmer's Guide to Data Mining](http://guidetodatamining.com/)"
   ]
  },
  {
   "cell_type": "markdown",
   "metadata": {},
   "source": [
    "Qualquer dúvida, poste no fórum da disciplina.\n",
    "### Te vejo na mentoria!"
   ]
  },
  {
   "cell_type": "markdown",
   "metadata": {},
   "source": [
    "[<center><img src=\"images/Logo_I2A2.webp\"></center>](https://www.i2a2.ca/)         \n",
    "Rev 1"
   ]
  },
  {
   "cell_type": "markdown",
   "metadata": {},
   "source": [
    "# Módulo 4"
   ]
  },
  {
   "cell_type": "markdown",
   "metadata": {
    "slideshow": {
     "slide_type": "slide"
    }
   },
   "source": [
    "# Aula 2 - Regressão\n",
    "\n",
    "**Objetivo**: Apresentar os algoritmos de regressão"
   ]
  },
  {
   "cell_type": "markdown",
   "metadata": {},
   "source": [
    "Este material o auxiliará nas sessões de autoestudo, contudo, fique à vontade para consultar outras fontes de informações, mas nunca deixe de citá-las."
   ]
  },
  {
   "cell_type": "markdown",
   "metadata": {},
   "source": [
    "# Escolhendo o algoritmo/modelo (estimador) correto\n",
    "\n",
    "Muitas vezes, a parte mais difícil de resolver um problema de aprendizado de máquina pode ser encontrar o estimador certo para o trabalho.     \n",
    "O fluxograma abaixo foi projetado para fornecer aos usuários um guia aproximado sobre como abordar problemas em relação a quais estimadores devem ser testados em seus dados.    \n",
    "Clique em qualquer estimador no gráfico abaixo para ver sua documentação.\n",
    "\n",
    "[<img src=\"images/ml_map.png\"/>](https://scikit-learn.org/stable/tutorial/machine_learning_map/index.html)"
   ]
  },
  {
   "cell_type": "markdown",
   "metadata": {},
   "source": [
    "# Estimadores de Regressão\n",
    "\n",
    "* Clique em cada um dos estimadores de regressão (caixas verdes) para a acessar suas documentações.\n",
    "    - Liste os estimadores existentes;\n",
    "    - Acesse exemplos;\n",
    "    - Atente para a formulação matemática dos modelos."
   ]
  },
  {
   "cell_type": "markdown",
   "metadata": {},
   "source": [
    "## SGD Regressor - Stochastic Gradient Descent Regressor\n",
    "\n",
    "* Assista aos vídeos ... \n",
    "\n",
    "[![sgd](https://img.youtube.com/vi/W9iWNJNFzQI/hqdefault.jpg)](https://youtu.be/W9iWNJNFzQI \"sgd\") "
   ]
  },
  {
   "cell_type": "markdown",
   "metadata": {},
   "source": [
    "## Lasso\n",
    "\n",
    "* Assista ao vídeo ... \n",
    "\n",
    "[![lasso](https://img.youtube.com/vi/cVFYhlCCI_8/hqdefault.jpg)](https://youtu.be/cVFYhlCCI_8 \"lasso\") \n"
   ]
  },
  {
   "cell_type": "markdown",
   "metadata": {},
   "source": [
    "## ElasticNet\n",
    "* Assista ao vídeo ... \n",
    "\n",
    "[![ElasticNet](https://img.youtube.com/vi/lOnxA6JgNmc/hqdefault.jpg)](https://youtu.be/lOnxA6JgNmc \"ElasticNet\") "
   ]
  },
  {
   "cell_type": "markdown",
   "metadata": {},
   "source": [
    "## SVR - Support Vector Regression\n",
    "\n",
    "* Assista ao vídeo ... \n",
    "\n",
    "[![SVR](https://img.youtube.com/vi/-EjQWqHMsog/hqdefault.jpg)](https://youtu.be/-EjQWqHMsog \"SVR\")"
   ]
  },
  {
   "cell_type": "markdown",
   "metadata": {},
   "source": [
    "## Ensemble Regressor\n",
    "\n",
    "\n",
    "* Leia o artigo: [Ensemble Machine Learning Algorithms in Python with scikit-learn](https://machinelearningmastery.com/ensemble-machine-learning-algorithms-python-scikit-learn/)"
   ]
  },
  {
   "cell_type": "markdown",
   "metadata": {},
   "source": [
    "## Ridge Regressor\n",
    "\n",
    "* Assista ao vídeo ... \n",
    "\n",
    "[![Ridge](https://img.youtube.com/vi/Q81RR3yKn30/hqdefault.jpg)](https://youtu.be/Q81RR3yKn30 \"Ridge\")\n",
    "\n",
    "\n",
    "# Regressão Linear\n",
    "* Veja o vídeo **Como Fazer Regressão Linear em Python (Statsmodels e Scikit-learn)** do Mario Filho\n",
    "[![Ridge](https://img.youtube.com/vi/MPkNWpwxz7M/hqdefault.jpg)](https://youtu.be/MPkNWpwxz7M \"Ridge\")"
   ]
  },
  {
   "cell_type": "markdown",
   "metadata": {},
   "source": [
    "# Exercício 1\n",
    "\n",
    "* Execute o notebook **Regressão Linear**\n",
    "\n",
    "[![Binder](https://mybinder.org/badge_logo.svg)](https://mybinder.org/v2/gh/storopoli/ciencia-de-dados/main?filepath=Aula_11_Regressao_Linear.ipynb)"
   ]
  },
  {
   "cell_type": "markdown",
   "metadata": {},
   "source": [
    "# Exercício 2\n",
    "\n",
    "* Execute o notebook **Regressão Logística**\n",
    "\n",
    "[![Binder](https://mybinder.org/badge_logo.svg)](https://mybinder.org/v2/gh/storopoli/ciencia-de-dados/main?filepath=Aula_12_Regressao_Logistica.ipynb)"
   ]
  },
  {
   "cell_type": "markdown",
   "metadata": {},
   "source": [
    "# Quer saber mais\n",
    "\n",
    "\n",
    "* Execute o notebook **Regression Tutorial Level Beginner** para praticar com o PyCaret (AutoML)\n",
    "\n",
    "[![Binder](https://mybinder.org/badge_logo.svg)](https://mybinder.org/v2/gh/pycaret/pycaret/master?filepath=tutorials/Regression%20Tutorial%20Level%20Beginner%20-%20REG101.ipynb)\n",
    "\n",
    "\n",
    "Assista ao vídeo ...\n",
    "[![MLindustria](https://img.youtube.com/vi/erzt6Txvzdo/hqdefault.jpg)](https://youtu.be/erzt6Txvzdo \"MLindustria\")\n",
    "\n",
    "[![Regressão](https://img.youtube.com/vi/_1EJu-CQEWI/hqdefault.jpg)](https://youtu.be/_1EJu-CQEWI \"Regressão\")\n",
    "\n",
    "[![regressao](https://img.youtube.com/vi/tgMn1LJAdHc/hqdefault.jpg)](https://youtu.be/tgMn1LJAdHc \"regressao\")\n",
    "\n",
    "[![aprendestat](https://img.youtube.com/vi/B_jeYKRqQ2U/hqdefault.jpg)](https://youtu.be/B_jeYKRqQ2U \"aprendestat\")\n",
    "\n",
    "* Assista a playlist [Machine Learning | Python e scikit-learning](https://www.youtube.com/watch?v=BQFS7dxMNuM&list=PL5fQ3JoS0SZs2X_eN2QA555boD21alEUf) e explore também esse [GitHub](https://github.com/ronaldolagepessoa/machine-learning)"
   ]
  },
  {
   "cell_type": "markdown",
   "metadata": {},
   "source": [
    "# Gosta de livros ...   \n",
    "\n",
    "[Hands on Machine Learning with Scikit Learn and Tensorflow.](http://index-of.es/Varios-2/Hands%20on%20Machine%20Learning%20with%20Scikit%20Learn%20and%20Tensorflow.pdf) \n",
    "\n",
    "[Mastering Machine Learning with scikit-learn](http://www.smallake.kr/wp-content/uploads/2017/03/Mastering-Machine-Learning-with-scikit-learn.pdf)"
   ]
  },
  {
   "cell_type": "markdown",
   "metadata": {},
   "source": [
    "Qualquer dúvida, poste no fórum da disciplina.\n",
    "### Te vejo na mentoria!"
   ]
  },
  {
   "cell_type": "markdown",
   "metadata": {},
   "source": [
    "[<center><img src=\"images/Logo_I2A2.webp\"></center>](https://www.i2a2.ca/)         \n",
    "Rev 1"
   ]
  },
  {
   "cell_type": "markdown",
   "metadata": {},
   "source": [
    "# Módulo 4"
   ]
  },
  {
   "cell_type": "markdown",
   "metadata": {
    "slideshow": {
     "slide_type": "slide"
    }
   },
   "source": [
    "# Aula 3 - Redução da Dimensionalidade\n",
    "\n",
    "**Objetivo**: Apresentar os algoritmos de redução da dimensionalidade"
   ]
  },
  {
   "cell_type": "markdown",
   "metadata": {},
   "source": [
    "Este material o auxiliará nas sessões de autoestudo, contudo, fique à vontade para consultar outras fontes de informações, mas nunca deixe de citá-las."
   ]
  },
  {
   "cell_type": "markdown",
   "metadata": {},
   "source": [
    "# Escolhendo o algoritmo/modelo (estimador) correto\n",
    "\n",
    "Muitas vezes, a parte mais difícil de resolver um problema de aprendizado de máquina pode ser encontrar o estimador certo para o trabalho.     \n",
    "O fluxograma abaixo foi projetado para fornecer aos usuários um guia aproximado sobre como abordar problemas em relação a quais estimadores devem ser testados em seus dados.    \n",
    "Clique em qualquer estimador no gráfico abaixo para ver sua documentação.\n",
    "\n",
    "[<img src=\"images/ml_map.png\"/>](https://scikit-learn.org/stable/tutorial/machine_learning_map/index.html)"
   ]
  },
  {
   "cell_type": "markdown",
   "metadata": {},
   "source": [
    "# Estimadores de Redução da Dimensionalidade\n",
    "\n",
    "* Clique em cada um dos estimadores de regressão (caixas verdes) para a acessar suas documentações.\n",
    "    - Liste os estimadores existentes;\n",
    "    - Acesse exemplos;\n",
    "    - Atente para a formulação matemática dos modelos."
   ]
  },
  {
   "cell_type": "markdown",
   "metadata": {},
   "source": [
    "# Lembra da maldição da dimensionalidade?"
   ]
  },
  {
   "cell_type": "markdown",
   "metadata": {},
   "source": [
    "## PCA - Principal Component Analysis\n",
    "\n",
    "* Assista aos vídeos ... \n",
    "\n",
    "\n",
    "[![pca](https://img.youtube.com/vi/Bt0q6_gmrPs/hqdefault.jpg)](https://youtu.be/Bt0q6_gmrPs \"pca\") \n",
    "\n",
    "[![pca](https://img.youtube.com/vi/xI9-I-gcwaw/hqdefault.jpg)](https://youtu.be/xI9-I-gcwaw \"pca\") \n",
    "\n",
    "[![pca](https://img.youtube.com/vi/bW9iuGJ1CS4/hqdefault.jpg)](https://youtu.be/bW9iuGJ1CS4 \"pca\") "
   ]
  },
  {
   "cell_type": "markdown",
   "metadata": {},
   "source": [
    "# Exercício 1\n",
    "\n",
    "* Execute o notebook **Analise de Componentes Principais - PCA**\n",
    "\n",
    "[![Binder](https://mybinder.org/badge_logo.svg)](https://mybinder.org/v2/gh/storopoli/ciencia-de-dados/main?filepath=Aula_16_Analise_de_Componentes_Principais.ipynb)"
   ]
  },
  {
   "cell_type": "markdown",
   "metadata": {},
   "source": [
    "# Exercício 2: Identificação de suspeitos de fraude utilizando Machine Learning\n",
    "\n",
    "* Vamos revisitar este [projeto](https://github.com/vsvasconcelos/ML/blob/master/README.md) mas agora com muito mais bagagem e conhecimento. Neste [github](https://github.com/vsvasconcelos/udacity_intro_machinelearning_project/tree/master/final_project) há mais detalhes de todo o código original."
   ]
  },
  {
   "cell_type": "markdown",
   "metadata": {},
   "source": [
    "# Quer saber mais\n",
    "\n",
    "\n",
    "Assista ao vídeo ...\n",
    "\n",
    "   * Playlist do curso Aprendizagem de Máquina - Prof. Hansenclever de Franca Bassani\n",
    "   [Notas de aula](https://www.cin.ufpe.br/~hfb/am/index.html) \n",
    "[![PCA](https://img.youtube.com/vi/-jaY4zxDkd0/hqdefault.jpg)](https://www.youtube.com/watch?v=-jaY4zxDkd0&list=PL4-neXto5bGUpsE4FpO7T6BkLaSx_pyie\n",
    " \"PCA\")\n",
    " \n",
    " \n",
    "   * Redução de Dimensionalidade com PCA usando o Orange\n",
    "[![pcaorange](https://img.youtube.com/vi/WlnsAT-qWkQ/hqdefault.jpg)](https://youtu.be/WlnsAT-qWkQ \"pcaorange\")     \n",
    "\n",
    "\n",
    "   * Redução de dimensionalidade linear para extração de atributos, Prof. Alexandre LeAlexandre Levada\n",
    "[![pcaorange](https://img.youtube.com/vi/0qXvWzH2rm4/hqdefault.jpg)](https://youtu.be/0qXvWzH2rm4 \"pcaorange\")\n",
    "\n",
    "* [6 Predictive Models Every Beginner Data Scientist should Master](https://towardsdatascience.com/6-predictive-models-models-every-beginner-data-scientist-should-master-7a37ec8da76d)\n",
    "\n",
    "* [Comitê de Máquinas de Aprendizado (Ensemble Learning) - Voto Majoritário](https://youtu.be/41yF29X8QTA)"
   ]
  },
  {
   "cell_type": "markdown",
   "metadata": {},
   "source": [
    "# Gosta de livros ...    \n",
    "\n",
    "[Hands on Machine Learning with Scikit Learn and Tensorflow.](http://index-of.es/Varios-2/Hands%20on%20Machine%20Learning%20with%20Scikit%20Learn%20and%20Tensorflow.pdf) \n",
    "\n",
    "[Mastering Machine Learning with scikit-learn](http://www.smallake.kr/wp-content/uploads/2017/03/Mastering-Machine-Learning-with-scikit-learn.pdf)"
   ]
  },
  {
   "cell_type": "markdown",
   "metadata": {},
   "source": [
    "Qualquer dúvida, poste no fórum da disciplina.\n",
    "### Te vejo na mentoria!"
   ]
  },
  {
   "cell_type": "markdown",
   "metadata": {},
   "source": [
    "[<center><img src=\"images/Logo_I2A2.webp\"></center>](https://www.i2a2.ca/)         \n",
    "Rev 2"
   ]
  },
  {
   "cell_type": "markdown",
   "metadata": {},
   "source": [
    "# Módulo 5"
   ]
  },
  {
   "cell_type": "markdown",
   "metadata": {
    "slideshow": {
     "slide_type": "slide"
    }
   },
   "source": [
    "# Aula 1 - Redes Neurais\n",
    "\n",
    "**Objetivo**: Apresentar as redes neurais e suas aplicações"
   ]
  },
  {
   "cell_type": "markdown",
   "metadata": {},
   "source": [
    "Este material o auxiliará nas sessões de autoestudo, contudo, fique à vontade para consultar outras fontes de informações, mas nunca deixe de citá-las."
   ]
  },
  {
   "cell_type": "markdown",
   "metadata": {},
   "source": [
    "# Redes Neurais\n",
    "\n",
    "* Assista aos vídeos ...\n",
    "\n",
    "[![redesneurais](https://img.youtube.com/vi/fEukSrpDPH0/hqdefault.jpg)](https://youtu.be/fEukSrpDPH0 \"redesneurais\") \n",
    "\n",
    "\n",
    "[![redesneurais](https://img.youtube.com/vi/0eQ6-6A5W6I/hqdefault.jpg)](https://youtu.be/0eQ6-6A5W6I \"redesneurais\") \n",
    "\n",
    "## Vamos brincar no playground\n",
    "\n",
    "   * Assista ao vídeo:\n",
    "[![redesneurais](https://img.youtube.com/vi/nmqLNOa32o0/hqdefault.jpg)](https://youtu.be/nmqLNOa32o0 \"redesneurais\") \n",
    "\n",
    "   * e comece a brincar no [TensorFlow Playground](https://playground.tensorflow.org)\n",
    "   \n",
    "   * Assista ao vídeo ...\n",
    "   [![redesneurais](https://img.youtube.com/vi/4P9tNTemHI4/hqdefault.jpg)](https://youtu.be/4P9tNTemHI4 \"redesneurais\") \n",
    "\n",
    "\n",
    "[![redesneurais](https://img.youtube.com/vi/XUN6kFiNZdU/hqdefault.jpg)](https://youtu.be/XUN6kFiNZdU \"redesneurais\") \n",
    "\n",
    "   * Redes neurais artificiais aplicadas em sistemas de controle\n",
    "\n",
    "[![redesneurais](https://img.youtube.com/vi/cPpilfUiUqs/hqdefault.jpg)](https://youtu.be/cPpilfUiUqs \"redesneurais\")\n",
    "\n",
    "[![redesneurais](https://img.youtube.com/vi/Z-NBjvlyBkA/hqdefault.jpg)](https://youtu.be/Z-NBjvlyBkA \"redesneurais\")"
   ]
  },
  {
   "cell_type": "markdown",
   "metadata": {},
   "source": [
    "* Leia os capítulos (são curtinhos :) ) do livro [Deep Learning Book](https://www.deeplearningbook.com.br/): \n",
    "\n",
    "    * [Capítulo 2 \"Uma Breve História das Redes Neurais Artificiais\"](https://www.deeplearningbook.com.br/uma-breve-historia-das-redes-neurais-artificiais/); \n",
    "    \n",
    "    * [Capítulo 4 \"O Neurônio, Biológico e Matemático\"](https://www.deeplearningbook.com.br/o-neuronio-biologico-e-matematico/); \n",
    "    \n",
    "    * [Capítulo 6 \"O Perceptron – Parte 1\"](https://www.deeplearningbook.com.br/o-perceptron-parte-1/); \n",
    "    \n",
    "    * [Capítulo 7 \"O Perceptron – Parte 2\"](https://www.deeplearningbook.com.br/o-perceptron-parte-2/); \n",
    "    \n",
    "    * [Capítulo 8 \"Função de Ativação\"](https://www.deeplearningbook.com.br/funcao-de-ativacao/); \n",
    "    \n",
    "    * [Capítulo 9 \"A Arquitetura das Redes Neurais\"](https://www.deeplearningbook.com.br/a-arquitetura-das-redes-neurais/);   \n",
    "    \n",
    "    * [Capítulo 10 \"As 10 Principais Arquiteturas de Redes Neurais\"](https://www.deeplearningbook.com.br/as-10-principais-arquiteturas-de-redes-neurais/);\n",
    "    \n",
    "    * [Capítulo 15 \"Algoritmo Backpropagation\"](https://www.deeplearningbook.com.br/algoritmo-backpropagation-parte-2-treinamento-de-redes-neurais/);\n",
    "    \n",
    "    * [Capítulo 17 \"Cross-Entropy Cost Function\"](https://www.deeplearningbook.com.br/cross-entropy-cost-function/);\n",
    "    \n",
    "    * [Capítulo 27 \"Taxa de Aprendizagem\"](https://www.deeplearningbook.com.br/a-taxa-de-aprendizado-de-uma-rede-neural/);\n",
    "    \n",
    "    * [Capítulo 28 \"Épocas de Treinamento\"](https://www.deeplearningbook.com.br/usando-early-stopping-para-definir-o-numero-de-epocas-de-treinamento/);\n",
    "    \n",
    "    * [Capítulo 31 \"As Redes Neurais Artificiais Podem Computar Qualquer Função?\"](https://www.deeplearningbook.com.br/as-redes-neurais-artificiais-podem-computar-qualquer-funcao/);\n",
    "    \n",
    "    * [Capítulo 32 \"Como Uma Rede Neural Artificial Encontra a Aproximação de Uma Função\"](https://www.deeplearningbook.com.br/como-uma-rede-neural-artificial-encontra-a-aproximacao-de-uma-funcao/);   \n",
    "    \n",
    "* Da uma olha no [cap. 4 Multilayer Perceptrons](https://d2l.ai/chapter_multilayer-perceptrons/index.html) do livro [Dive into Deep Learning](https://d2l.ai/index.html)"
   ]
  },
  {
   "cell_type": "markdown",
   "metadata": {},
   "source": [
    "# Após os vídeos e leituras, você deve conhecer:\n",
    "\n",
    "   * Gradiente descendente;\n",
    "   * Funções de ativação;\n",
    "   * Neurônio individual;\n",
    "   * Função XOR e neurônios;\n",
    "   * Multilayer perceptron (MLP);\n",
    "   * Taxa de aprendizagem;\n",
    "   * Pesos;\n",
    "   * Bias;\n",
    "   * Backpropagation;\n",
    "   * Métricas de avaliação."
   ]
  },
  {
   "cell_type": "markdown",
   "metadata": {},
   "source": [
    "# Redes Neurais com o SKLearn\n",
    "\n",
    "* Explore a documentação do [scikit-learn](https://scikit-learn.org/stable/modules/neural_networks_supervised.html)\n"
   ]
  },
  {
   "cell_type": "markdown",
   "metadata": {},
   "source": [
    "# Tutoriais MLP com python no scikit-learn\n",
    "\n",
    "* Assista aos vídeos ...\n",
    "\n",
    "[![tutorialrna](https://img.youtube.com/vi/cO59qwb3Haw/hqdefault.jpg)](https://youtu.be/cO59qwb3Haw \"tutorialrna\") \n",
    "\n",
    "\n",
    "[![tutorialrna](https://img.youtube.com/vi/ik81nrs2p3Q/hqdefault.jpg)](https://youtu.be/ik81nrs2p3Q \"tutorialrna\") \n"
   ]
  },
  {
   "cell_type": "markdown",
   "metadata": {},
   "source": [
    "# Exercício 1\n",
    "\n",
    "* Execute o notebook **Redes Neurais com TensorFlow**\n",
    "\n",
    "[![Binder](https://mybinder.org/badge_logo.svg)](https://mybinder.org/v2/gh/storopoli/ciencia-de-dados/main?filepath=Aula_18_a_Redes_Neurais_com_TensorFlow.ipynb)"
   ]
  },
  {
   "cell_type": "markdown",
   "metadata": {},
   "source": [
    "# Exercício 2\n",
    "\n",
    "* Execute o notebook **Redes Neurais com PyTorch**\n",
    "\n",
    "[![Binder](https://mybinder.org/badge_logo.svg)](https://mybinder.org/v2/gh/storopoli/ciencia-de-dados/main?filepath=Aula_18_b_Redes_Neurais_com_PyTorch.ipynb)"
   ]
  },
  {
   "cell_type": "markdown",
   "metadata": {},
   "source": [
    "# Quer saber mais ...\n",
    "\n",
    "\n",
    "Assista ao vídeo ...\n",
    "\n",
    "   * Playlist do curso Introdução às Redes Neurais Artificiais\n",
    "[![cursorna](https://img.youtube.com/vi/OQwxeFSJ_Q4/hqdefault.jpg)](https://www.youtube.com/watch?v=OQwxeFSJ_Q4&list=PLZj-vsMJRNhprMuIaE6HXmOkHh0NEEMtL\"cursorna\")\n",
    " \n",
    " \n",
    "   * Playlist do curso Aprendizado de Máquinas focado em Redes Neurais\n",
    "[![pcaorange](https://img.youtube.com/vi/Dc6rxNy-OPE/hqdefault.jpg)](https://www.youtube.com/watch?v=Dc6rxNy-OPE&list=PL-lVSjBozU-Hfs3bwwTIBaF3xEjkJvonQ \"pcaorange\")    \n",
    "\n",
    "\n",
    "    * Como utilizar Rede Neural Artificial no Orange  \n",
    "    \n",
    "[![orange](https://img.youtube.com/vi/orrXuRM42Sk/hqdefault.jpg)](https://youtu.be/orrXuRM42Sk \"orange\") \n",
    "\n",
    "[![orange](https://img.youtube.com/vi/jCYsplaLf1A/hqdefault.jpg)](https://youtu.be/jCYsplaLf1A \"orange\") \n",
    "\n",
    "[![orange](https://img.youtube.com/vi/6yYUc6nU3Cw/hqdefault.jpg)](https://youtu.be/6yYUc6nU3Cw \"orange\") \n",
    "\n",
    "Playlist do [curso de tensorflow](https://www.youtube.com/watch?v=E3G2Jq3IJDA&list=PLeFetwYAi-F-WR8oLyEFx4dGq8L24o6KM)\n",
    "\n",
    "Playlist do curso [conding tensorflow](https://www.youtube.com/playlist?list=PLQY2H8rRoyvz8oumEhsqSG4bl7JH7_YSG)\n",
    "\n",
    "Explore o github do [Workshop de Redes Neurais com Pytorch](https://github.com/turing-usp/Workshop-de-redes-neurais)\n",
    "\n",
    "Leia o artigo  [An overview of gradient descent optimization algorithms](https://ruder.io/optimizing-gradient-descent/) de Sebastian Ruder"
   ]
  },
  {
   "cell_type": "markdown",
   "metadata": {},
   "source": [
    "# Gosta de livros ...    \n",
    "\n",
    "[Deep Learning Book - pt_br](https://www.deeplearningbook.com.br/)\n",
    "\n",
    "[Dive into Deep Learning](https://d2l.ai/index.html)"
   ]
  },
  {
   "cell_type": "markdown",
   "metadata": {},
   "source": [
    "Qualquer dúvida, poste no fórum da disciplina.\n",
    "### Te vejo na mentoria!"
   ]
  },
  {
   "cell_type": "markdown",
   "metadata": {},
   "source": [
    "[<center><img src=\"images/Logo_I2A2.webp\"></center>](https://www.i2a2.ca/)         \n",
    "Rev 1"
   ]
  },
  {
   "cell_type": "markdown",
   "metadata": {},
   "source": [
    "# Módulo 5"
   ]
  },
  {
   "cell_type": "markdown",
   "metadata": {
    "slideshow": {
     "slide_type": "slide"
    }
   },
   "source": [
    "# Aula 2 - Deep Learning - parte 1\n",
    "\n",
    "**Objetivo**: Apresentar os conceitos de deep learning"
   ]
  },
  {
   "cell_type": "markdown",
   "metadata": {},
   "source": [
    "Este material o auxiliará nas sessões de autoestudo, contudo, fique à vontade para consultar outras fontes de informações, mas nunca deixe de citá-las."
   ]
  },
  {
   "cell_type": "markdown",
   "metadata": {},
   "source": [
    "# Machine Learning x Deep Learning\n",
    "\n",
    "\n",
    "[![AS](https://img.youtube.com/vi/rkJ_83ADYf4/hqdefault.jpg)](https://youtu.be/rkJ_83ADYf4?t=645 \"AS\") \n",
    "\n",
    "* Além da razão dada pelo prof. Anderson, quais outros motivos podem explicar o sucesso do `Deep learning`?\n",
    "\n",
    "    Leia o [cap. 1](https://www.deeplearningbook.com.br/deep-learning-a-tempestade-perfeita/) do livro [Deep Learning Book - pt_br](https://www.deeplearningbook.com.br/)"
   ]
  },
  {
   "cell_type": "markdown",
   "metadata": {},
   "source": [
    "# Deep Learning\n",
    "* Leia os capítulos do livro [Deep Learning Book](https://www.deeplearningbook.com.br/):  \n",
    "    * [Capítulo 3 \"O Que São Redes Neurais Artificiais Profundas ou Deep Learning?\"](https://www.deeplearningbook.com.br/o-que-sao-redes-neurais-artificiais-profundas/);\n",
    "    \n",
    "    * [Capítulo 33 \"Por que as Redes Neurais Profundas São Difíceis de Treinar?\"](https://www.deeplearningbook.com.br/por-que-as-redes-neurais-profundas-sao-dificeis-de-treinar/);\n",
    "    \n",
    "    * [Capítulo 34 \"O Problema da Dissipação do Gradiente\"](https://www.deeplearningbook.com.br/o-problema-da-dissipacao-do-gradiente/);\n",
    "    \n",
    "    * [Capítulo 35 \"A Matemática do Problema de Dissipação do Gradiente em Deep Learning\"](https://www.deeplearningbook.com.br/a-matematica-do-problema-de-dissipacao-do-gradiente-em-deep-learning/);\n",
    "    \n",
    "    * [Capítulo 37 \"O Efeito do Batch Size no Treinamento de Redes Neurais Artificiais\"](https://www.deeplearningbook.com.br/o-efeito-do-batch-size-no-treinamento-de-redes-neurais-artificiais/);\n",
    "    \n",
    "    * [Capítulo 38 \"O Efeito da Taxa de Aprendizagem no Treinamento de Redes Neurais Artificiais\"](https://www.deeplearningbook.com.br/o-efeito-da-taxa-de-aprendizagem-no-treinamento-de-redes-neurais-artificiais/)\n",
    "    \n",
    "    * [Capítulo 39 \"Relação Entre o Tamanho do Lote e o Cálculo do Gradiente\"](https://www.deeplearningbook.com.br/relacao-entre-o-tamanho-do-lote-e-o-calculo-do-gradiente/)\n",
    "    \n",
    "    \n",
    "* Da uma olha no [cap. 5 - Deep Learning Computation](https://d2l.ai/chapter_deep-learning-computation/index.html) do livro [Dive into Deep Learning](https://d2l.ai/index.html)\n",
    "    \n"
   ]
  },
  {
   "cell_type": "markdown",
   "metadata": {},
   "source": [
    "# Redes Neurais Convolucionais - CNN\n",
    "\n",
    "* Assista aos vídeos do Prof. Anderson Soares.\n",
    "\n",
    "   * Redes Neurais profundas Convolucionais - Parte I - Fundamentos\n",
    "\n",
    "[![anderson1](https://img.youtube.com/vi/n4rmrZg1_58/hqdefault.jpg)](https://youtu.be/n4rmrZg1_58 \"anderson2\")    \n",
    "\n",
    "   - [Slides](https://ww2.inf.ufg.br/~anderson/deeplearning/20181/Aula%20-%20Redes%20Neurais%20Convolucionais%20Parte%20I.pdf)\n",
    "   \n",
    "   * Redes Neurais profundas Convolucionais - Parte II - Arquiteturas Modernas\n",
    "[![anderson1](https://img.youtube.com/vi/0XUrLfQXzcw/hqdefault.jpg)](https://youtu.be/0XUrLfQXzcw \"anderson2\")    \n",
    "\n",
    "   - [Slides](https://ww2.inf.ufg.br/~anderson/deeplearning/20181/Convolucionais%20parte%20II%20-%20Slides%20-%20VGG%20Inception%20GoogleNet%20Resnet%20DenseNet%20Highway.pdf)\n",
    "\n",
    "* Leia os capítulos do livro [Deep Learning Book](https://www.deeplearningbook.com.br/):\n",
    "\n",
    "    - [Cap. 40 \"Introdução as Redes Neurais Convolucionais\"](https://www.deeplearningbook.com.br/introducao-as-redes-neurais-convolucionais/);\n",
    "    - [Cap. 41 \"Campos Receptivos Locais em Redes Neurais Convolucionais\"](https://www.deeplearningbook.com.br/campos-receptivos-locais-em-redes-neurais-convolucionais/);\n",
    "    - [Cap. 42 \"Compartilhamento de Pesos em Redes Neurais Convolucionais\"](https://www.deeplearningbook.com.br/compartilhamento-de-pesos-em-redes-neurais-convolucionais/);\n",
    "    - [Cap. 43 \"Camadas de Pooling em Redes Neurais Convolucionais\"](https://www.deeplearningbook.com.br/camadas-de-pooling-em-redes-neurais-convolucionais/)"
   ]
  },
  {
   "cell_type": "markdown",
   "metadata": {},
   "source": [
    "# Tutorial CNN no Tensorflow\n",
    "\n",
    "* Siga o [tutorial - Convolutional Neural Network (CNN)](https://www.tensorflow.org/tutorials/images/cnn), atente que é possível executá-lo diretamente no [Google Colab](https://colab.research.google.com/github/tensorflow/docs/blob/master/site/en/tutorials/images/cnn.ipynb), faça isto!"
   ]
  },
  {
   "cell_type": "markdown",
   "metadata": {},
   "source": [
    "# 10 Arquiteturas de redes CNN \n",
    "\n",
    "   * Veja o artigo [Illustrated: 10 CNN Architectures](https://aisingapore.org/2019/09/illustrated-10-cnn-architectures/)"
   ]
  },
  {
   "cell_type": "markdown",
   "metadata": {},
   "source": [
    "# Exercício 1\n",
    "\n",
    "* Execute o notebook [Treine sua primeira rede neural: classificação básica](\n",
    "https://www.tensorflow.org/tutorials/keras/classification?hl=pt-br#importe_a_base_de_dados_fashion_mnist)"
   ]
  },
  {
   "cell_type": "markdown",
   "metadata": {},
   "source": [
    "# Veja isto:\n",
    "\n",
    "   * Explore o portal do curso [Yann LeCun’s Deep Learning Course](https://cds.nyu.edu/deep-learning/)"
   ]
  },
  {
   "cell_type": "markdown",
   "metadata": {},
   "source": [
    "# Quer saber mais\n",
    "\n",
    "\n",
    "* Veja o [cap. 6- Convolutional Neural Networks](https://d2l.ai/chapter_convolutional-neural-networks/index.html) do livro [Dive into Deep Learning](https://d2l.ai/index.html)\n",
    "\n",
    "* Explore o portal do [TensorFlow](https://www.tensorflow.org/?hl=pt-br)\n",
    "\n",
    "* Assista aos vídeos sobre a VGG Net \n",
    "\n",
    "[![anderson1](https://img.youtube.com/vi/ZxoftK0bYWs/hqdefault.jpg)](https://youtu.be/ZxoftK0bYWs \"anderson2\")  \n",
    "\n",
    "[![anderson1](https://img.youtube.com/vi/bQ1fpBQefQg/hqdefault.jpg)](https://youtu.be/bQ1fpBQefQg \"anderson2\")  \n",
    "\n",
    "[![anderson1](https://img.youtube.com/vi/hL3H7SaeCC8/hqdefault.jpg)](https://youtu.be/hL3H7SaeCC8 \"anderson2\")  \n",
    "\n",
    "[![anderson1](https://img.youtube.com/vi/ttxgLdetcPg/hqdefault.jpg)](https://youtu.be/ttxgLdetcPg \"anderson2\")  \n",
    "\n",
    "* Quer visualizar e entender os mecanismos internos de redes convolucionais, veja este vídeo da  Stanford University School of Engineering\n",
    "[![anderson1](https://img.youtube.com/vi/6wcs6szJWMY/hqdefault.jpg)](https://youtu.be/6wcs6szJWMY \"anderson2\")  \n",
    "\n",
    "\n",
    "* Leia o artigo: [Uso de uma Rede Neural Convolucional Unidimensional para detecção de falhas em processos industriais](https://sol.sbc.org.br/index.php/erbase/article/view/8952)   \n",
    "\n",
    "\n",
    "* Explore a playlist do curso Deep Learning Specialization Andrew NG\n",
    "[![andrew](https://img.youtube.com/vi/CS4cs9xVecg/hqdefault.jpg)](https://www.youtube.com/watch?v=CS4cs9xVecg&list=PLpFsSf5Dm-pd5d3rjNtIXUHT-v7bdaEIe \"andrew\")\n",
    "\n",
    "\n",
    "* Assista aos 4 vídeos sobre CNN do prof. Dalcimar Casanova:\n",
    "    - [vídeo 1](https://youtu.be/OoYUL7lzznw);\n",
    "    - [vídeo 2](https://youtu.be/_QbA4IOT1GM);\n",
    "    - [vídeo 3](https://youtu.be/5MySLWCG6E0);\n",
    "    - [vídeo 4](https://youtu.be/1inwL2FNy90).\n",
    "    \n",
    "\n",
    "* Explore a playlist do curso [Deep Learning](https://www.youtube.com/watch?v=0VD_2t6EdS4&list=PL9At2PVRU0ZqVArhU9QMyI3jSe113_m2-) do prof. Dalcimar Casanova\n",
    "\n",
    "* Explore a playlist do curso [Understanding Deep Learning](https://www.youtube.com/watch?v=oiIOxiIkauA&list=PLFE-LjWAAP9Q74cGaUF3yqUhqo2kOYY20) do ICMC da USP   \n",
    "\n",
    "* Parametrização de redes neurais profundas ...\n",
    "\n",
    "[![Anderson](https://img.youtube.com/vi/qDmKwmkc4vs/hqdefault.jpg)](https://youtu.be/qDmKwmkc4vs \"Anderson\")\n"
   ]
  },
  {
   "cell_type": "markdown",
   "metadata": {},
   "source": [
    "# Gosta de livros ...    \n",
    "\n",
    "[Deep Learning Book - pt_br](https://www.deeplearningbook.com.br/)\n",
    "\n",
    "[Dive into Deep Learning](https://d2l.ai/index.html)\n"
   ]
  },
  {
   "cell_type": "markdown",
   "metadata": {},
   "source": [
    "Qualquer dúvida, poste no fórum da disciplina.\n",
    "### Te vejo na mentoria!"
   ]
  },
  {
   "cell_type": "markdown",
   "metadata": {},
   "source": [
    "[<center><img src=\"images/Logo_I2A2.webp\"></center>](https://www.i2a2.ca/)         \n",
    "Rev 1"
   ]
  },
  {
   "cell_type": "markdown",
   "metadata": {},
   "source": [
    "# Módulo 5"
   ]
  },
  {
   "cell_type": "markdown",
   "metadata": {
    "slideshow": {
     "slide_type": "slide"
    }
   },
   "source": [
    "# Aula 3 - Deep Learning - parte 2\n",
    "\n",
    "**Objetivo**: Apresentar os conceitos de deep learning"
   ]
  },
  {
   "cell_type": "markdown",
   "metadata": {},
   "source": [
    "Este material o auxiliará nas sessões de autoestudo, contudo, fique à vontade para consultar outras fontes de informações, mas nunca deixe de citá-las."
   ]
  },
  {
   "cell_type": "markdown",
   "metadata": {},
   "source": [
    "# Redes Neurais Recorrentes - RNN\n",
    "\n",
    "[![RNN](https://img.youtube.com/vi/94hG00EJFNo/hqdefault.jpg)](https://youtu.be/94hG00EJFNo \"RNN\")   \n",
    "\n",
    "* Leia os capítulos do livro [Deep Learning Book](https://www.deeplearningbook.com.br/):  \n",
    "    * [Capítulo 48 \"Redes Neurais Recorrentes\"](https://www.deeplearningbook.com.br/redes-neurais-recorrentes/);\n",
    "    \n",
    "    * [Capítulo 49 \"A Matemática do Backpropagation Through Time (BPTT)\"](https://www.deeplearningbook.com.br/a-matematica-do-backpropagation-through-time-bptt/);\n",
    "    \n",
    "    * [Capítulo 49 \"A Matemática da Dissipação do Gradiente e Aplicações das RNNs\"](https://www.deeplearningbook.com.br/a-matematica-da-dissipacao-do-gradiente-e-aplicacoes-das-rnns/);\n",
    "    \n",
    "    * [Capítulo 50 \"A Matemática do Problema de Dissipação do Gradiente em Deep Learning\"](https://www.deeplearningbook.com.br/a-matematica-do-problema-de-dissipacao-do-gradiente-em-deep-learning/).\n",
    "    \n",
    "\n",
    "* Da uma olha no [cap. 8 - Recurrent Neural Networks¶](https://d2l.ai/chapter_recurrent-neural-networks/index.html) do livro [Dive into Deep Learning](https://d2l.ai/index.html)\n",
    "    \n"
   ]
  },
  {
   "cell_type": "markdown",
   "metadata": {},
   "source": [
    "## Redes Neurais Long Short Term Memory (LSTM)\n",
    "\n",
    "* Leia o capítulo do livro [Deep Learning Book](https://www.deeplearningbook.com.br/): \n",
    "    \n",
    "   * [Capítulo 51 \"Arquitetura de Redes Neurais Long Short Term Memory (LSTM)\"](https://www.deeplearningbook.com.br/arquitetura-de-redes-neurais-long-short-term-memory/).\n",
    "   \n",
    "\n",
    "* Da uma olha no [cap. 9.2 - Modern Recurrent Neural Networks](https://d2l.ai/chapter_recurrent-modern/index.html) do livro [Dive into Deep Learning](https://d2l.ai/index.html)"
   ]
  },
  {
   "cell_type": "markdown",
   "metadata": {},
   "source": [
    "## Redes Neurais Gated Recurrent Unit (GRU)\n",
    "\n",
    "\n",
    "* Leia os capítulos do livro [Deep Learning Book](https://www.deeplearningbook.com.br/): \n",
    "    \n",
    "   * [Capítulo 52 \"Arquitetura de Redes Neurais Gated Recurrent Unit (GRU)\"](https://www.deeplearningbook.com.br/arquitetura-de-redes-neurais-gated-recurrent-unit-gru/);\n",
    "    \n",
    "   * [Capítulo 53 \"Matemática na GRU, Dissipação e Clipping do Gradiente\"](https://www.deeplearningbook.com.br/matematica-na-gru-dissipacao-e-clipping-do-gradiente/).\n",
    "   \n",
    "   \n",
    "* Da uma olha no [cap. 9.1 - Modern Recurrent Neural Networks](https://d2l.ai/chapter_recurrent-modern/index.html) do livro [Dive into Deep Learning](https://d2l.ai/index.html)"
   ]
  },
  {
   "cell_type": "markdown",
   "metadata": {},
   "source": [
    "# Redes Adversárias Generativas (GANs – Generative Adversarial Networks)\n",
    "[![GAN](https://img.youtube.com/vi/Qutg3srXSiU/hqdefault.jpg)](https://youtu.be/Qutg3srXSiU \"GAN\")  \n",
    "\n",
    "[![GAN](https://img.youtube.com/vi/1TytGqVm4Gs/hqdefault.jpg)](https://youtu.be/1TytGqVm4Gs \"GAN\")   \n",
    "\n",
    "\n",
    "* Leia os capítulos do livro [Deep Learning Book](https://www.deeplearningbook.com.br/): \n",
    "    \n",
    "   * [Capítulo 54 \"Introdução às Redes Adversárias Generativas (GANs – Generative Adversarial Networks)\"](https://www.deeplearningbook.com.br/introducao-as-redes-adversarias-generativas-gans-generative-adversarial-networks/);\n",
    "    \n",
    "   * [Capítulo 55 \"Geração de Variáveis Aleatórias – Uma das Bases dos Modelos Generativos em GANs (Generative Adversarial Networks)\"](https://www.deeplearningbook.com.br/geracao-de-variaveis-aleatorias-uma-das-bases-dos-modelos-generativos-em-gans-generative-adversarial-networks/);\n",
    "   \n",
    "   * [Capítulo 56 \"Modelos Generativos – O Diferencial das GANs (Generative Adversarial Networks)\"](https://www.deeplearningbook.com.br/modelos-generativos-o-diferencial-das-gans-generative-adversarial-networks/);\n",
    "   \n",
    "   * [Capítulo 57 \"Os Detalhes Matemáticos das GANs (Generative Adversarial Networks)\"](https://www.deeplearningbook.com.br/os-detalhes-matematicos-das-gans-generative-adversarial-networks/).\n",
    "   \n",
    "   \n",
    "* Da uma olha no [cap. 17 - Generative Adversarial Networks](https://d2l.ai/chapter_generative-adversarial-networks/index.html) do livro [Dive into Deep Learning](https://d2l.ai/index.html)"
   ]
  },
  {
   "cell_type": "markdown",
   "metadata": {},
   "source": [
    "# Quer saber mais\n",
    "\n",
    "* Assista as aulas sobre RNN e GAN do prof. Dalcimar Casanova:\n",
    "\n",
    "[![RNN](https://img.youtube.com/vi/n7jWzlMDT-0/hqdefault.jpg)](https://youtu.be/n7jWzlMDT-0 \"RNN\")\n",
    "    \n",
    "[![RNN](https://img.youtube.com/vi/vrEMGdfDB7A/hqdefault.jpg)](https://youtu.be/vrEMGdfDB7A \"RNN\")\n",
    "    \n",
    "[![GAN](https://img.youtube.com/vi/zAESjdU_QyE/hqdefault.jpg)](https://youtu.be/zAESjdU_QyE \"GAN\")\n",
    "    \n",
    "[![GAN](https://img.youtube.com/vi/dzLDlWllKNU/hqdefault.jpg)](https://youtu.be/dzLDlWllKNU \"GAN\")"
   ]
  },
  {
   "cell_type": "markdown",
   "metadata": {},
   "source": [
    "# Gosta de livros ...    \n",
    "\n",
    "[Deep Learning Book - pt_br](https://www.deeplearningbook.com.br/)\n",
    "\n",
    "[Dive into Deep Learning](https://d2l.ai/index.html)\n"
   ]
  },
  {
   "cell_type": "markdown",
   "metadata": {},
   "source": [
    "Qualquer dúvida, poste no fórum da disciplina.\n",
    "### Te vejo na mentoria!"
   ]
  },
  {
   "cell_type": "markdown",
   "metadata": {},
   "source": [
    "[<center><img src=\"images/Logo_I2A2.webp\"></center>](https://www.i2a2.ca/)         \n",
    "Rev 1"
   ]
  },
  {
   "cell_type": "markdown",
   "metadata": {},
   "source": [
    "# Módulo 6"
   ]
  },
  {
   "cell_type": "markdown",
   "metadata": {
    "slideshow": {
     "slide_type": "slide"
    }
   },
   "source": [
    "# Aula 1 - parte 1: NLP (Processamento de Língua Natural)\n",
    "\n",
    "**Objetivo**: Apresentar os conceitos de NLP"
   ]
  },
  {
   "cell_type": "markdown",
   "metadata": {},
   "source": [
    "Este material o auxiliará nas sessões de autoestudo, contudo, fique à vontade para consultar outras fontes de informações, mas nunca deixe de citá-las."
   ]
  },
  {
   "cell_type": "markdown",
   "metadata": {},
   "source": [
    "# Natural Language Processing\n",
    "\n",
    "## O que é NLP?\n",
    "\n",
    "    * Assista os vídeos abaixo ...\n",
    "   \n",
    "[![NLP](https://img.youtube.com/vi/HG74bUJIfvU/hqdefault.jpg)](https://youtu.be/HG74bUJIfvU \"NLP\")   \n",
    "\n",
    "[![NLP](https://img.youtube.com/vi/NBqDzewxJDo/hqdefault.jpg)](https://youtu.be/NBqDzewxJDo \"NLP\")   \n",
    "\n",
    "   \n",
    "   * Leia o [Guia Básico para Processamento de Linguagem Natural (NLP)](https://www.datageeks.com.br/processamento-de-linguagem-natural/)"
   ]
  },
  {
   "cell_type": "markdown",
   "metadata": {},
   "source": [
    "# Aplicações de NLP\n",
    "\n",
    "[![aplic1](https://img.youtube.com/vi/q5jePtbHq1k/hqdefault.jpg)](https://youtu.be/q5jePtbHq1k \"aplic1\")   \n",
    "\n",
    "[![aplic2](https://img.youtube.com/vi/DciaJ-E3WDA/hqdefault.jpg)](https://youtu.be/DciaJ-E3WDA \"aplic12\")\n",
    "\n",
    "   * Pesquise o site: [nlpprogress](http://nlpprogress.com/)\n"
   ]
  },
  {
   "cell_type": "markdown",
   "metadata": {},
   "source": [
    "# NLP Clássico\n",
    "# Ferramentas para NLP\n",
    "\n",
    "* Pesquise pelas ferramentas listadas abaixo, procure compreender o propósito de cada uma delas.\n",
    "\n",
    "    - [NLTK](https://www.nltk.org/);\n",
    "    - [Gensim](https://pypi.org/project/gensim/);\n",
    "    - [Spacy](https://spacy.io/);\n",
    "    - [Stanza](https://stanfordnlp.github.io/stanza/)"
   ]
  },
  {
   "cell_type": "markdown",
   "metadata": {},
   "source": [
    "# Pré-processamento de textos\n",
    "\n",
    "[![padronizacao](https://img.youtube.com/vi/KPJ3iCJ7qFc/hqdefault.jpg)](https://youtu.be/KPJ3iCJ7qFc \"padronizacao\") \n",
    "\n",
    "[![Tokenização](https://img.youtube.com/vi/DoBP320nJds/hqdefault.jpg)](https://youtu.be/DoBP320nJds \"Tokenização\") \n",
    "\n",
    "[![Lematização](https://img.youtube.com/vi/8XHIKCKlahM/hqdefault.jpg)](https://youtu.be/8XHIKCKlahM \"Lematização\") "
   ]
  },
  {
   "cell_type": "markdown",
   "metadata": {},
   "source": [
    "## Representação Vetorial de Textos\n",
    "\n",
    "[![bagofwords](https://img.youtube.com/vi/6v7Zjdpwj4c/hqdefault.jpg)](https://youtu.be/6v7Zjdpwj4c \"bagofwords\") \n",
    "\n",
    "[![bagofwords](https://img.youtube.com/vi/Q88_U0LCv6Y/hqdefault.jpg)](https://youtu.be/Q88_U0LCv6Y \"bagofwords\") \n",
    "\n",
    "[![bagofwords](https://img.youtube.com/vi/-0G-2_vpVAI/hqdefault.jpg)](https://youtu.be/-0G-2_vpVAI \"bagofwords\") \n",
    "\n",
    "* Explore o portal [Projector Tensorflow](https://projector.tensorflow.org/)\n",
    "\n",
    "[![bagofwords](https://img.youtube.com/vi/1mn4DW2f6y4/hqdefault.jpg)](https://youtu.be/1mn4DW2f6y4 \"bagofwords\") \n",
    "\n",
    "[![bagofwords](https://img.youtube.com/vi/DAooqHM0cOg/hqdefault.jpg)](https://youtu.be/DAooqHM0cOg \"bagofwords\") \n",
    "\n",
    "\n",
    "* Da uma olha no [cap. 8.2 - Text Preprocessing](https://d2l.ai/chapter_recurrent-neural-networks/text-preprocessing.html) do livro [Dive into Deep Learning](https://d2l.ai/index.html)"
   ]
  },
  {
   "cell_type": "markdown",
   "metadata": {},
   "source": [
    "### Tudo junto ...\n",
    "\n",
    "[![turing](https://img.youtube.com/vi/ivTIgsLUfc4/hqdefault.jpg)](https://youtu.be/ivTIgsLUfc4?t=140 \"turing\") \n",
    "\n",
    "   * [github](https://github.com/turing-usp/conceitos-basicos-NLP)\n",
    "   \n",
    "[![icmc](https://img.youtube.com/vi/TjPyYOE_Khs/hqdefault.jpg)](https://youtu.be/TjPyYOE_Khs \"icmc\") "
   ]
  },
  {
   "cell_type": "markdown",
   "metadata": {},
   "source": [
    "# Estado da Arte de NLP\n",
    "\n",
    "* Modelos de NLP x número de parâmetros\n",
    "\n",
    "[<center><img src=\"https://4.bp.blogspot.com/-v0xrp7eJRfM/Xr77DD85ObI/AAAAAAAADDY/KjIlWlFZExQA84VRDrMEMrB534euKAzlgCLcBGAsYHQ/s1600/NLP%2Bmodels.png\"></center>](https://blog.tensorflow.org/2020/05/how-hugging-face-achieved-2x-performance-boost-question-answering.html)         \n",
    "\n",
    "\n",
    "\n",
    "# Transformers\n",
    "\n",
    "[![Transformers](https://img.youtube.com/vi/8NOitdReamM/hqdefault.jpg)](https://youtu.be/8NOitdReamM \"Transformers\")  \n",
    "\n",
    "[![Transformers](https://img.youtube.com/vi/YhoIQVRIGyI/hqdefault.jpg)](https://youtu.be/YhoIQVRIGyI \"Transformers\") \n",
    "\n",
    "* Leia os capítulos do livro [Deep Learning Book](https://www.deeplearningbook.com.br/): \n",
    "\n",
    "     * [Capítulo 85 \"Transformadores – O Estado da Arte em Processamento de Linguagem Natural\"](https://www.deeplearningbook.com.br/transformadores-o-estado-da-arte-em-processamento-de-linguagem-natural/);\n",
    "     * [Capítulo 86 \"Como Funcionam os Transformadores em Processamento de Linguagem Natural – Parte 1\"](https://www.deeplearningbook.com.br/como-funcionam-os-transformadores-em-processamento-de-linguagem-natural-parte-1/);\n",
    "     * [Capítulo 87 \"Como Funcionam os Transformadores em Processamento de Linguagem Natural – Parte 2\"](https://www.deeplearningbook.com.br/como-funcionam-os-transformadores-em-processamento-de-linguagem-natural-parte-2/);\n",
    "     * [Capítulo 88 \"Como Funcionam os Transformadores em Processamento de Linguagem Natural – Parte 3\"](https://www.deeplearningbook.com.br/como-funcionam-os-transformadores-em-processamento-de-linguagem-natural-parte-3/);\n",
    "     * [Capítulo 89 \"Como Funcionam os Transformadores em Processamento de Linguagem Natural – Parte 4\"](https://www.deeplearningbook.com.br/como-funcionam-os-transformadores-em-processamento-de-linguagem-natural-parte-4/)."
   ]
  },
  {
   "cell_type": "markdown",
   "metadata": {},
   "source": [
    "# Bidirectional Encoder Representations from Transformers (BERT)\n",
    "[![BERT](https://img.youtube.com/vi/OklmvRidSdE/hqdefault.jpg)](https://youtu.be/OklmvRidSdE \"BERT\")  \n",
    "\n",
    "[![BERT](https://img.youtube.com/vi/c_gbCDU4j8g/hqdefault.jpg)](https://youtu.be/c_gbCDU4j8g \"BERT\")  \n",
    "\n",
    "* Leia os capítulos do livro [Deep Learning Book](https://www.deeplearningbook.com.br/): \n",
    "    \n",
    "   * [Capítulo 76 \"O Que é BERT (Bidirectional Encoder Representations from Transformers)?\"](https://www.deeplearningbook.com.br/o-que-e-bert-bidirectional-encoder-representations-from-transformers/);\n",
    "    \n",
    "   * [Capítulo 77 \"Modelo BERT Para Processamento de Linguagem Natural\"](https://www.deeplearningbook.com.br/modelo-bert-para-processamento-de-linguagem-natural/);\n",
    "   \n",
    "   * [Capítulo 78 \"Modelo BERT – Previsão da Próxima Frase\"](https://www.deeplearningbook.com.br/modelo-bert-previsao-da-proxima-frase/);\n",
    "   \n",
    "\n",
    "* Da uma olhada no [cap. 14.8 - BERT](https://d2l.ai/chapter_natural-language-processing-pretraining/bert.html) do livro [Dive into Deep Learning](https://d2l.ai/index.html)\n",
    "\n"
   ]
  },
  {
   "cell_type": "markdown",
   "metadata": {},
   "source": [
    "# Generative Pre-trained Transformer 3 (GPT-3)\n",
    "\n",
    "* Leia o [Capítulo 79 \"Conhecendo o Modelo GPT-3 (Generative Pre-trained Transformer)\"](https://www.deeplearningbook.com.br/conhecendo-o-modelo-gpt-3-generative-pre-trained-transformer/)\n",
    "    do livro [Deep Learning Book](https://www.deeplearningbook.com.br/): \n",
    "\n",
    "\n",
    "  \n"
   ]
  },
  {
   "cell_type": "markdown",
   "metadata": {},
   "source": [
    "# Quer saber mais\n",
    "\n",
    "* Assista as aulas da playlist do curso  **Processamento de Língua Natural** da UFMG\n",
    "\n",
    "[![NLP](https://img.youtube.com/vi/NBqDzewxJDo/hqdefault.jpg)](https://www.youtube.com/watch?v=NBqDzewxJDo&list=PLt2qoMeOJsQyAklWpREY5ivAUe3jrrR21&index=1 \"NLP\")\n",
    "\n",
    "* Assista as aulas da playlist do curso **Deep Learning para NLP** da UFG     \n",
    "[![NLP](https://img.youtube.com/vi/HG74bUJIfvU/hqdefault.jpg)](https://www.youtube.com/playlist?list=PL95sSdJCNga1gFpzogEjtR_aODts_kTde \"NLP\")\n",
    "\n",
    "* Assista as aulas do curso [Python para Processamento de Linguagem Natural](https://cursosextensao.usp.br/course/view.php?id=2721)do ICMC da USP\n",
    "\n",
    "* Explore o material [Speech and Language Processing](https://web.stanford.edu/~jurafsky/slp3/)\n",
    "\n",
    "* Veja [8 Best Free Courses to Learn AI (Artificial Intelligence) in 2022](https://www.mltut.com/best-free-courses-to-learn-ai/)\n"
   ]
  },
  {
   "cell_type": "markdown",
   "metadata": {},
   "source": [
    "# Gosta de livros ...  \n",
    "\n",
    "[Speech and Language Processing - Daniel Jurafsky](https://web.stanford.edu/~jurafsky/slp3/old_dec20/)\n",
    "\n",
    "[Deep Learning Book - pt_br](https://www.deeplearningbook.com.br/)\n",
    "\n",
    "[Dive into Deep Learning](https://d2l.ai/index.html)\n"
   ]
  },
  {
   "cell_type": "markdown",
   "metadata": {},
   "source": [
    "Qualquer dúvida, poste no fórum da disciplina.\n",
    "### Te vejo na mentoria!"
   ]
  },
  {
   "cell_type": "markdown",
   "metadata": {},
   "source": [
    "[<center><img src=\"images/Logo_I2A2.webp\"></center>](https://www.i2a2.ca/)         \n",
    "Rev 1"
   ]
  },
  {
   "cell_type": "markdown",
   "metadata": {},
   "source": [
    "# Módulo 6"
   ]
  },
  {
   "cell_type": "markdown",
   "metadata": {
    "slideshow": {
     "slide_type": "slide"
    }
   },
   "source": [
    "# Aula 1 - parte 2: Reinforcement Learning (Aprendizado por Reforço)\n",
    "\n",
    "**Objetivo**: Apresentar os conceitos de aprendizado por reforço"
   ]
  },
  {
   "cell_type": "markdown",
   "metadata": {},
   "source": [
    "Este material o auxiliará nas sessões de autoestudo, contudo, fique à vontade para consultar outras fontes de informações, mas nunca deixe de citá-las."
   ]
  },
  {
   "cell_type": "markdown",
   "metadata": {},
   "source": [
    "\n",
    "# Tipos básicos de Aprendizagem de Máquina\n",
    "\n",
    "Já sabemos como as máquinas aprendem, certo?          \n",
    "Já estudamos o aprendizado supervisionado e não supervisionado, contudo, ainda falta estudar uma outra forma, conforme ilustrado na figura abaixo.\n",
    "<img src=\"images/ML_modelos.png\" />\n",
    "\n",
    "\n",
    "# O que é Aprendizagem por Reforço\n",
    "\n",
    "[![aprendreforço](https://img.youtube.com/vi/5u8yNEN5arQ/hqdefault.jpg)](https://youtu.be/5u8yNEN5arQ \"aprendreforço\") \n",
    "\n",
    "* Leia o artigo [Explicando Deep Reinforcement Learning com Super Mario ao invés de matemática](https://paulovasconcellos.com.br/explicando-deep-reinforcement-learning-com-super-mario-ao-inv%C3%A9s-de-matem%C3%A1tica-4c77392cc733)"
   ]
  },
  {
   "cell_type": "markdown",
   "metadata": {},
   "source": [
    " * Assista aos vídeos abaixo ...\n",
    "   \n",
    "[![aprendreforço](https://img.youtube.com/vi/Ycggd_Bg6nY/hqdefault.jpg)](https://youtu.be/Ycggd_Bg6nY \"aprendreforço\")  \n",
    "   \n",
    "[![aprendreforço](https://img.youtube.com/vi/bp6SyogueYg/hqdefault.jpg)](https://youtu.be/bp6SyogueYg?t=342 \"aprendreforço\")  \n",
    "\n",
    "* Leia os capítulos do livro [Deep Learning Book](https://www.deeplearningbook.com.br/): \n",
    "\n",
    "     * [Capítulo 62 \"O Que é Aprendizagem Por Reforço?\"](https://www.deeplearningbook.com.br/o-que-e-aprendizagem-por-reforco/);\n",
    "     * [Capítulo 63 \"Aplicações da Aprendizagem Por Reforço no Mundo Real\"](https://www.deeplearningbook.com.br/aplicacoes-da-aprendizagem-por-reforco-no-mundo-real/);\n",
    "     * [Capítulo 64 \"Componentes do Aprendizado Por Reforço\"](https://www.deeplearningbook.com.br/componentes-do-aprendizado-por-reforco-reinforcement-learning/);\n",
    "     * [Capítulo 65 \"Distribuições de Probabilidade, Redes Neurais e Reinforcement Learning\"](https://www.deeplearningbook.com.br/distribuicoes-de-probabilidade-redes-neurais-e-reinforcement-learning/)."
   ]
  },
  {
   "cell_type": "markdown",
   "metadata": {},
   "source": [
    "# Quer saber mais\n",
    "\n",
    "[![aprendreforço](https://img.youtube.com/vi/eAhHdkahx6w/hqdefault.jpg)](https://youtu.be/eAhHdkahx6w \"Supletivo DH - Reinforcement Learning\")\n",
    "\n",
    "* Assista ao documentario **AlphaGo**\n",
    "[![AlphaGo](https://img.youtube.com/vi/WXuK6gekU1Y/hqdefault.jpg)](https://youtu.be/WXuK6gekU1Y \"AlphaGo\")\n",
    "\n",
    "* Faça o curso gratis [Introduction to Reinforcement Learning](https://www.udacity.com/course/reinforcement-learning--ud600) da Udacity. É possível assistir também no youtube.     \n",
    "[![aprendreforço](https://img.youtube.com/vi/WO3kmx4CVgg/hqdefault.jpg)](https://www.youtube.com/watch?v=WO3kmx4CVgg&list=PL__ycckD1ec_yNMjDl-Lq4-1ZqHcXqgm7&index=1 \"aprendreforço\")\n",
    "\n",
    "* Assista a playlist do curso **Reinforcement Learning**    \n",
    "\n",
    "[![aprendreforço](https://img.youtube.com/vi/2pWv7GOvuf0/hqdefault.jpg)](hhttps://youtu.be/2pWv7GOvuf0 \"aprendreforço\")"
   ]
  },
  {
   "cell_type": "markdown",
   "metadata": {},
   "source": [
    "# Gosta de livros ...  \n",
    "\n",
    "[Reinforcement Learning an introdution - Sutton and Barto](https://www.andrew.cmu.edu/course/10-703/textbook/BartoSutton.pdf)\n",
    "\n",
    "[Deep Learning Book - pt_br](https://www.deeplearningbook.com.br/)"
   ]
  },
  {
   "cell_type": "markdown",
   "metadata": {},
   "source": [
    "Qualquer dúvida, poste no fórum da disciplina.\n",
    "### Te vejo na mentoria!"
   ]
  },
  {
   "cell_type": "markdown",
   "metadata": {},
   "source": [
    "[<center><img src=\"images/Logo_I2A2.webp\"></center>](https://www.i2a2.ca/)         \n",
    "Rev 2"
   ]
  },
  {
   "cell_type": "markdown",
   "metadata": {},
   "source": [
    "# Módulo 6"
   ]
  },
  {
   "cell_type": "markdown",
   "metadata": {
    "slideshow": {
     "slide_type": "slide"
    }
   },
   "source": [
    "# Aula 2 - parte 1: Visão Computacional\n",
    "\n",
    "**Objetivo**: Apresentar os conceitos de visão computacional"
   ]
  },
  {
   "cell_type": "markdown",
   "metadata": {},
   "source": [
    "Este material o auxiliará nas sessões de autoestudo, contudo, fique à vontade para consultar outras fontes de informações, mas nunca deixe de citá-las."
   ]
  },
  {
   "cell_type": "markdown",
   "metadata": {},
   "source": [
    "# Introdução a Visão Computacional\n",
    "\n",
    "[![cabelo](https://img.youtube.com/vi/EK9ZiPeo2ww/hqdefault.jpg)](https://youtu.be/EK9ZiPeo2ww?t=45 \"cabelo\") \n",
    "\n",
    "[![vc](https://img.youtube.com/vi/WOQiMgpVdBk/hqdefault.jpg)](https://youtu.be/WOQiMgpVdBk \"vc\") \n",
    "\n",
    "[![cabelo](https://img.youtube.com/vi/zvN017pzp8Q/hqdefault.jpg)](https://youtu.be/zvN017pzp8Q \"cabelo\") \n",
    "\n",
    "\n",
    "# Visão Natural e Processamento Digital de Imagens\n",
    "\n",
    "[![aprendreforço](https://img.youtube.com/vi/6SpRnq8Zba0/hqdefault.jpg)](https://youtu.be/6SpRnq8Zba0 \"aprendreforço\")  \n",
    "\n",
    "# Processamento de imagens com OpenCV\n",
    "[![OpenCV](https://img.youtube.com/vi/ts-bqGNw5Yc/hqdefault.jpg)](https://www.youtube.com/watch?v=ts-bqGNw5Yc&list=PLvVdNvJpL-oaIHnyQ4EMxT1Z7K1xHFnws \"OpenCV\") \n",
    "\n",
    "\n",
    "### Falamos de **Visão Computacional** e **Processamento Digital de Imagens**. Qual a diferença/relação entre estas duas áreas?\n",
    "\n",
    "* Leia os capítulos do livro [Deep Learning Book](https://www.deeplearningbook.com.br/): \n",
    "\n",
    "   * [Cap. 44 \"Reconhecimento de Imagens com Redes Neurais Convolucionais em Python – Parte 1\"](https://www.deeplearningbook.com.br/reconhecimento-de-imagens-com-redes-neurais-convolucionais-em-python-parte-1/)\n",
    "\n",
    "   * [Cap. 45 \"Reconhecimento de Imagens com Redes Neurais Convolucionais em Python – Parte 2\"](https://www.deeplearningbook.com.br/reconhecimento-de-imagens-com-redes-neurais-convolucionais-em-python-parte-2/)\n",
    "\n",
    "   * [Cap. 46 \"Reconhecimento de Imagens com Redes Neurais Convolucionais em Python – Parte 3\"](https://www.deeplearningbook.com.br/reconhecimento-de-imagens-com-redes-neurais-convolucionais-em-python-parte-3/)\n",
    "\n",
    "   * [Cap. 47 \"Reconhecimento de Imagens com Redes Neurais Convolucionais em Python – Parte 4\"](https://www.deeplearningbook.com.br/reconhecimento-de-imagens-com-redes-neurais-convolucionais-em-python-parte-4/)\n",
    "\n",
    "* Da uma olhada no [cap. 13 - Computer Vision](https://d2l.ai/chapter_computer-vision/index.html) do livro [Dive into Deep Learning](https://d2l.ai/index.html)\n",
    "\n",
    "\n",
    "# Detecção e localização de Objetos\n",
    "\n",
    "\n",
    "[![detecobjetos](https://img.youtube.com/vi/BhwppCyV2iI/hqdefault.jpg)](https://youtu.be/BhwppCyV2iI \"detecobjetos\") \n",
    "\n",
    "[![detecobjetos](https://img.youtube.com/vi/BH6D-VOxYsA/hqdefault.jpg)](https://youtu.be/BH6D-VOxYsA \"detecobjetos\") \n",
    "\n",
    "## O que é o YOLO?\n",
    "\n",
    "[![YOLO](https://img.youtube.com/vi/sH-zuu-RVKo/hqdefault.jpg)](https://youtu.be/sH-zuu-RVKo \"YOLO\") \n",
    "\n",
    "* Leia mais no artigo [A Gentle Introduction to YOLO v4 for Object detection in Ubuntu 20.04](https://robocademy.com/2020/05/01/a-gentle-introduction-to-yolo-v4-for-object-detection-in-ubuntu-20-04/)\n",
    "\n",
    "# Segmentação\n",
    "\n",
    "[![detecobjetos](https://img.youtube.com/vi/A8jwf-bc1Nk/hqdefault.jpg)](https://youtu.be/A8jwf-bc1Nk \"detecobjetos\") "
   ]
  },
  {
   "cell_type": "markdown",
   "metadata": {},
   "source": [
    "# Quer saber mais...\n",
    "\n",
    "* Explore o projeto [OpenPose](https://github.com/CMU-Perceptual-Computing-Lab/openpose)\n",
    "\n",
    "  <img src=\"images/raw.githubusercontent.comCMU-Perceptual-Computing-Labopenpos.gif\"/>\n",
    "  \n",
    "[![visao](https://img.youtube.com/vi/apaaljFG0sw/hqdefault.jpg)](https://youtu.be/apaaljFG0sw \"Introdução a Visão Computacional em Sistemas Embarcados\")\n",
    "  \n",
    "  * Veja a Playlist do curso **Redes Neurais Profundas para Aplicações de Visão Computacional** da UFG\n",
    "     \n",
    "[![visao](https://img.youtube.com/vi/tWB_2APSfaY/hqdefault.jpg)](https://www.youtube.com/watch?v=tWB_2APSfaY&list=PL95sSdJCNga2vUe_WUFwCOsrPmJnhCCv9 \"visao\")\n",
    " \n",
    "  * Veja a Playlist do curso **Processamento de imagens** do IMPA\n",
    " \n",
    "[![IMPA](https://img.youtube.com/vi/Bd0PCypQ44s/hqdefault.jpg)](https://www.youtube.com/playlist?list=PLo4jXE-LdDTRaFa39TdNN3FgPAKkcuHvj \"IMPA\")\n",
    "\n",
    "* Veja a Playlist do curso **Introdução à Visão Computacional** do INCoD\n",
    " \n",
    "[![INCoD](https://img.youtube.com/vi/dWOZTpmDkas/hqdefault.jpg)](https://www.youtube.com/watch?v=dWOZTpmDkas&list=PLmDIGfkfgKy1SBjXA0kBk4DAhIaN1vQOS \"INCoD\")\n",
    "\n"
   ]
  },
  {
   "cell_type": "markdown",
   "metadata": {},
   "source": [
    "# Gosta de livros ...  \n",
    "\n",
    "[Como implementar IA em sua empresa - Lauria](https://conteudo.i2ai.org/implementar-ia-em-sua-empresa)\n",
    "\n",
    "[Reinforcement Learning an introdution - Sutton and Barto](https://www.andrew.cmu.edu/course/10-703/textbook/BartoSutton.pdf)\n",
    "\n",
    "[Deep Learning Book - pt_br](https://www.deeplearningbook.com.br/)"
   ]
  },
  {
   "cell_type": "markdown",
   "metadata": {},
   "source": [
    "Qualquer dúvida, poste no fórum da disciplina.\n",
    "### Te vejo na mentoria!"
   ]
  },
  {
   "cell_type": "markdown",
   "metadata": {},
   "source": [
    "[<center><img src=\"images/Logo_I2A2.webp\"></center>](https://www.i2a2.ca/)         \n",
    "Rev 2"
   ]
  },
  {
   "cell_type": "markdown",
   "metadata": {},
   "source": [
    "# Módulo 6"
   ]
  },
  {
   "cell_type": "markdown",
   "metadata": {
    "slideshow": {
     "slide_type": "slide"
    }
   },
   "source": [
    "# Aula 2 - parte 2: Séries Temporais\n",
    "\n",
    "**Objetivo**: Apresentar os conceitos de séries temporais"
   ]
  },
  {
   "cell_type": "markdown",
   "metadata": {},
   "source": [
    "Este material o auxiliará nas sessões de autoestudo, contudo, fique à vontade para consultar outras fontes de informações, mas nunca deixe de citá-las."
   ]
  },
  {
   "cell_type": "markdown",
   "metadata": {},
   "source": [
    "\n",
    "# Séries Temporais\n",
    "\n",
    "* O que são séries temporais?\n",
    "\n",
    "   - Veja o vídeo do prof. Fernando Amaral\n",
    "[![serietemp](https://img.youtube.com/vi/0RbUk3pjSKY/hqdefault.jpg)](https://youtu.be/0RbUk3pjSKY \"serietemp\") \n",
    "\n",
    "\n",
    "   - Leia a [Introdução a séries temporal](https://sites.icmc.usp.br/ehlers/SME0808/st1.pdf) do prof. Ricardo Ehlers.\n",
    "   \n",
    "   - Assista ao vídeo **Séries temporais com Python**\n",
    "\n",
    "[![serietemp](https://img.youtube.com/vi/1m9u10eJ3Mk/hqdefault.jpg)](https://youtu.be/1m9u10eJ3Mk \"serietemp\") \n",
    "\n",
    "   - Veja a plalist do curso **Séries Temporais com python/pandas/statsmodels** ...\n",
    "[![serietemp](https://img.youtube.com/vi/JuG8hwVK5uQ/hqdefault.jpg)](https://www.youtube.com/watch?v=JuG8hwVK5uQ&list=PL5fQ3JoS0SZscDaHgXahtx632NMnq5RR- \"serietemp\") \n",
    "\n",
    "   - Leia o artigo [Time Series Forecasting: Data, Analysis, and Practice](https://neptune.ai/blog/time-series-forecasting)\n",
    "   \n",
    "   - Assista a live do Mario Filho\n",
    "\n",
    "[![mariofilho](https://img.youtube.com/vi/vFUKOJ-HwoA/hqdefault.jpg)](https://youtu.be/vFUKOJ-HwoA?t=354 \"mariofilho\") "
   ]
  },
  {
   "cell_type": "markdown",
   "metadata": {},
   "source": [
    "# Prophet\n",
    "\n",
    "* Já ouviu falar do [Prophet](https://facebook.github.io/prophet/docs/quick_start.html)?\n",
    "   \n",
    "[![prophet](https://img.youtube.com/vi/CW1PZwNG-wQ/hqdefault.jpg)](https://youtu.be/CW1PZwNG-wQ \"prophet\")  "
   ]
  },
  {
   "cell_type": "markdown",
   "metadata": {},
   "source": [
    "# Quer saber mais\n",
    "\n",
    "* Explore o site da disciplina [Séries Temporais](https://sites.icmc.usp.br/ehlers/SME0808/) do prof. Ricardo Ehlers\n",
    "\n",
    "* Assista ao vídeo **Obtenção de Tendências em Séries Temporais utilizando Transformada Wavelet com Python** ...\n",
    "\n",
    "[![serietemp](https://img.youtube.com/vi/LNm_d6Te76U/hqdefault.jpg)](https://youtu.be/LNm_d6Te76U \"serietemp\") \n",
    "\n",
    "* Leia o artigo [Time series analysis in Python](https://medium.com/open-machine-learning-course/open-machine-learning-course-topic-9-time-series-analysis-in-python-a270cb05e0b3)\n",
    "\n",
    "* Veja o projeto [Análise e Previsão de Séries Temporais: Covid](https://www.kaggle.com/mauriciofigueiredo/an-lise-e-previs-o-de-s-ries-temporais-covid) no Kaggle\n",
    "\n",
    "* Assista ao vídeo **Séries temporais com Orange**\n",
    "\n",
    "[![orange](https://img.youtube.com/vi/LWANy9etiAs/hqdefault.jpg)](https://youtu.be/LWANy9etiAs \"orange\")\n",
    "\n",
    "* Faça o curso grátis [Time Series Forecasting](https://www.udacity.com/course/time-series-forecasting--ud980) da Udacity\n",
    "\n",
    "* Explore a [curadoria de conteudos](https://storage.googleapis.com/deepmind-media/research/New_AtHomeWithAI%20resources.pdf) da DeepMind"
   ]
  },
  {
   "cell_type": "markdown",
   "metadata": {},
   "source": [
    "# Gosta de livros ...  \n",
    "\n",
    "\n",
    "[ANÁLISE DE SERIES TEMPORAIS - EHLERS](http://www.each.usp.br/rvicente/AnaliseDeSeriesTemporais.pdf)\n",
    "\n",
    "[Forecasting: Principles and Practice - Hyndman and Athanasopoulos](https://otexts.com/fpp2/)\n",
    "\n",
    "[Outra versão](https://otexts.com/fpp3/)"
   ]
  },
  {
   "cell_type": "markdown",
   "metadata": {},
   "source": [
    "Qualquer dúvida, poste no fórum da disciplina.\n",
    "### Te vejo na mentoria!"
   ]
  }
 ],
 "metadata": {
  "kernelspec": {
   "display_name": "Python 3",
   "language": "python",
   "name": "python3"
  },
  "language_info": {
   "codemirror_mode": {
    "name": "ipython",
    "version": 3
   },
   "file_extension": ".py",
   "mimetype": "text/x-python",
   "name": "python",
   "nbconvert_exporter": "python",
   "pygments_lexer": "ipython3",
   "version": "3.8.10"
  },
  "rise": {
   "autolaunch": true,
   "enable_chalkboard": true,
   "progress": true,
   "scroll": true,
   "slideNumber": true
  }
 },
 "nbformat": 4,
 "nbformat_minor": 4
}
