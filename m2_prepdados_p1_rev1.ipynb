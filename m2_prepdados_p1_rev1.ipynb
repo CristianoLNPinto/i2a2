{
 "cells": [
  {
   "cell_type": "markdown",
   "metadata": {},
   "source": [
    "[<center><img src=\"images/Logo_I2A2.webp\"></center>](https://www.i2a2.ca/)         \n",
    "Rev 1"
   ]
  },
  {
   "cell_type": "markdown",
   "metadata": {},
   "source": [
    "# Módulo 2"
   ]
  },
  {
   "cell_type": "markdown",
   "metadata": {
    "slideshow": {
     "slide_type": "slide"
    }
   },
   "source": [
    "# Aula 2 - Preparação dos dados - parte 1\n",
    "\n",
    "\n",
    "**Objetivo**: Apresentar o processo de preparação dos dados"
   ]
  },
  {
   "cell_type": "markdown",
   "metadata": {},
   "source": [
    "Este material o auxiliará nas sessões de autoestudo, contudo, fique à vontade para consultar outras fontes de informações, mas nunca deixe de citá-las."
   ]
  },
  {
   "cell_type": "markdown",
   "metadata": {},
   "source": [
    "# Dados x Informações x Conhecimento x Inteligência\n",
    "\n",
    "Sua primeira tarefa é entender as relações entre os conceitos: **Dados, Informações, Conhecimento e Inteligência**.     \n",
    "Sugestões de consulta:  \n",
    "[![Dados, informação, conhecimento](https://img.youtube.com/vi/o8XD5yhmlLQ/hqdefault.jpg)](https://youtu.be/o8XD5yhmlLQ \"Dados, informação, conhecimento\")   \n",
    "\n",
    "[From Data to Wisdom - Ackoff](https://www.systems-thinking.org/dikw/dikw.htm)"
   ]
  },
  {
   "cell_type": "markdown",
   "metadata": {},
   "source": [
    "# Tipos de dados\n",
    "\n",
    "Na aula de estatística você assistiu o vídeo abaixo que trata dos tipos de variáveis ...\n",
    "[![Tipos de variaveis](https://img.youtube.com/vi/1zy6DTHQDzM/hqdefault.jpg)](https://youtu.be/1zy6DTHQDzM \"Tipos de variaveis\")\n",
    "\n",
    "Veja agora artigo de Jeff Hale [7 Data Types: A Better Way to Think about Data Types for Machine Learning](https://towardsdatascience.com/7-data-types-a-better-way-to-think-about-data-types-for-machine-learning-939fae99a689) que detalha **11 tipos de dados**, procure compreender cada um deles.\n",
    "\n",
    "Veja o vídeo abaixo sobre **dados temporais**\n",
    "[![seriestemporais](https://img.youtube.com/vi/Spg1XND1lpE/hqdefault.jpg)](https://youtu.be/Spg1XND1lpE \"seriestemporais\")\n",
    "\n",
    "Veja o vídeo abaixo sobre **IoT e Dados**\n",
    "[![iotdados](https://img.youtube.com/vi/bx_hcKTqUss/hqdefault.jpg)](https://youtu.be/bx_hcKTqUss \"iotdados\")\n"
   ]
  },
  {
   "cell_type": "markdown",
   "metadata": {},
   "source": [
    "# Big Data e Estruturação dos Dados\n",
    "\n",
    "* Leia o artigo: [Os desafios da era do Big Data e do analytics na indústria de manufatura](https://cio.com.br/tendencias/os-desafios-da-era-do-big-data-e-do-analytics-na-industria-de-manufatura/)\n",
    "\n",
    "### Pesquise livremente pelos conceitos abaixo e suas relações:\n",
    "* Big Data;\n",
    "* Dado estruturados;\n",
    "* Dados não estruturados;\n",
    "* Dados semiestruturados."
   ]
  },
  {
   "cell_type": "markdown",
   "metadata": {},
   "source": [
    "# Produto de Dados (Data Product)\n",
    "\n",
    "Você sabe o que é um produto de dados?\n",
    "Leia os artigos [Produtos de dados na era do big data](https://blog.dsbrigade.com/produto-de-dados/) e [Qual a diferença entre um Produto de Dados e um Produto de Tecnologia?](https://www.lewagon.com/pt-BR/blog/produto-de-dados-e-produto-de-tecnologia) e compreenda essa conceitos.\n",
    "\n",
    "* Assista ao vídeo **como transformar dados em produto**   \n",
    "\n",
    "[![como transformar dados em produto](https://img.youtube.com/vi/ntN1OBy8df4/hqdefault.jpg)](https://youtu.be/ntN1OBy8df4 \"como transformar dados em produto\") \n"
   ]
  },
  {
   "cell_type": "markdown",
   "metadata": {},
   "source": [
    "# O Processo de ciência de dados\n",
    "\n",
    "Já ouviu falar do **Processo de ciência de dados**?    \n",
    "\n",
    "Veja na figura abaixo - adaptada do livro [Doing Data Science: Straight Talk from the Frontline - O'Neil & Schutt](https://books.google.com.br/books?id=vcVKAQAAQBAJ&hl=pt-PT) - uma possível representação deste processo.\n",
    "\n",
    "[<img src=\"images/cvml.png\" alt=\"jupyter\" style=\"width: 500px;\" align=\"central\"/>](https://books.google.com.br/books?id=ycNKAQAAQBAJ&pg=PA17&hl=pt-PT&source=gbs_toc_r&cad=4#v=onepage&q&f=false)   \n",
    "\n",
    "#### Atente para os seguintes detalhes da figura:\n",
    "* Da onde os dados brutos são coletados?\n",
    "* Depois desta coleta, qual o próximo passo?\n",
    "* Antes da Análise Exploratória de Dados, o que deve ser realizado?\n",
    "* Qual a entrada do Produto de Dados?\n",
    "\n",
    "* Assista ao vídeo ...\n",
    "\n",
    "[![KDD DS](https://img.youtube.com/vi/pNT304aI4uU/hqdefault.jpg)](https://youtu.be/pNT304aI4uU \"KDD DS\") \n",
    "\n",
    "Assista ao vídeo **CRISP-DM: a melhor metodologia para projetos de Data Science** e procure entender todas as fases desta metodologia e as relações com o **Processo de ciência de dados** apresentado acima.\n",
    "\n",
    "[![CRISP](https://img.youtube.com/vi/mhPATD8S6D0/hqdefault.jpg)](https://youtu.be/mhPATD8S6D0 \"CRISP\") "
   ]
  },
  {
   "cell_type": "markdown",
   "metadata": {},
   "source": [
    "# Modelos de Machine Learning\n",
    "\n",
    "Pesquise sobre:\n",
    "* Modelos de Machine Learning (ML);\n",
    "* Redes Neurais;\n",
    "* Deep Learning (DL);\n",
    "* Cojuntos de dados (dataset) de Treinamento, validação e teste de modelos de ML/DL;\n",
    "* Quais as razões para o `boom`do deep learning? Veja [Deep Learning e a Tempestade Perfeita](https://www.deeplearningbook.com.br/deep-learning-a-tempestade-perfeita/)\n",
    "* Qual a relação entre a **quantidade de dados** x **sucesso dos modelos de deep learning**?"
   ]
  },
  {
   "cell_type": "markdown",
   "metadata": {},
   "source": [
    "# Qualidade dos Dados"
   ]
  },
  {
   "cell_type": "markdown",
   "metadata": {},
   "source": [
    "`O Data Management Body of Knowledge (DMBOK) define Qualidade de Dados (DQ) como o planejamento, implementação e controle de atividades que aplicam técnicas de gerenciamento de qualidade aos dados, a fim de garantir que seja adequado ao consumo e atenda às necessidades dos dados consumidore`"
   ]
  },
  {
   "cell_type": "markdown",
   "metadata": {},
   "source": [
    "Leia mais sobre **qualidade dos dados** em:\n",
    "* [4 métricas fundamentais para a qualidade de dados em analytics](https://www.aquare.la/4-metricas-fundamentais-para-qualidade-de-dados-em-analytics/)     \n",
    "* [Gestão da Qualidade dos Dados](https://abracd.org/gestao-da-qualidade-dos-dados/) "
   ]
  },
  {
   "cell_type": "markdown",
   "metadata": {},
   "source": [
    "Assista ao vídeo **Implementando Qualidade de dados** abaixo:\n",
    "\n",
    "[![QualidadeDados](https://img.youtube.com/vi/HmaAjVpAp6I/hqdefault.jpg)](https://youtu.be/HmaAjVpAp6I \"QualidadeDados\") \n",
    "\n",
    "Um resumão ...\n",
    "<img src=\"images/qualidadeDados.jpg\" alt=\"jupyter\" style=\"width: 500px;\" align=\"central\"/>"
   ]
  },
  {
   "cell_type": "markdown",
   "metadata": {},
   "source": [
    "# Benefícios e aplicações de uma metodologia de qualidade de dados\n",
    "\n",
    "* Com base nos materias pesquisados e sua vivência, liste quais os benefícios e aplicações de uma metodologia de qualidade de dados;\n",
    "* Quais são os erros mais comuns?"
   ]
  },
  {
   "cell_type": "markdown",
   "metadata": {},
   "source": [
    "# Quer saber mais?\n",
    "* Veja os relatórios:\n",
    "\n",
    "    - Da Experian [2020 Global data management research - The data-driven organization, a transformation in progress](https://s3-sa-east-1.amazonaws.com/serasaexperian-site-institucional-wp-content/wp-content/uploads/20200529133321/2020-Global-data-management-research.pdf)\n",
    "    \n",
    "    - Do Cappra Institute [Maturidade analítica das organizações brasileiras](https://www.cappra.institute/ima)\n",
    "    \n",
    "    - Asista aos vídeos ...\n",
    "    \n",
    "[![processamento1](https://img.youtube.com/vi/pbksL5cpeSk/hqdefault.jpg)](https://youtu.be/pbksL5cpeSk \"processamento1\") \n",
    "\n",
    "\n",
    "[![processamento2](https://img.youtube.com/vi/8VwLb7M-5-g/hqdefault.jpg)](https://youtu.be/8VwLb7M-5-g \"processamento2\") "
   ]
  },
  {
   "cell_type": "markdown",
   "metadata": {},
   "source": [
    "Qualquer dúvida, poste no fórum da disciplina.\n",
    "### Te vejo na tutoria!"
   ]
  }
 ],
 "metadata": {
  "kernelspec": {
   "display_name": "Python 3 (ipykernel)",
   "language": "python",
   "name": "python3"
  },
  "language_info": {
   "codemirror_mode": {
    "name": "ipython",
    "version": 3
   },
   "file_extension": ".py",
   "mimetype": "text/x-python",
   "name": "python",
   "nbconvert_exporter": "python",
   "pygments_lexer": "ipython3",
   "version": "3.8.10"
  },
  "rise": {
   "autolaunch": true,
   "enable_chalkboard": true,
   "progress": true,
   "scroll": true,
   "slideNumber": true
  }
 },
 "nbformat": 4,
 "nbformat_minor": 4
}
