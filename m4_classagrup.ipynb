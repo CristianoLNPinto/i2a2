{
 "cells": [
  {
   "cell_type": "markdown",
   "metadata": {},
   "source": [
    "[<center><img src=\"images/Logo_I2A2.webp\"></center>](https://www.i2a2.ca/)         \n",
    "Rev 1"
   ]
  },
  {
   "cell_type": "markdown",
   "metadata": {},
   "source": [
    "# Módulo 4"
   ]
  },
  {
   "cell_type": "markdown",
   "metadata": {
    "slideshow": {
     "slide_type": "slide"
    }
   },
   "source": [
    "# Aula 1 - Classificação e Agrupamento\n",
    "\n",
    "**Objetivo**: Apresentar os algortimos de classificação e agrupamento"
   ]
  },
  {
   "cell_type": "markdown",
   "metadata": {},
   "source": [
    "Este material o auxiliará nas sessões de autoestudo, contudo, fique à vontade para consultar outras fontes de informações, mas nunca deixe de citá-las."
   ]
  },
  {
   "cell_type": "markdown",
   "metadata": {},
   "source": [
    "# Escolhendo o algoritmo/modelo (estimador) correto\n",
    "\n",
    "Muitas vezes, a parte mais difícil de resolver um problema de aprendizado de máquina pode ser encontrar o estimador certo para o trabalho.     \n",
    "O fluxograma abaixo foi projetado para fornecer aos usuários um guia aproximado sobre como abordar problemas em relação a quais estimadores devem ser testados em seus dados.    \n",
    "Clique em qualquer estimador no gráfico abaixo para ver sua documentação.\n",
    "\n",
    "[<img src=\"images/ml_map.png\"/>](https://scikit-learn.org/stable/tutorial/machine_learning_map/index.html)"
   ]
  },
  {
   "cell_type": "markdown",
   "metadata": {},
   "source": [
    "# Relembrando ...\n",
    "* As variáveis podem ser classificadas em:\n",
    "\n",
    "    - Variáveis não métricas (qualitativas, categóricas): permitem apenas a análise de frequências, sem a possibilidade do cálculo de medidas de posição e de dispersão, exceto a moda; e\n",
    "    - Variáveis métricas (quantitativas): são representadas por valores que podem ser tratados com o intuito do cálculo de medidas de posição (ex. média) ou dispersão (ex. desvio padrão). Podem ser discretas (ex. número de filhos) ou contínuas (ex. salário). Ao contrário das variáveis qualitativas, as métricas suportam um número bem maior de representações gráficas, tais como: gráficos de dispersão, de linha, etc; bem como o cálculo de correlações entre variáveis deste tipo.\n",
    "    \n",
    "Fonte: [Fávaro et al. (2009)](https://scholar.google.com.br/scholar?hl=pt-BR&as_sdt=0,5&cluster=12103570380505974351)"
   ]
  },
  {
   "cell_type": "markdown",
   "metadata": {},
   "source": [
    "# Explore o fluxograma\n",
    "    - Em quantos grandes grupos os estimadores se dividem?\n",
    "    - Quais são esses grandes grupos?\n",
    "    - Qual a quantidade mínima de dados recomendada?\n",
    "    - Se para resolver o seu  problema de negócio é  necessario a predição de uma variável categórica, qual o critério em optar por estimadores do tipo classificação ou clustering (agrupamento)?\n",
    "    - Já se o problema envolve a predição de uma variável quantitativa, qual grupo de estimador utilizar?"
   ]
  },
  {
   "cell_type": "markdown",
   "metadata": {},
   "source": [
    "# Estimadores de Classificação\n",
    "\n",
    "* Clique em cada um dos estimadores de classificação (caixas verdes) para a acessar suas documentações.\n",
    "    - Liste os tipos de classificadores;\n",
    "    - O que é um classificador binário e um multi classe?\n",
    "    - Acesse exemplos;\n",
    "    - Atente para a formulação matemática dos modelos. Lembra quando alguém perguntou: \"professora para que serve isto?\"."
   ]
  },
  {
   "cell_type": "markdown",
   "metadata": {},
   "source": [
    "## SVM - Máquina de vetores de suporte\n",
    "\n",
    "* Assista aos vídeos ... \n",
    "\n",
    "[![SMV2](https://img.youtube.com/vi/CbejnYx8JlQ/hqdefault.jpg)](https://youtu.be/CbejnYx8JlQ \"SVM2\") \n",
    "\n",
    "\n",
    "[![SMV](https://img.youtube.com/vi/ba7tMJZbGyA/hqdefault.jpg)](https://youtu.be/ba7tMJZbGyA \"SVM\") \n"
   ]
  },
  {
   "cell_type": "markdown",
   "metadata": {},
   "source": [
    "## SGD - Stochastic Gradient Descent\n",
    "\n",
    "* Assista ao vídeo ... \n",
    "\n",
    "[![SGD](https://img.youtube.com/vi/NJ6SEJEmuGY/hqdefault.jpg)](https://youtu.be/NJ6SEJEmuGY \"SGD\") \n"
   ]
  },
  {
   "cell_type": "markdown",
   "metadata": {},
   "source": [
    "## KNN - K Nearest Neighbor\n",
    "\n",
    "* Assista ao vídeo ... \n",
    "\n",
    "[![KNN](https://img.youtube.com/vi/DeAuVrhKw58/hqdefault.jpg)](https://youtu.be/DeAuVrhKw58 \"KNN\") "
   ]
  },
  {
   "cell_type": "markdown",
   "metadata": {},
   "source": [
    "## Naive Bayes\n",
    "\n",
    "* Assista ao vídeo ... \n",
    "\n",
    "[![Naive Bayes](https://img.youtube.com/vi/8ZqsODxehO4/hqdefault.jpg)](https://youtu.be/8ZqsODxehO4 \"Naive Bayes\")"
   ]
  },
  {
   "cell_type": "markdown",
   "metadata": {},
   "source": [
    "## Ensemble - Comitê de Máquinas de Aprendizado\n",
    "\n",
    "* Assista ao vídeo ... \n",
    "\n",
    "[![Ensemble](https://img.youtube.com/vi/41yF29X8QTA/hqdefault.jpg)](https://youtu.be/41yF29X8QTA \"Ensemble\") "
   ]
  },
  {
   "cell_type": "markdown",
   "metadata": {},
   "source": [
    "## Kernel Approximation\n",
    "\n",
    "* Leia o artigo: [Kernel Functions for Machine Learning Applications](http://crsouza.com/2010/03/17/kernel-functions-for-machine-learning-applications/)"
   ]
  },
  {
   "cell_type": "markdown",
   "metadata": {},
   "source": [
    "# Estimadores de Agrupamento\n",
    "\n",
    "* Clique em cada um dos estimadores de agrupamento (caixas verdes) para a acessar suas documentações.\n",
    "    - Liste os tipos de agrupamentos;\n",
    "    - Acesse exemplos;\n",
    "    - Atente para a formulação matemática dos modelos."
   ]
  },
  {
   "cell_type": "markdown",
   "metadata": {},
   "source": [
    "## Kmeans \n",
    "* Assista aos vídeos ... \n",
    "\n",
    "[![kmeans1](https://img.youtube.com/vi/WqMnQuC19Rg/hqdefault.jpg)](https://youtu.be/WqMnQuC19Rg \"kmeans1\")\n",
    "\n",
    "[![kmeans](https://img.youtube.com/vi/5koTNJD6fjQ/hqdefault.jpg)](https://youtu.be/5koTNJD6fjQ \"kmeans\")"
   ]
  },
  {
   "cell_type": "markdown",
   "metadata": {},
   "source": [
    "## Spectral clustering\n",
    "\n",
    "* Assista ao vídeo ... \n",
    "\n",
    "[![spectralclustering](https://img.youtube.com/vi/4pSg0XbMn0U/hqdefault.jpg)](https://youtu.be/4pSg0XbMn0U \"spectralclustering\")"
   ]
  },
  {
   "cell_type": "markdown",
   "metadata": {},
   "source": [
    "## GMM - Gaussian mixture models\n",
    "\n",
    "* Assista ao vídeo ... \n",
    "\n",
    "[![gmm](https://img.youtube.com/vi/x75j6y9nvJU/hqdefault.jpg)](https://youtu.be/x75j6y9nvJU \"gmm\")"
   ]
  },
  {
   "cell_type": "markdown",
   "metadata": {},
   "source": [
    "## Minibatch kmeans\n",
    "\n",
    "* Leia o artigo: [ML | Mini Batch K-means clustering algorithm](https://www.geeksforgeeks.org/ml-mini-batch-k-means-clustering-algorithm/)"
   ]
  },
  {
   "cell_type": "markdown",
   "metadata": {},
   "source": [
    "## Meanshift\n",
    "\n",
    "* Leia o artigo: [How to perform Mean Shift clustering with Python in Scikit?](https://www.machinecurve.com/index.php/2020/04/23/how-to-perform-mean-shift-clustering-with-python-in-scikit/0)"
   ]
  },
  {
   "cell_type": "markdown",
   "metadata": {},
   "source": [
    "## VBGMM - Variational Bayesian Gaussian Mixture\n",
    "\n",
    "* Leia o artigo: [Variational Inference in Bayesian Multivariate Gaussian Mixture Model](https://towardsdatascience.com/variational-inference-in-bayesian-multivariate-gaussian-mixture-model-41c8cc4d82d7)"
   ]
  },
  {
   "cell_type": "markdown",
   "metadata": {},
   "source": [
    "# Introdução ao SKLearn\n",
    "Leia os artigos:\n",
    "\n",
    "   * [Introdução ao Scikit-learn - Parte 1: uma visão geral](http://computacaointeligente.com.br/outros/intro-sklearn-part-1/)\n",
    "   * [Introdução ao Scikit-learn - Parte 2: criando o primeiro projeto](http://computacaointeligente.com.br/outros/intro-sklearn-part-2/)\n",
    "   * [Introdução ao Scikit-learn - Parte 3: avaliando a qualidade do modelo via cross-validation](http://computacaointeligente.com.br/outros/intro-sklearn-part-3/)"
   ]
  },
  {
   "cell_type": "markdown",
   "metadata": {},
   "source": [
    "# Exercício 1\n",
    "\n",
    "* Execute o notebook **Análise de Agrupamentos (Clusterização)**\n",
    "\n",
    "[![Binder](https://mybinder.org/badge_logo.svg)](https://mybinder.org/v2/gh/storopoli/ciencia-de-dados/main?filepath=Aula_17_Clusterizacao.ipynb)"
   ]
  },
  {
   "cell_type": "markdown",
   "metadata": {},
   "source": [
    "# Exercício 2\n",
    "\n",
    "* Execute o notebook **SVM (Máquina de Vetores de Suporte)**\n",
    "\n",
    "[![Binder](https://mybinder.org/badge_logo.svg)](https://mybinder.org/v2/gh/storopoli/ciencia-de-dados/main?filepath=Aula_13_Support_Vector_Machines.ipynb)"
   ]
  },
  {
   "cell_type": "markdown",
   "metadata": {},
   "source": [
    "# Quer saber mais\n",
    "\n",
    "\n",
    "Assista ao vídeo ...\n",
    "[![DSindustria](https://img.youtube.com/vi/EhXT_uWNuCg/hqdefault.jpg)](https://youtu.be/EhXT_uWNuCg \"DSindustria\")\n",
    "\n",
    "   * [notebook](https://www.kaggle.com/afrniomelo/epv-peq-aula-3-classifica-o)\n",
    "\n",
    "[![KNN](https://img.youtube.com/vi/4Dpf76AB9Js/hqdefault.jpg)](https://youtu.be/4Dpf76AB9Js \"KNN\")\n",
    "\n",
    "* Assista a playlist [Machine Learning | Python e scikit-learning](https://www.youtube.com/watch?v=BQFS7dxMNuM&list=PL5fQ3JoS0SZs2X_eN2QA555boD21alEUf) e explore também esse [GitHub](https://github.com/ronaldolagepessoa/machine-learning)\n",
    "\n",
    "* Assista a playlist [Data Science e Machine Learning na Indústria de Processos](https://www.youtube.com/watch?v=0iE3JsQpU_U&list=PLvr45Arc0UpzsRhzq3q4_KmZcm0utwvvB)"
   ]
  },
  {
   "cell_type": "markdown",
   "metadata": {},
   "source": [
    "# Gosta de livros, abaixo temos alguns:    \n",
    "\n",
    "[Hands on Machine Learning with Scikit Learn and Tensorflow.](http://index-of.es/Varios-2/Hands%20on%20Machine%20Learning%20with%20Scikit%20Learn%20and%20Tensorflow.pdf) \n",
    "\n",
    "[Mastering Machine Learning with scikit-learn](http://www.smallake.kr/wp-content/uploads/2017/03/Mastering-Machine-Learning-with-scikit-learn.pdf)"
   ]
  },
  {
   "cell_type": "markdown",
   "metadata": {},
   "source": [
    "Qualquer dúvida, poste no fórum da disciplina.\n",
    "### Te vejo na tutoria!"
   ]
  }
 ],
 "metadata": {
  "kernelspec": {
   "display_name": "Python 3",
   "language": "python",
   "name": "python3"
  },
  "language_info": {
   "codemirror_mode": {
    "name": "ipython",
    "version": 3
   },
   "file_extension": ".py",
   "mimetype": "text/x-python",
   "name": "python",
   "nbconvert_exporter": "python",
   "pygments_lexer": "ipython3",
   "version": "3.8.10"
  },
  "rise": {
   "autolaunch": true,
   "enable_chalkboard": true,
   "progress": true,
   "scroll": true,
   "slideNumber": true
  }
 },
 "nbformat": 4,
 "nbformat_minor": 4
}
