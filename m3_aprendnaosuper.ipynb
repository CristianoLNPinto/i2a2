{
 "cells": [
  {
   "cell_type": "markdown",
   "metadata": {},
   "source": [
    "[<center><img src=\"images/Logo_I2A2.webp\"></center>](https://www.i2a2.ca/)         \n",
    "Rev 2"
   ]
  },
  {
   "cell_type": "markdown",
   "metadata": {},
   "source": [
    "# Módulo 3"
   ]
  },
  {
   "cell_type": "markdown",
   "metadata": {
    "slideshow": {
     "slide_type": "slide"
    }
   },
   "source": [
    "# Aula 2 - Aprendizado Não Supervisionado  (Unsupervised Learning)\n",
    "\n",
    "\n",
    "**Objetivo**: Apresentar o aprendizado não supervisionado e suas aplicações"
   ]
  },
  {
   "cell_type": "markdown",
   "metadata": {},
   "source": [
    "Este material o auxiliará nas sessões de autoestudo, contudo, fique à vontade para consultar outras fontes de informações, mas nunca deixe de citá-las."
   ]
  },
  {
   "cell_type": "markdown",
   "metadata": {},
   "source": [
    "# Tipos básicos de Aprendizagem de Máquina\n",
    "\n",
    "### Como as máquinas aprendem?\n",
    "\n",
    "Na aula passada falamos das 3 abordagens básicas de aprendizado de máquina, lembra?\n",
    "\n",
    "<img src=\"images/ML_modelos2.png\"/>"
   ]
  },
  {
   "cell_type": "markdown",
   "metadata": {},
   "source": [
    "# Diferentes formas de aprendizado de máquina \n",
    "\n",
    "Na leitura do artigo [As diferentes formas de aprendizado de máquina](https://www.eldorado.org.br/blog/as-diferentes-formas-de-aprendizado-de-maquina/) da aula passada, você deve ter identificado a principal diferença entre o aprendizado supervisionado e o não supervisionado, certo?\n",
    "\n",
    "   * Qualquer coisa, revisite o [artigo](https://www.eldorado.org.br/blog/as-diferentes-formas-de-aprendizado-de-maquina/).     "
   ]
  },
  {
   "cell_type": "markdown",
   "metadata": {},
   "source": [
    "# Aprendizado Supervisionado (Supervised Learning)\n",
    "<img src=\"images/aprensuper.png\" />"
   ]
  },
  {
   "cell_type": "markdown",
   "metadata": {},
   "source": [
    "# Aprendizado Não supervisionado (Unsupervised)\n",
    "<img src=\"images/aprennaosuper.png\" />\n",
    "\n",
    "\n",
    "* Assista ao vídeo ...\n",
    "[![aprendizagem não supervisionado](https://img.youtube.com/vi/SqfOoVaN7CQ/hqdefault.jpg)](https://youtu.be/SqfOoVaN7CQ?t=72 \"aprendizagem não supervisionado\")"
   ]
  },
  {
   "cell_type": "markdown",
   "metadata": {},
   "source": [
    "# Exercício 1: Análise de Agrupamentos - Aplicação em Python\n",
    "\n",
    "\n",
    "* Assista ao vídeo ...\n",
    "[![Análise de Agrupamentos](https://img.youtube.com/vi/d_CJGaAbC7o/hqdefault.jpg)](https://youtu.be/d_CJGaAbC7o \"Análise de Agrupamentos\")\n",
    "\n",
    "e execute o notebook abaixo ...\n",
    "\n",
    "[![Binder](https://mybinder.org/badge_logo.svg)](https://mybinder.org/v2/gh/cibelerusso/AnaliseMultivariadaEAprendizadoNaoSupervisionado/master?filepath=Comandos%20em%20Python/10%20Agrupamentos.ipynb)\n",
    "\n",
    "\n",
    "#### Procure acompanhar o vídeo e vá executando simultaneamente o Jupyter Notebook"
   ]
  },
  {
   "cell_type": "markdown",
   "metadata": {},
   "source": [
    "# Quer saber mais?\n",
    "* Veja as aulas da disciplina [SME0822 - Análise Multivariada e Aprendizado Não Supervisionado (2020)](https://edisciplinas.usp.br/course/view.php?id=78145#section-4) do Instituto de Ciências Matemáticas e de Computação da USP\n",
    "\n",
    "* Explore a playlist [Ciência de Dados](https://www.youtube.com/watch?v=lm2IagDGDAU&list=PLSc7xcwCGNh1PJrPfLaH4MMjfDl48tmGM) do prof. Francisco Rodrigues\n",
    "\n",
    "* Veja a documentação do [scikit-learning](https://scikit-learn.org/stable/unsupervised_learning.html)\n",
    "\n",
    "* Veja exemplos de [utilização](https://scikit-learn.org/stable/auto_examples/index.html#clustering) no sklearn\n",
    "\n",
    "* Assista ao vídeo Ciência de Dados e a Indústria 4.0\n",
    "[![dsi40](https://img.youtube.com/vi/mHKgXOJZgAw/hqdefault.jpg)](https://youtu.be/mHKgXOJZgAw \"dsi40\")\n",
    "\n",
    "# Gosta de livros ...\n",
    "[Como implementar IA em sua empresa - Lauria](https://conteudo.i2ai.org/implementar-ia-em-sua-empresa)\n"
   ]
  },
  {
   "cell_type": "markdown",
   "metadata": {},
   "source": [
    "Qualquer dúvida, poste no fórum da disciplina.\n",
    "### Te vejo na mentoria!"
   ]
  }
 ],
 "metadata": {
  "kernelspec": {
   "display_name": "Python 3",
   "language": "python",
   "name": "python3"
  },
  "language_info": {
   "codemirror_mode": {
    "name": "ipython",
    "version": 3
   },
   "file_extension": ".py",
   "mimetype": "text/x-python",
   "name": "python",
   "nbconvert_exporter": "python",
   "pygments_lexer": "ipython3",
   "version": "3.8.10"
  },
  "rise": {
   "autolaunch": true,
   "enable_chalkboard": true,
   "progress": true,
   "scroll": true,
   "slideNumber": true
  }
 },
 "nbformat": 4,
 "nbformat_minor": 4
}
