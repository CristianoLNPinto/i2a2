{
 "cells": [
  {
   "cell_type": "markdown",
   "metadata": {},
   "source": [
    "[<center><img src=\"images/Logo_I2A2.webp\"></center>](https://www.i2a2.ca/)         \n",
    "Rev 1"
   ]
  },
  {
   "cell_type": "markdown",
   "metadata": {},
   "source": [
    "# Módulo 2"
   ]
  },
  {
   "cell_type": "markdown",
   "metadata": {
    "slideshow": {
     "slide_type": "slide"
    }
   },
   "source": [
    "# Aula 2 - Preparação dos dados - parte 2\n",
    "\n",
    "\n",
    "**Objetivo**: Apresentar o processo de preparação dos dados"
   ]
  },
  {
   "cell_type": "markdown",
   "metadata": {},
   "source": [
    "Este material o auxiliará nas sessões de autoestudo, contudo, fique à vontade para consultar outras fontes de informações, mas nunca deixe de citá-las."
   ]
  },
  {
   "cell_type": "markdown",
   "metadata": {},
   "source": [
    "# Processo de Preparação dos Dados\n",
    "\n",
    "De uma forma geral, o processo de preparação ou tratamento dos dados (data wrangling ou data munging) envolve:\n",
    "* Obtenção (gathering);\n",
    "* Extração (extracting);\n",
    "* Limpeza (cleaning); e\n",
    "* Armazenamento (storing).\n",
    "\n",
    "Pesquise livremente cada uma destas etapas."
   ]
  },
  {
   "cell_type": "markdown",
   "metadata": {},
   "source": [
    "# Exercício 1: Limpando Dados do OpenStreetMap - Região Metropolitana de São Paulo\n",
    "\n",
    "\n",
    "## Acesse o [projeto](https://nbviewer.org/github/vsvasconcelos/i2a2/blob/main/DW-OSM-RMSP-rev4/DW-OSM-RMSP-rev2.ipynb) e:\n",
    "\n",
    "### 1) Identifique como os dados foram obtidos (gathering).\n",
    "    * O que são fontes secundárias de dados?\n",
    "\n",
    "### 2) Identifique como os dados foram extraidos (extracting).\n",
    "    * O que é um arquivo XML?\n",
    "    \n",
    "### 3) Identifique como os dados foram limpos (cleaning).\n",
    "    * Quais as 6 etapas utilizadas utulizadas para a limpeza dos dados?\n",
    "    * Quais as 5 métricas de qualidade dos dados propostas?\n",
    "    * Como foi realizado o processo de auditoria dos dados?\n",
    "    * O que é uma expressão regular?\n",
    "    * Quais métricas de qualidade foram utilizadas para a variável CEP? Como essas métricas foram implementadas?\n",
    "    \n",
    "### 4) Identifique como os dados foram armazenados (storing).\n",
    "    * O que é o MongoDB?\n",
    "    * O que é um arquivo JSON?"
   ]
  },
  {
   "cell_type": "markdown",
   "metadata": {},
   "source": [
    "# Análise Exploratória de Dados (Exploratory Data Analysis - EDA)\n",
    "\n",
    "Pesquise o que é uma Análise Exploratória de Dados?\n",
    "\n",
    "    * Identifique as diferentes abordagens para lidar com dados em faltantes em um conjunto de dados?\n",
    "    * Compreenda o que são vieses (bias) em dados;\n",
    "    * Compreenda o que é Data Augmentation;\n",
    "    * O que são Outliers e suas relações com boxplot?\n",
    "    * Qual a diferença entre correlação e causalidade?\n",
    "    * O que é a normalização de dados?\n",
    "    * Como transformar dados categóricos em dados numéricos (label encoding, one-hot encoding, numerical encoding)."
   ]
  },
  {
   "cell_type": "markdown",
   "metadata": {},
   "source": [
    "# Exercício 2: Análise Exploratória dos Dados da Pesquisa Origem e Destino 2007 na Região Metropolitana de São Paulo utilizando a Linguagem R\n",
    "\n",
    "\n",
    "## Acesse o [projeto](https://nbviewer.org/github/vsvasconcelos/EDA-R/blob/master/projecttemplatebr_vagner-rev4.html) e:\n",
    "\n",
    "### 1) Explore livremente o trabalho e tente encontrar algum insight\n",
    "\n",
    "### 2) Com relação a fig. 23 do trabalho, há alguma correlação significativa entre as 3 variáveis quantitativas envolvidas?\n",
    "\n",
    "### 3) Na seção 4 (gráficos multivariados), qual modelo foi utilizado para relacionar as variáveis \"duracao\" e \"distancia\"?\n",
    "   "
   ]
  },
  {
   "cell_type": "markdown",
   "metadata": {},
   "source": [
    "# Exercício 3: Investigando a base de dados Titanic\n",
    "\n",
    "\n",
    "## Acesse o [projeto](https://github.com/vsvasconcelos/Titanic/blob/master/P2-InvestigateDataset.ipynb) e:\n",
    "\n",
    "### 1) Explore livremente o trabalho e tente encontrar algum insight\n",
    "\n",
    "### 2) Execute o notebook.\n",
    "\n",
    "[![Binder](https://mybinder.org/badge_logo.svg)](https://mybinder.org/v2/gh/vsvasconcelos/Titanic/master?filepath=P2-InvestigateDataset.ipynb)"
   ]
  },
  {
   "cell_type": "markdown",
   "metadata": {},
   "source": [
    "Qualquer dúvida, poste no fórum da disciplina.\n",
    "### Te vejo na tutoria!"
   ]
  }
 ],
 "metadata": {
  "kernelspec": {
   "display_name": "Python 3 (ipykernel)",
   "language": "python",
   "name": "python3"
  },
  "language_info": {
   "codemirror_mode": {
    "name": "ipython",
    "version": 3
   },
   "file_extension": ".py",
   "mimetype": "text/x-python",
   "name": "python",
   "nbconvert_exporter": "python",
   "pygments_lexer": "ipython3",
   "version": "3.8.10"
  },
  "rise": {
   "autolaunch": true,
   "enable_chalkboard": true,
   "progress": true,
   "scroll": true,
   "slideNumber": true
  }
 },
 "nbformat": 4,
 "nbformat_minor": 4
}
